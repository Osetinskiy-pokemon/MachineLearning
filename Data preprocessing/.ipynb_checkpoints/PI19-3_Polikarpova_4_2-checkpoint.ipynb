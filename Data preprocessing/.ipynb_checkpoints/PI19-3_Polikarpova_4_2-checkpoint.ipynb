{
 "cells": [
  {
   "cell_type": "markdown",
   "metadata": {},
   "source": [
    "1. В начале анализа следует привести общую характеристику набора данных: количество наблюдений, признаков, предметная область, содержание признаков, характер целевой переменной, задача обучения (регрессия, классификация, количество классов).\n",
    "2. Провести в Jupyter средствами pandas, sklearn, seaborn описательный анализ выбранного набора включающего (но не ограниченного) следующие шаги:\n",
    "    - исследование шкалы измерения каждого существенного признака;\n",
    "    - построение эмпирического распределения каждого существенного признака;\n",
    "    - анализ количества и распределения отсутствующих значений;\n",
    "    - построение совместного распределения каждого признака и целевой переменной;\n",
    "    - построение корреляционной матрицы.\n",
    "3. По каждому пункту анализа необходимо сделать содержательный вывод.\n",
    "4. Провести подготовительную обработку данных, включающую следующие шаги:\n",
    "    - удаление или заполнение отсутствующих значений;\n",
    "    - приведение всех признаков к бинарной либо числовой шкале;\n",
    "    - удаление несущественных либо избыточных признаков;\n",
    "    - другие необходимые действия в зависимости от набора данных и задачи (группировка, удаление аномалий, и др.).\n",
    "5. Количественные характеристики датасета необходимо также привести после его обработки."
   ]
  },
  {
   "cell_type": "markdown",
   "metadata": {},
   "source": [
    "## В начале анализа следует привести общую характеристику набора данных: количество наблюдений, признаков, предметная область, содержание признаков, характер целевой переменной, задача обучения (регрессия, классификация, количество классов)."
   ]
  },
  {
   "cell_type": "markdown",
   "metadata": {},
   "source": [
    "1. В данном датасете представлены данные о пассажирах и членов команды, где:\n",
    "    - Gender:  пол пассажира\n",
    "    - Customer: тип клиента\n",
    "    - Age: возраст пассажира\n",
    "    - Type of Travel: Цель полета пассажира\n",
    "    - Class: класс места\n",
    "    - Flight Distance: расстояние полета  путешествия\n",
    "2. В датасете есть пустые значения.\n",
    "3. В дальнейшем после предобработки данных их можно обучить на модели классификации.\n"
   ]
  },
  {
   "cell_type": "code",
   "execution_count": 100,
   "metadata": {},
   "outputs": [
    {
     "data": {
      "text/html": [
       "<div>\n",
       "<style scoped>\n",
       "    .dataframe tbody tr th:only-of-type {\n",
       "        vertical-align: middle;\n",
       "    }\n",
       "\n",
       "    .dataframe tbody tr th {\n",
       "        vertical-align: top;\n",
       "    }\n",
       "\n",
       "    .dataframe thead th {\n",
       "        text-align: right;\n",
       "    }\n",
       "</style>\n",
       "<table border=\"1\" class=\"dataframe\">\n",
       "  <thead>\n",
       "    <tr style=\"text-align: right;\">\n",
       "      <th></th>\n",
       "      <th>id</th>\n",
       "      <th>Gender</th>\n",
       "      <th>Customer</th>\n",
       "      <th>Age</th>\n",
       "      <th>Type of Travel</th>\n",
       "      <th>Class</th>\n",
       "      <th>Flight Distance</th>\n",
       "    </tr>\n",
       "  </thead>\n",
       "  <tbody>\n",
       "    <tr>\n",
       "      <th>0</th>\n",
       "      <td>19556.0</td>\n",
       "      <td>Female</td>\n",
       "      <td>Loyal</td>\n",
       "      <td>52.0</td>\n",
       "      <td>Business</td>\n",
       "      <td>Eco</td>\n",
       "      <td>160.0</td>\n",
       "    </tr>\n",
       "    <tr>\n",
       "      <th>1</th>\n",
       "      <td>90035.0</td>\n",
       "      <td>Female</td>\n",
       "      <td>Loyal</td>\n",
       "      <td>36.0</td>\n",
       "      <td>Business</td>\n",
       "      <td>Business</td>\n",
       "      <td>2863.0</td>\n",
       "    </tr>\n",
       "    <tr>\n",
       "      <th>2</th>\n",
       "      <td>12360.0</td>\n",
       "      <td>Male</td>\n",
       "      <td>disloyal</td>\n",
       "      <td>20.0</td>\n",
       "      <td>Business</td>\n",
       "      <td>Eco</td>\n",
       "      <td>192.0</td>\n",
       "    </tr>\n",
       "    <tr>\n",
       "      <th>3</th>\n",
       "      <td>77959.0</td>\n",
       "      <td>Male</td>\n",
       "      <td>Loyal</td>\n",
       "      <td>44.0</td>\n",
       "      <td>Business</td>\n",
       "      <td>Business</td>\n",
       "      <td>3377.0</td>\n",
       "    </tr>\n",
       "    <tr>\n",
       "      <th>4</th>\n",
       "      <td>36875.0</td>\n",
       "      <td>Female</td>\n",
       "      <td>Loyal</td>\n",
       "      <td>49.0</td>\n",
       "      <td>Business</td>\n",
       "      <td>Eco</td>\n",
       "      <td>1182.0</td>\n",
       "    </tr>\n",
       "  </tbody>\n",
       "</table>\n",
       "</div>"
      ],
      "text/plain": [
       "        id  Gender  Customer   Age Type of Travel     Class  Flight Distance\n",
       "0  19556.0  Female     Loyal  52.0       Business       Eco            160.0\n",
       "1  90035.0  Female     Loyal  36.0       Business  Business           2863.0\n",
       "2  12360.0    Male  disloyal  20.0       Business       Eco            192.0\n",
       "3  77959.0    Male     Loyal  44.0       Business  Business           3377.0\n",
       "4  36875.0  Female     Loyal  49.0       Business       Eco           1182.0"
      ]
     },
     "execution_count": 100,
     "metadata": {},
     "output_type": "execute_result"
    }
   ],
   "source": [
    "import pandas as pd\n",
    "data = pd.read_csv('test.csv', sep = ';')\n",
    "\n",
    "data.head()"
   ]
  },
  {
   "cell_type": "code",
   "execution_count": 33,
   "metadata": {},
   "outputs": [
    {
     "data": {
      "text/html": [
       "<div>\n",
       "<style scoped>\n",
       "    .dataframe tbody tr th:only-of-type {\n",
       "        vertical-align: middle;\n",
       "    }\n",
       "\n",
       "    .dataframe tbody tr th {\n",
       "        vertical-align: top;\n",
       "    }\n",
       "\n",
       "    .dataframe thead th {\n",
       "        text-align: right;\n",
       "    }\n",
       "</style>\n",
       "<table border=\"1\" class=\"dataframe\">\n",
       "  <thead>\n",
       "    <tr style=\"text-align: right;\">\n",
       "      <th></th>\n",
       "      <th>id</th>\n",
       "      <th>Age</th>\n",
       "      <th>Flight Distance</th>\n",
       "    </tr>\n",
       "  </thead>\n",
       "  <tbody>\n",
       "    <tr>\n",
       "      <th>count</th>\n",
       "      <td>927.000000</td>\n",
       "      <td>880.000000</td>\n",
       "      <td>929.000000</td>\n",
       "    </tr>\n",
       "    <tr>\n",
       "      <th>mean</th>\n",
       "      <td>65974.875944</td>\n",
       "      <td>40.426136</td>\n",
       "      <td>1217.224973</td>\n",
       "    </tr>\n",
       "    <tr>\n",
       "      <th>std</th>\n",
       "      <td>37853.403375</td>\n",
       "      <td>15.424785</td>\n",
       "      <td>1019.625060</td>\n",
       "    </tr>\n",
       "    <tr>\n",
       "      <th>min</th>\n",
       "      <td>233.000000</td>\n",
       "      <td>7.000000</td>\n",
       "      <td>77.000000</td>\n",
       "    </tr>\n",
       "    <tr>\n",
       "      <th>25%</th>\n",
       "      <td>33455.000000</td>\n",
       "      <td>28.000000</td>\n",
       "      <td>406.000000</td>\n",
       "    </tr>\n",
       "    <tr>\n",
       "      <th>50%</th>\n",
       "      <td>66384.000000</td>\n",
       "      <td>42.000000</td>\n",
       "      <td>861.000000</td>\n",
       "    </tr>\n",
       "    <tr>\n",
       "      <th>75%</th>\n",
       "      <td>97860.500000</td>\n",
       "      <td>52.000000</td>\n",
       "      <td>1838.000000</td>\n",
       "    </tr>\n",
       "    <tr>\n",
       "      <th>max</th>\n",
       "      <td>129771.000000</td>\n",
       "      <td>80.000000</td>\n",
       "      <td>4817.000000</td>\n",
       "    </tr>\n",
       "  </tbody>\n",
       "</table>\n",
       "</div>"
      ],
      "text/plain": [
       "                  id         Age  Flight Distance\n",
       "count     927.000000  880.000000       929.000000\n",
       "mean    65974.875944   40.426136      1217.224973\n",
       "std     37853.403375   15.424785      1019.625060\n",
       "min       233.000000    7.000000        77.000000\n",
       "25%     33455.000000   28.000000       406.000000\n",
       "50%     66384.000000   42.000000       861.000000\n",
       "75%     97860.500000   52.000000      1838.000000\n",
       "max    129771.000000   80.000000      4817.000000"
      ]
     },
     "execution_count": 33,
     "metadata": {},
     "output_type": "execute_result"
    }
   ],
   "source": [
    "data.describe() # показывает статистики count,mean, std, min, 25%-50%-75% percentile, max "
   ]
  },
  {
   "cell_type": "markdown",
   "metadata": {},
   "source": [
    "1. Максильмальный возраст пассажира 80 лет\n",
    "2. Минимальный возраст пассжаира 7 лет\n",
    "3. Средний возраст пассажиров 40 лет\n",
    "4. Максимальная дистанция полета 4817 км\n",
    "5. Минимальная дистанция полета 77 км\n",
    "6. Среднее расстояние полета 1217 км"
   ]
  },
  {
   "cell_type": "code",
   "execution_count": 22,
   "metadata": {},
   "outputs": [
    {
     "name": "stdout",
     "output_type": "stream",
     "text": [
      "<class 'pandas.core.frame.DataFrame'>\n",
      "RangeIndex: 929 entries, 0 to 928\n",
      "Data columns (total 7 columns):\n",
      " #   Column           Non-Null Count  Dtype  \n",
      "---  ------           --------------  -----  \n",
      " 0   id               927 non-null    float64\n",
      " 1   Gender           910 non-null    object \n",
      " 2   Customer         890 non-null    object \n",
      " 3   Age              880 non-null    float64\n",
      " 4   Type of Travel   807 non-null    object \n",
      " 5   Class            851 non-null    object \n",
      " 6   Flight Distance  929 non-null    float64\n",
      "dtypes: float64(3), object(4)\n",
      "memory usage: 50.9+ KB\n"
     ]
    }
   ],
   "source": [
    "#информация о датасете\n",
    "#7 колонок, 929 записей\n",
    "data.info()"
   ]
  },
  {
   "cell_type": "markdown",
   "metadata": {},
   "source": [
    "## исследование шкалы измерения каждого существенного признака"
   ]
  },
  {
   "cell_type": "code",
   "execution_count": 9,
   "metadata": {},
   "outputs": [
    {
     "data": {
      "text/plain": [
       "'\\nдля признаков: id, flight distance, age\\nневозможно сделать шкалу измерения\\n'"
      ]
     },
     "execution_count": 9,
     "metadata": {},
     "output_type": "execute_result"
    }
   ],
   "source": [
    "\"\"\"\n",
    "для признаков: id, flight distance, age\n",
    "невозможно сделать шкалу измерения\n",
    "\"\"\"\n"
   ]
  },
  {
   "cell_type": "code",
   "execution_count": 35,
   "metadata": {},
   "outputs": [],
   "source": [
    "#приведение типов данных к виду строки\n",
    "data = data.astype(str)"
   ]
  },
  {
   "cell_type": "code",
   "execution_count": 11,
   "metadata": {},
   "outputs": [
    {
     "data": {
      "text/plain": [
       "(array([459.,   0.,   0.,   0.,   0., 451.,   0.,   0.,   0.,  19.]),\n",
       " array([0. , 0.2, 0.4, 0.6, 0.8, 1. , 1.2, 1.4, 1.6, 1.8, 2. ]),\n",
       " <BarContainer object of 10 artists>)"
      ]
     },
     "execution_count": 11,
     "metadata": {},
     "output_type": "execute_result"
    },
    {
     "data": {
      "image/png": "[encoded data removed]",
      "text/plain": [
       "<Figure size 432x288 with 1 Axes>"
      ]
     },
     "metadata": {
      "needs_background": "light"
     },
     "output_type": "display_data"
    }
   ],
   "source": [
    "import matplotlib\n",
    "import matplotlib.pyplot as plt\n",
    "%matplotlib inline \n",
    "\n",
    "#шкала изменения для ТИПА статьи\n",
    "plt.hist(data['Gender'], color = 'red')"
   ]
  },
  {
   "cell_type": "markdown",
   "metadata": {},
   "source": [
    "#### вывод: В столбце с полом есть 2 различных пола пассажиров (female и male) и nan(пустые значения); больше всего пассажиров мужского пола"
   ]
  },
  {
   "cell_type": "code",
   "execution_count": 13,
   "metadata": {},
   "outputs": [
    {
     "data": {
      "text/plain": [
       "(array([736.,   0.,   0.,   0.,   0., 154.,   0.,   0.,   0.,  39.]),\n",
       " array([0. , 0.2, 0.4, 0.6, 0.8, 1. , 1.2, 1.4, 1.6, 1.8, 2. ]),\n",
       " <BarContainer object of 10 artists>)"
      ]
     },
     "execution_count": 13,
     "metadata": {},
     "output_type": "execute_result"
    },
    {
     "data": {
      "image/png": "[encoded data removed]",
      "text/plain": [
       "<Figure size 432x288 with 1 Axes>"
      ]
     },
     "metadata": {
      "needs_background": "light"
     },
     "output_type": "display_data"
    }
   ],
   "source": [
    "#шкала измерения для типа пассажиров \n",
    "plt.hist(data['Customer'], color = 'orange')"
   ]
  },
  {
   "cell_type": "markdown",
   "metadata": {},
   "source": [
    "#### вывод: В столбце с лейблами есть 1 типа (customer) и nan(пустые значения)\n"
   ]
  },
  {
   "cell_type": "code",
   "execution_count": 80,
   "metadata": {},
   "outputs": [
    {
     "data": {
      "text/plain": [
       "(array([563.,   0.,   0.,   0.,   0., 122.,   0.,   0.,   0., 244.]),\n",
       " array([0. , 0.2, 0.4, 0.6, 0.8, 1. , 1.2, 1.4, 1.6, 1.8, 2. ]),\n",
       " <BarContainer object of 10 artists>)"
      ]
     },
     "execution_count": 80,
     "metadata": {},
     "output_type": "execute_result"
    },
    {
     "data": {
      "image/png": "[encoded data removed]",
      "text/plain": [
       "<Figure size 432x288 with 1 Axes>"
      ]
     },
     "metadata": {
      "needs_background": "light"
     },
     "output_type": "display_data"
    }
   ],
   "source": [
    "#шкала измерения для типа места\n",
    "plt.hist(data['Type of Travel'], color = 'yellow')"
   ]
  },
  {
   "cell_type": "markdown",
   "metadata": {},
   "source": [
    "#### вывод: В столбце с типами есть 2 типа (business, personal) и nan(пустые значения)"
   ]
  },
  {
   "cell_type": "code",
   "execution_count": 82,
   "metadata": {},
   "outputs": [
    {
     "data": {
      "text/plain": [
       "(array([454.,   0.,   0.,   0.,   0., 397.,   0.,   0.,   0.,  78.]),\n",
       " array([0. , 0.2, 0.4, 0.6, 0.8, 1. , 1.2, 1.4, 1.6, 1.8, 2. ]),\n",
       " <BarContainer object of 10 artists>)"
      ]
     },
     "execution_count": 82,
     "metadata": {},
     "output_type": "execute_result"
    },
    {
     "data": {
      "image/png": "[encoded data removed]",
      "text/plain": [
       "<Figure size 432x288 with 1 Axes>"
      ]
     },
     "metadata": {
      "needs_background": "light"
     },
     "output_type": "display_data"
    }
   ],
   "source": [
    "#шкала измерения для класса\n",
    "plt.hist(data['Class'], color = 'grey')"
   ]
  },
  {
   "cell_type": "markdown",
   "metadata": {},
   "source": [
    "#### вывод: В столбце с классами есть 2  вида класса (business, eco) и nan(пустые значения)"
   ]
  },
  {
   "cell_type": "markdown",
   "metadata": {},
   "source": [
    "## построение эмпирического распределения каждого существенного признака"
   ]
  },
  {
   "cell_type": "code",
   "execution_count": 5,
   "metadata": {},
   "outputs": [
    {
     "data": {
      "text/plain": [
       "<AxesSubplot:xlabel='Age', ylabel='Density'>"
      ]
     },
     "execution_count": 5,
     "metadata": {},
     "output_type": "execute_result"
    },
    {
     "data": {
      "image/png": "[encoded data removed]",
      "text/plain": [
       "<Figure size 432x288 with 1 Axes>"
      ]
     },
     "metadata": {
      "needs_background": "light"
     },
     "output_type": "display_data"
    }
   ],
   "source": [
    "import seaborn as sns\n",
    "\n",
    "#эмперическое распределение для атрибута Age (указан возраст пассажиров и членов экипажа)\n",
    "#возраст достигает 80+ лет\n",
    "\n",
    "\n",
    "sns.kdeplot(data['Age'], cumulative=True)"
   ]
  },
  {
   "cell_type": "code",
   "execution_count": 23,
   "metadata": {},
   "outputs": [
    {
     "data": {
      "text/plain": [
       "<AxesSubplot:xlabel='Flight Distance', ylabel='Density'>"
      ]
     },
     "execution_count": 23,
     "metadata": {},
     "output_type": "execute_result"
    },
    {
     "data": {
      "image/png": "[encoded data removed]",
      "text/plain": [
       "<Figure size 432x288 with 1 Axes>"
      ]
     },
     "metadata": {
      "needs_background": "light"
     },
     "output_type": "display_data"
    }
   ],
   "source": [
    "#эмперическое распределение для атрибута Flight Distance (дальность полета пассажиров)\n",
    "#самый дальний полет превышает 5000\n",
    "sns.kdeplot(data['Flight Distance'], cumulative=True)"
   ]
  },
  {
   "cell_type": "markdown",
   "metadata": {},
   "source": [
    "## анализ количества и распределения отсутствующих значений"
   ]
  },
  {
   "cell_type": "code",
   "execution_count": 24,
   "metadata": {},
   "outputs": [
    {
     "data": {
      "image/png": "[encoded data removed]",
      "text/plain": [
       "<Figure size 720x2160 with 13 Axes>"
      ]
     },
     "metadata": {
      "needs_background": "light"
     },
     "output_type": "display_data"
    }
   ],
   "source": [
    "#определение кол-ва пустых значений в каждом столбце\n",
    "import seaborn as sns\n",
    "ig, axs = plt.subplots(nrows=len(data.columns), figsize=(10,30))\n",
    "for i in range(len(data.columns)):\n",
    "    if data[data.columns[i]].isnull().sum():\n",
    "        sns.heatmap(data[data.columns[i]].isnull().values.reshape(-1,1), ax=axs[i]).set_title(data.columns[i])"
   ]
  },
  {
   "cell_type": "markdown",
   "metadata": {},
   "source": [
    "### Вывод:\n",
    "    - В столбцах Flight Distance и Id нет пустых значений\n",
    "    - больше всего пропусков  в Type of Travel  и Class "
   ]
  },
  {
   "cell_type": "markdown",
   "metadata": {},
   "source": [
    "## построение совместного распределения каждого признака и целевой переменной"
   ]
  },
  {
   "cell_type": "code",
   "execution_count": 46,
   "metadata": {},
   "outputs": [
    {
     "data": {
      "image/png": "[encoded data removed]",
      "text/plain": [
       "<Figure size 432x288 with 1 Axes>"
      ]
     },
     "metadata": {
      "needs_background": "light"
     },
     "output_type": "display_data"
    }
   ],
   "source": [
    "# график рассеивания между пассажирами и их возрастом\n",
    "fig, ax = plt.subplots()\n",
    "ax.scatter(x = data['Customer'], y =  data['Age'])\n",
    "plt.xlabel(\"Customer\")\n",
    "plt.ylabel(\"Age\")\n",
    "\n",
    "plt.show()"
   ]
  },
  {
   "cell_type": "code",
   "execution_count": 48,
   "metadata": {},
   "outputs": [
    {
     "data": {
      "image/png": "[encoded data removed]",
      "text/plain": [
       "<Figure size 432x288 with 1 Axes>"
      ]
     },
     "metadata": {
      "needs_background": "light"
     },
     "output_type": "display_data"
    }
   ],
   "source": [
    "# график рассеивания между классом в самолете и пола\n",
    "fig, ax = plt.subplots()\n",
    "ax.scatter(x = data['Class'], y =  data['Gender'])\n",
    "plt.xlabel(\"Class\")\n",
    "plt.ylabel(\"Gender\")\n",
    "\n",
    "plt.show()"
   ]
  },
  {
   "cell_type": "code",
   "execution_count": 55,
   "metadata": {},
   "outputs": [
    {
     "data": {
      "image/png": "[encoded data removed]",
      "text/plain": [
       "<Figure size 432x288 with 1 Axes>"
      ]
     },
     "metadata": {
      "needs_background": "light"
     },
     "output_type": "display_data"
    }
   ],
   "source": [
    "# график рассеивания между  расстоянием и целью полета\n",
    "fig, ax = plt.subplots()\n",
    "ax.scatter(y = data['Flight Distance'], x =  data['Type of Travel'])\n",
    "plt.ylabel(\"Flight Distance\")\n",
    "plt.xlabel(\"Type of Travel\")\n",
    "\n",
    "plt.show()"
   ]
  },
  {
   "cell_type": "markdown",
   "metadata": {},
   "source": [
    "## построение корреляционной матрицы"
   ]
  },
  {
   "cell_type": "code",
   "execution_count": 28,
   "metadata": {},
   "outputs": [
    {
     "data": {
      "text/plain": [
       "<AxesSubplot:>"
      ]
     },
     "execution_count": 28,
     "metadata": {},
     "output_type": "execute_result"
    },
    {
     "data": {
      "image/png": "[encoded data removed]",
      "text/plain": [
       "<Figure size 432x288 with 2 Axes>"
      ]
     },
     "metadata": {
      "needs_background": "light"
     },
     "output_type": "display_data"
    }
   ],
   "source": [
    "import seaborn as sn\n",
    "\n",
    "# Формирование корреляционной матрицы\n",
    "corr_matrix = data.loc[:,['id', 'Age','Flight Distance']].corr()\n",
    "\n",
    "#Использование тепловой карты для визуализации корреляционной матрицы\n",
    "sn.heatmap(corr_matrix, annot=True)"
   ]
  },
  {
   "cell_type": "markdown",
   "metadata": {},
   "source": [
    "#### Вывод: Все признаки имеют слабую корреляцию с целевой переменной"
   ]
  },
  {
   "cell_type": "markdown",
   "metadata": {},
   "source": [
    "## Провести подготовительную обработку данных"
   ]
  },
  {
   "cell_type": "markdown",
   "metadata": {},
   "source": [
    "#### В датасете много пустых значений, которые необходимо удалить"
   ]
  },
  {
   "cell_type": "code",
   "execution_count": 101,
   "metadata": {},
   "outputs": [],
   "source": [
    "for i in range(len(data.columns)):\n",
    "    data[data.columns[i]].replace('', np.nan, inplace=True)"
   ]
  },
  {
   "cell_type": "code",
   "execution_count": 102,
   "metadata": {},
   "outputs": [
    {
     "data": {
      "text/html": [
       "<div>\n",
       "<style scoped>\n",
       "    .dataframe tbody tr th:only-of-type {\n",
       "        vertical-align: middle;\n",
       "    }\n",
       "\n",
       "    .dataframe tbody tr th {\n",
       "        vertical-align: top;\n",
       "    }\n",
       "\n",
       "    .dataframe thead th {\n",
       "        text-align: right;\n",
       "    }\n",
       "</style>\n",
       "<table border=\"1\" class=\"dataframe\">\n",
       "  <thead>\n",
       "    <tr style=\"text-align: right;\">\n",
       "      <th></th>\n",
       "      <th>id</th>\n",
       "      <th>Gender</th>\n",
       "      <th>Customer</th>\n",
       "      <th>Age</th>\n",
       "      <th>Type of Travel</th>\n",
       "      <th>Class</th>\n",
       "      <th>Flight Distance</th>\n",
       "    </tr>\n",
       "  </thead>\n",
       "  <tbody>\n",
       "    <tr>\n",
       "      <th>0</th>\n",
       "      <td>19556.0</td>\n",
       "      <td>Female</td>\n",
       "      <td>Loyal</td>\n",
       "      <td>52.0</td>\n",
       "      <td>Business</td>\n",
       "      <td>Eco</td>\n",
       "      <td>160.0</td>\n",
       "    </tr>\n",
       "    <tr>\n",
       "      <th>1</th>\n",
       "      <td>90035.0</td>\n",
       "      <td>Female</td>\n",
       "      <td>Loyal</td>\n",
       "      <td>36.0</td>\n",
       "      <td>Business</td>\n",
       "      <td>Business</td>\n",
       "      <td>2863.0</td>\n",
       "    </tr>\n",
       "    <tr>\n",
       "      <th>2</th>\n",
       "      <td>12360.0</td>\n",
       "      <td>Male</td>\n",
       "      <td>disloyal</td>\n",
       "      <td>20.0</td>\n",
       "      <td>Business</td>\n",
       "      <td>Eco</td>\n",
       "      <td>192.0</td>\n",
       "    </tr>\n",
       "    <tr>\n",
       "      <th>3</th>\n",
       "      <td>77959.0</td>\n",
       "      <td>Male</td>\n",
       "      <td>Loyal</td>\n",
       "      <td>44.0</td>\n",
       "      <td>Business</td>\n",
       "      <td>Business</td>\n",
       "      <td>3377.0</td>\n",
       "    </tr>\n",
       "    <tr>\n",
       "      <th>4</th>\n",
       "      <td>36875.0</td>\n",
       "      <td>Female</td>\n",
       "      <td>Loyal</td>\n",
       "      <td>49.0</td>\n",
       "      <td>Business</td>\n",
       "      <td>Eco</td>\n",
       "      <td>1182.0</td>\n",
       "    </tr>\n",
       "    <tr>\n",
       "      <th>...</th>\n",
       "      <td>...</td>\n",
       "      <td>...</td>\n",
       "      <td>...</td>\n",
       "      <td>...</td>\n",
       "      <td>...</td>\n",
       "      <td>...</td>\n",
       "      <td>...</td>\n",
       "    </tr>\n",
       "    <tr>\n",
       "      <th>924</th>\n",
       "      <td>3189.0</td>\n",
       "      <td>Male</td>\n",
       "      <td>Loyal</td>\n",
       "      <td>39.0</td>\n",
       "      <td>Business</td>\n",
       "      <td>Business</td>\n",
       "      <td>185.0</td>\n",
       "    </tr>\n",
       "    <tr>\n",
       "      <th>925</th>\n",
       "      <td>26509.0</td>\n",
       "      <td>Male</td>\n",
       "      <td>Loyal</td>\n",
       "      <td>48.0</td>\n",
       "      <td>Personal</td>\n",
       "      <td>Eco</td>\n",
       "      <td>829.0</td>\n",
       "    </tr>\n",
       "    <tr>\n",
       "      <th>926</th>\n",
       "      <td>38521.0</td>\n",
       "      <td>Male</td>\n",
       "      <td>Loyal</td>\n",
       "      <td>44.0</td>\n",
       "      <td>Business</td>\n",
       "      <td>Eco</td>\n",
       "      <td>2446.0</td>\n",
       "    </tr>\n",
       "    <tr>\n",
       "      <th>927</th>\n",
       "      <td>11753.0</td>\n",
       "      <td>Male</td>\n",
       "      <td>Loyal</td>\n",
       "      <td>31.0</td>\n",
       "      <td>Business</td>\n",
       "      <td>Eco</td>\n",
       "      <td>395.0</td>\n",
       "    </tr>\n",
       "    <tr>\n",
       "      <th>928</th>\n",
       "      <td>45683.0</td>\n",
       "      <td>Female</td>\n",
       "      <td>Loyal</td>\n",
       "      <td>37.0</td>\n",
       "      <td>Business</td>\n",
       "      <td>Business</td>\n",
       "      <td>2861.0</td>\n",
       "    </tr>\n",
       "  </tbody>\n",
       "</table>\n",
       "<p>768 rows × 7 columns</p>\n",
       "</div>"
      ],
      "text/plain": [
       "          id  Gender  Customer   Age Type of Travel     Class  Flight Distance\n",
       "0    19556.0  Female     Loyal  52.0       Business       Eco            160.0\n",
       "1    90035.0  Female     Loyal  36.0       Business  Business           2863.0\n",
       "2    12360.0    Male  disloyal  20.0       Business       Eco            192.0\n",
       "3    77959.0    Male     Loyal  44.0       Business  Business           3377.0\n",
       "4    36875.0  Female     Loyal  49.0       Business       Eco           1182.0\n",
       "..       ...     ...       ...   ...            ...       ...              ...\n",
       "924   3189.0    Male     Loyal  39.0       Business  Business            185.0\n",
       "925  26509.0    Male     Loyal  48.0       Personal       Eco            829.0\n",
       "926  38521.0    Male     Loyal  44.0       Business       Eco           2446.0\n",
       "927  11753.0    Male     Loyal  31.0       Business       Eco            395.0\n",
       "928  45683.0  Female     Loyal  37.0       Business  Business           2861.0\n",
       "\n",
       "[768 rows x 7 columns]"
      ]
     },
     "execution_count": 102,
     "metadata": {},
     "output_type": "execute_result"
    }
   ],
   "source": [
    "# удаление пустых значений\n",
    "data.dropna(subset=['id', 'Gender', 'Customer', 'Age',\n",
    "                    'Type of Travel', 'Class', 'Flight Distance'], inplace=True)\n",
    "data"
   ]
  },
  {
   "cell_type": "markdown",
   "metadata": {},
   "source": [
    "#### В столбце Customer данные представлены с разными регистрами и их необходиму привести к одному регистру, я приведу к верхнему, тк во всех остальных столбцах весь текст представлен с большой буквы"
   ]
  },
  {
   "cell_type": "code",
   "execution_count": 103,
   "metadata": {},
   "outputs": [],
   "source": [
    "data['Customer'] = data['Customer'].str.upper()"
   ]
  },
  {
   "cell_type": "code",
   "execution_count": 104,
   "metadata": {},
   "outputs": [
    {
     "data": {
      "text/html": [
       "<div>\n",
       "<style scoped>\n",
       "    .dataframe tbody tr th:only-of-type {\n",
       "        vertical-align: middle;\n",
       "    }\n",
       "\n",
       "    .dataframe tbody tr th {\n",
       "        vertical-align: top;\n",
       "    }\n",
       "\n",
       "    .dataframe thead th {\n",
       "        text-align: right;\n",
       "    }\n",
       "</style>\n",
       "<table border=\"1\" class=\"dataframe\">\n",
       "  <thead>\n",
       "    <tr style=\"text-align: right;\">\n",
       "      <th></th>\n",
       "      <th>id</th>\n",
       "      <th>Gender</th>\n",
       "      <th>Customer</th>\n",
       "      <th>Age</th>\n",
       "      <th>Type of Travel</th>\n",
       "      <th>Class</th>\n",
       "      <th>Flight Distance</th>\n",
       "    </tr>\n",
       "  </thead>\n",
       "  <tbody>\n",
       "    <tr>\n",
       "      <th>0</th>\n",
       "      <td>19556.0</td>\n",
       "      <td>Female</td>\n",
       "      <td>LOYAL</td>\n",
       "      <td>52.0</td>\n",
       "      <td>Business</td>\n",
       "      <td>Eco</td>\n",
       "      <td>160.0</td>\n",
       "    </tr>\n",
       "    <tr>\n",
       "      <th>1</th>\n",
       "      <td>90035.0</td>\n",
       "      <td>Female</td>\n",
       "      <td>LOYAL</td>\n",
       "      <td>36.0</td>\n",
       "      <td>Business</td>\n",
       "      <td>Business</td>\n",
       "      <td>2863.0</td>\n",
       "    </tr>\n",
       "    <tr>\n",
       "      <th>2</th>\n",
       "      <td>12360.0</td>\n",
       "      <td>Male</td>\n",
       "      <td>DISLOYAL</td>\n",
       "      <td>20.0</td>\n",
       "      <td>Business</td>\n",
       "      <td>Eco</td>\n",
       "      <td>192.0</td>\n",
       "    </tr>\n",
       "    <tr>\n",
       "      <th>3</th>\n",
       "      <td>77959.0</td>\n",
       "      <td>Male</td>\n",
       "      <td>LOYAL</td>\n",
       "      <td>44.0</td>\n",
       "      <td>Business</td>\n",
       "      <td>Business</td>\n",
       "      <td>3377.0</td>\n",
       "    </tr>\n",
       "    <tr>\n",
       "      <th>4</th>\n",
       "      <td>36875.0</td>\n",
       "      <td>Female</td>\n",
       "      <td>LOYAL</td>\n",
       "      <td>49.0</td>\n",
       "      <td>Business</td>\n",
       "      <td>Eco</td>\n",
       "      <td>1182.0</td>\n",
       "    </tr>\n",
       "    <tr>\n",
       "      <th>...</th>\n",
       "      <td>...</td>\n",
       "      <td>...</td>\n",
       "      <td>...</td>\n",
       "      <td>...</td>\n",
       "      <td>...</td>\n",
       "      <td>...</td>\n",
       "      <td>...</td>\n",
       "    </tr>\n",
       "    <tr>\n",
       "      <th>924</th>\n",
       "      <td>3189.0</td>\n",
       "      <td>Male</td>\n",
       "      <td>LOYAL</td>\n",
       "      <td>39.0</td>\n",
       "      <td>Business</td>\n",
       "      <td>Business</td>\n",
       "      <td>185.0</td>\n",
       "    </tr>\n",
       "    <tr>\n",
       "      <th>925</th>\n",
       "      <td>26509.0</td>\n",
       "      <td>Male</td>\n",
       "      <td>LOYAL</td>\n",
       "      <td>48.0</td>\n",
       "      <td>Personal</td>\n",
       "      <td>Eco</td>\n",
       "      <td>829.0</td>\n",
       "    </tr>\n",
       "    <tr>\n",
       "      <th>926</th>\n",
       "      <td>38521.0</td>\n",
       "      <td>Male</td>\n",
       "      <td>LOYAL</td>\n",
       "      <td>44.0</td>\n",
       "      <td>Business</td>\n",
       "      <td>Eco</td>\n",
       "      <td>2446.0</td>\n",
       "    </tr>\n",
       "    <tr>\n",
       "      <th>927</th>\n",
       "      <td>11753.0</td>\n",
       "      <td>Male</td>\n",
       "      <td>LOYAL</td>\n",
       "      <td>31.0</td>\n",
       "      <td>Business</td>\n",
       "      <td>Eco</td>\n",
       "      <td>395.0</td>\n",
       "    </tr>\n",
       "    <tr>\n",
       "      <th>928</th>\n",
       "      <td>45683.0</td>\n",
       "      <td>Female</td>\n",
       "      <td>LOYAL</td>\n",
       "      <td>37.0</td>\n",
       "      <td>Business</td>\n",
       "      <td>Business</td>\n",
       "      <td>2861.0</td>\n",
       "    </tr>\n",
       "  </tbody>\n",
       "</table>\n",
       "<p>768 rows × 7 columns</p>\n",
       "</div>"
      ],
      "text/plain": [
       "          id  Gender  Customer   Age Type of Travel     Class  Flight Distance\n",
       "0    19556.0  Female     LOYAL  52.0       Business       Eco            160.0\n",
       "1    90035.0  Female     LOYAL  36.0       Business  Business           2863.0\n",
       "2    12360.0    Male  DISLOYAL  20.0       Business       Eco            192.0\n",
       "3    77959.0    Male     LOYAL  44.0       Business  Business           3377.0\n",
       "4    36875.0  Female     LOYAL  49.0       Business       Eco           1182.0\n",
       "..       ...     ...       ...   ...            ...       ...              ...\n",
       "924   3189.0    Male     LOYAL  39.0       Business  Business            185.0\n",
       "925  26509.0    Male     LOYAL  48.0       Personal       Eco            829.0\n",
       "926  38521.0    Male     LOYAL  44.0       Business       Eco           2446.0\n",
       "927  11753.0    Male     LOYAL  31.0       Business       Eco            395.0\n",
       "928  45683.0  Female     LOYAL  37.0       Business  Business           2861.0\n",
       "\n",
       "[768 rows x 7 columns]"
      ]
     },
     "execution_count": 104,
     "metadata": {},
     "output_type": "execute_result"
    }
   ],
   "source": [
    "data"
   ]
  },
  {
   "cell_type": "code",
   "execution_count": 105,
   "metadata": {},
   "outputs": [],
   "source": [
    "new_data = data"
   ]
  },
  {
   "cell_type": "code",
   "execution_count": 106,
   "metadata": {},
   "outputs": [
    {
     "data": {
      "text/html": [
       "<div>\n",
       "<style scoped>\n",
       "    .dataframe tbody tr th:only-of-type {\n",
       "        vertical-align: middle;\n",
       "    }\n",
       "\n",
       "    .dataframe tbody tr th {\n",
       "        vertical-align: top;\n",
       "    }\n",
       "\n",
       "    .dataframe thead th {\n",
       "        text-align: right;\n",
       "    }\n",
       "</style>\n",
       "<table border=\"1\" class=\"dataframe\">\n",
       "  <thead>\n",
       "    <tr style=\"text-align: right;\">\n",
       "      <th></th>\n",
       "      <th>id</th>\n",
       "      <th>Gender</th>\n",
       "      <th>Customer</th>\n",
       "      <th>Age</th>\n",
       "      <th>Type of Travel</th>\n",
       "      <th>Class</th>\n",
       "      <th>Flight Distance</th>\n",
       "    </tr>\n",
       "  </thead>\n",
       "  <tbody>\n",
       "    <tr>\n",
       "      <th>0</th>\n",
       "      <td>19556.0</td>\n",
       "      <td>Female</td>\n",
       "      <td>LOYAL</td>\n",
       "      <td>52.0</td>\n",
       "      <td>Business</td>\n",
       "      <td>Eco</td>\n",
       "      <td>160.0</td>\n",
       "    </tr>\n",
       "    <tr>\n",
       "      <th>1</th>\n",
       "      <td>90035.0</td>\n",
       "      <td>Female</td>\n",
       "      <td>LOYAL</td>\n",
       "      <td>36.0</td>\n",
       "      <td>Business</td>\n",
       "      <td>Business</td>\n",
       "      <td>2863.0</td>\n",
       "    </tr>\n",
       "    <tr>\n",
       "      <th>2</th>\n",
       "      <td>12360.0</td>\n",
       "      <td>Male</td>\n",
       "      <td>DISLOYAL</td>\n",
       "      <td>20.0</td>\n",
       "      <td>Business</td>\n",
       "      <td>Eco</td>\n",
       "      <td>192.0</td>\n",
       "    </tr>\n",
       "    <tr>\n",
       "      <th>3</th>\n",
       "      <td>77959.0</td>\n",
       "      <td>Male</td>\n",
       "      <td>LOYAL</td>\n",
       "      <td>44.0</td>\n",
       "      <td>Business</td>\n",
       "      <td>Business</td>\n",
       "      <td>3377.0</td>\n",
       "    </tr>\n",
       "    <tr>\n",
       "      <th>4</th>\n",
       "      <td>36875.0</td>\n",
       "      <td>Female</td>\n",
       "      <td>LOYAL</td>\n",
       "      <td>49.0</td>\n",
       "      <td>Business</td>\n",
       "      <td>Eco</td>\n",
       "      <td>1182.0</td>\n",
       "    </tr>\n",
       "    <tr>\n",
       "      <th>...</th>\n",
       "      <td>...</td>\n",
       "      <td>...</td>\n",
       "      <td>...</td>\n",
       "      <td>...</td>\n",
       "      <td>...</td>\n",
       "      <td>...</td>\n",
       "      <td>...</td>\n",
       "    </tr>\n",
       "    <tr>\n",
       "      <th>924</th>\n",
       "      <td>3189.0</td>\n",
       "      <td>Male</td>\n",
       "      <td>LOYAL</td>\n",
       "      <td>39.0</td>\n",
       "      <td>Business</td>\n",
       "      <td>Business</td>\n",
       "      <td>185.0</td>\n",
       "    </tr>\n",
       "    <tr>\n",
       "      <th>925</th>\n",
       "      <td>26509.0</td>\n",
       "      <td>Male</td>\n",
       "      <td>LOYAL</td>\n",
       "      <td>48.0</td>\n",
       "      <td>Personal</td>\n",
       "      <td>Eco</td>\n",
       "      <td>829.0</td>\n",
       "    </tr>\n",
       "    <tr>\n",
       "      <th>926</th>\n",
       "      <td>38521.0</td>\n",
       "      <td>Male</td>\n",
       "      <td>LOYAL</td>\n",
       "      <td>44.0</td>\n",
       "      <td>Business</td>\n",
       "      <td>Eco</td>\n",
       "      <td>2446.0</td>\n",
       "    </tr>\n",
       "    <tr>\n",
       "      <th>927</th>\n",
       "      <td>11753.0</td>\n",
       "      <td>Male</td>\n",
       "      <td>LOYAL</td>\n",
       "      <td>31.0</td>\n",
       "      <td>Business</td>\n",
       "      <td>Eco</td>\n",
       "      <td>395.0</td>\n",
       "    </tr>\n",
       "    <tr>\n",
       "      <th>928</th>\n",
       "      <td>45683.0</td>\n",
       "      <td>Female</td>\n",
       "      <td>LOYAL</td>\n",
       "      <td>37.0</td>\n",
       "      <td>Business</td>\n",
       "      <td>Business</td>\n",
       "      <td>2861.0</td>\n",
       "    </tr>\n",
       "  </tbody>\n",
       "</table>\n",
       "<p>768 rows × 7 columns</p>\n",
       "</div>"
      ],
      "text/plain": [
       "          id  Gender  Customer   Age Type of Travel     Class  Flight Distance\n",
       "0    19556.0  Female     LOYAL  52.0       Business       Eco            160.0\n",
       "1    90035.0  Female     LOYAL  36.0       Business  Business           2863.0\n",
       "2    12360.0    Male  DISLOYAL  20.0       Business       Eco            192.0\n",
       "3    77959.0    Male     LOYAL  44.0       Business  Business           3377.0\n",
       "4    36875.0  Female     LOYAL  49.0       Business       Eco           1182.0\n",
       "..       ...     ...       ...   ...            ...       ...              ...\n",
       "924   3189.0    Male     LOYAL  39.0       Business  Business            185.0\n",
       "925  26509.0    Male     LOYAL  48.0       Personal       Eco            829.0\n",
       "926  38521.0    Male     LOYAL  44.0       Business       Eco           2446.0\n",
       "927  11753.0    Male     LOYAL  31.0       Business       Eco            395.0\n",
       "928  45683.0  Female     LOYAL  37.0       Business  Business           2861.0\n",
       "\n",
       "[768 rows x 7 columns]"
      ]
     },
     "execution_count": 106,
     "metadata": {},
     "output_type": "execute_result"
    }
   ],
   "source": [
    "new_data"
   ]
  },
  {
   "cell_type": "markdown",
   "metadata": {},
   "source": [
    "#### Колонку с id можно удалить, так как она никак не повлияет на обучение в дальнейшем "
   ]
  },
  {
   "cell_type": "code",
   "execution_count": 109,
   "metadata": {},
   "outputs": [],
   "source": [
    "new_data = new_data.drop(columns = ['id'],axis = 1)"
   ]
  },
  {
   "cell_type": "code",
   "execution_count": 110,
   "metadata": {},
   "outputs": [
    {
     "data": {
      "text/html": [
       "<div>\n",
       "<style scoped>\n",
       "    .dataframe tbody tr th:only-of-type {\n",
       "        vertical-align: middle;\n",
       "    }\n",
       "\n",
       "    .dataframe tbody tr th {\n",
       "        vertical-align: top;\n",
       "    }\n",
       "\n",
       "    .dataframe thead th {\n",
       "        text-align: right;\n",
       "    }\n",
       "</style>\n",
       "<table border=\"1\" class=\"dataframe\">\n",
       "  <thead>\n",
       "    <tr style=\"text-align: right;\">\n",
       "      <th></th>\n",
       "      <th>Gender</th>\n",
       "      <th>Customer</th>\n",
       "      <th>Age</th>\n",
       "      <th>Type of Travel</th>\n",
       "      <th>Class</th>\n",
       "      <th>Flight Distance</th>\n",
       "    </tr>\n",
       "  </thead>\n",
       "  <tbody>\n",
       "    <tr>\n",
       "      <th>0</th>\n",
       "      <td>Female</td>\n",
       "      <td>LOYAL</td>\n",
       "      <td>52.0</td>\n",
       "      <td>Business</td>\n",
       "      <td>Eco</td>\n",
       "      <td>160.0</td>\n",
       "    </tr>\n",
       "    <tr>\n",
       "      <th>1</th>\n",
       "      <td>Female</td>\n",
       "      <td>LOYAL</td>\n",
       "      <td>36.0</td>\n",
       "      <td>Business</td>\n",
       "      <td>Business</td>\n",
       "      <td>2863.0</td>\n",
       "    </tr>\n",
       "    <tr>\n",
       "      <th>2</th>\n",
       "      <td>Male</td>\n",
       "      <td>DISLOYAL</td>\n",
       "      <td>20.0</td>\n",
       "      <td>Business</td>\n",
       "      <td>Eco</td>\n",
       "      <td>192.0</td>\n",
       "    </tr>\n",
       "    <tr>\n",
       "      <th>3</th>\n",
       "      <td>Male</td>\n",
       "      <td>LOYAL</td>\n",
       "      <td>44.0</td>\n",
       "      <td>Business</td>\n",
       "      <td>Business</td>\n",
       "      <td>3377.0</td>\n",
       "    </tr>\n",
       "    <tr>\n",
       "      <th>4</th>\n",
       "      <td>Female</td>\n",
       "      <td>LOYAL</td>\n",
       "      <td>49.0</td>\n",
       "      <td>Business</td>\n",
       "      <td>Eco</td>\n",
       "      <td>1182.0</td>\n",
       "    </tr>\n",
       "    <tr>\n",
       "      <th>...</th>\n",
       "      <td>...</td>\n",
       "      <td>...</td>\n",
       "      <td>...</td>\n",
       "      <td>...</td>\n",
       "      <td>...</td>\n",
       "      <td>...</td>\n",
       "    </tr>\n",
       "    <tr>\n",
       "      <th>924</th>\n",
       "      <td>Male</td>\n",
       "      <td>LOYAL</td>\n",
       "      <td>39.0</td>\n",
       "      <td>Business</td>\n",
       "      <td>Business</td>\n",
       "      <td>185.0</td>\n",
       "    </tr>\n",
       "    <tr>\n",
       "      <th>925</th>\n",
       "      <td>Male</td>\n",
       "      <td>LOYAL</td>\n",
       "      <td>48.0</td>\n",
       "      <td>Personal</td>\n",
       "      <td>Eco</td>\n",
       "      <td>829.0</td>\n",
       "    </tr>\n",
       "    <tr>\n",
       "      <th>926</th>\n",
       "      <td>Male</td>\n",
       "      <td>LOYAL</td>\n",
       "      <td>44.0</td>\n",
       "      <td>Business</td>\n",
       "      <td>Eco</td>\n",
       "      <td>2446.0</td>\n",
       "    </tr>\n",
       "    <tr>\n",
       "      <th>927</th>\n",
       "      <td>Male</td>\n",
       "      <td>LOYAL</td>\n",
       "      <td>31.0</td>\n",
       "      <td>Business</td>\n",
       "      <td>Eco</td>\n",
       "      <td>395.0</td>\n",
       "    </tr>\n",
       "    <tr>\n",
       "      <th>928</th>\n",
       "      <td>Female</td>\n",
       "      <td>LOYAL</td>\n",
       "      <td>37.0</td>\n",
       "      <td>Business</td>\n",
       "      <td>Business</td>\n",
       "      <td>2861.0</td>\n",
       "    </tr>\n",
       "  </tbody>\n",
       "</table>\n",
       "<p>768 rows × 6 columns</p>\n",
       "</div>"
      ],
      "text/plain": [
       "     Gender  Customer   Age Type of Travel     Class  Flight Distance\n",
       "0    Female     LOYAL  52.0       Business       Eco            160.0\n",
       "1    Female     LOYAL  36.0       Business  Business           2863.0\n",
       "2      Male  DISLOYAL  20.0       Business       Eco            192.0\n",
       "3      Male     LOYAL  44.0       Business  Business           3377.0\n",
       "4    Female     LOYAL  49.0       Business       Eco           1182.0\n",
       "..      ...       ...   ...            ...       ...              ...\n",
       "924    Male     LOYAL  39.0       Business  Business            185.0\n",
       "925    Male     LOYAL  48.0       Personal       Eco            829.0\n",
       "926    Male     LOYAL  44.0       Business       Eco           2446.0\n",
       "927    Male     LOYAL  31.0       Business       Eco            395.0\n",
       "928  Female     LOYAL  37.0       Business  Business           2861.0\n",
       "\n",
       "[768 rows x 6 columns]"
      ]
     },
     "execution_count": 110,
     "metadata": {},
     "output_type": "execute_result"
    }
   ],
   "source": [
    "new_data"
   ]
  },
  {
   "cell_type": "markdown",
   "metadata": {},
   "source": [
    "## Количественные характеристики датасета после обработки"
   ]
  },
  {
   "cell_type": "code",
   "execution_count": 111,
   "metadata": {},
   "outputs": [
    {
     "name": "stdout",
     "output_type": "stream",
     "text": [
      "<class 'pandas.core.frame.DataFrame'>\n",
      "Int64Index: 768 entries, 0 to 928\n",
      "Data columns (total 6 columns):\n",
      " #   Column           Non-Null Count  Dtype  \n",
      "---  ------           --------------  -----  \n",
      " 0   Gender           768 non-null    object \n",
      " 1   Customer         768 non-null    object \n",
      " 2   Age              768 non-null    float64\n",
      " 3   Type of Travel   768 non-null    object \n",
      " 4   Class            768 non-null    object \n",
      " 5   Flight Distance  768 non-null    float64\n",
      "dtypes: float64(2), object(4)\n",
      "memory usage: 42.0+ KB\n"
     ]
    }
   ],
   "source": [
    "new_data.info()"
   ]
  },
  {
   "cell_type": "code",
   "execution_count": 112,
   "metadata": {},
   "outputs": [
    {
     "data": {
      "text/html": [
       "<div>\n",
       "<style scoped>\n",
       "    .dataframe tbody tr th:only-of-type {\n",
       "        vertical-align: middle;\n",
       "    }\n",
       "\n",
       "    .dataframe tbody tr th {\n",
       "        vertical-align: top;\n",
       "    }\n",
       "\n",
       "    .dataframe thead th {\n",
       "        text-align: right;\n",
       "    }\n",
       "</style>\n",
       "<table border=\"1\" class=\"dataframe\">\n",
       "  <thead>\n",
       "    <tr style=\"text-align: right;\">\n",
       "      <th></th>\n",
       "      <th>Age</th>\n",
       "      <th>Flight Distance</th>\n",
       "    </tr>\n",
       "  </thead>\n",
       "  <tbody>\n",
       "    <tr>\n",
       "      <th>count</th>\n",
       "      <td>768.000000</td>\n",
       "      <td>768.000000</td>\n",
       "    </tr>\n",
       "    <tr>\n",
       "      <th>mean</th>\n",
       "      <td>40.289062</td>\n",
       "      <td>1197.410156</td>\n",
       "    </tr>\n",
       "    <tr>\n",
       "      <th>std</th>\n",
       "      <td>15.605545</td>\n",
       "      <td>1003.017914</td>\n",
       "    </tr>\n",
       "    <tr>\n",
       "      <th>min</th>\n",
       "      <td>7.000000</td>\n",
       "      <td>77.000000</td>\n",
       "    </tr>\n",
       "    <tr>\n",
       "      <th>25%</th>\n",
       "      <td>27.000000</td>\n",
       "      <td>407.500000</td>\n",
       "    </tr>\n",
       "    <tr>\n",
       "      <th>50%</th>\n",
       "      <td>41.000000</td>\n",
       "      <td>850.500000</td>\n",
       "    </tr>\n",
       "    <tr>\n",
       "      <th>75%</th>\n",
       "      <td>52.000000</td>\n",
       "      <td>1774.250000</td>\n",
       "    </tr>\n",
       "    <tr>\n",
       "      <th>max</th>\n",
       "      <td>80.000000</td>\n",
       "      <td>4817.000000</td>\n",
       "    </tr>\n",
       "  </tbody>\n",
       "</table>\n",
       "</div>"
      ],
      "text/plain": [
       "              Age  Flight Distance\n",
       "count  768.000000       768.000000\n",
       "mean    40.289062      1197.410156\n",
       "std     15.605545      1003.017914\n",
       "min      7.000000        77.000000\n",
       "25%     27.000000       407.500000\n",
       "50%     41.000000       850.500000\n",
       "75%     52.000000      1774.250000\n",
       "max     80.000000      4817.000000"
      ]
     },
     "execution_count": 112,
     "metadata": {},
     "output_type": "execute_result"
    }
   ],
   "source": [
    "new_data.describe()"
   ]
  },
  {
   "cell_type": "markdown",
   "metadata": {},
   "source": [
    "#### Вывод: \n",
    "    - стало 6 колонок, вместо 7\n",
    "    - количество записей уменьшилось, теперь их 768\n",
    "    - describe() считается теперь только по двум показателяем (Age и Flight Distance)\n",
    "    - средняя дистация полета было 1217 км, стала 1197 км\n",
    "    - средний возраст пассажиров остался преждним (40 лет)"
   ]
  },
  {
   "cell_type": "code",
   "execution_count": null,
   "metadata": {},
   "outputs": [],
   "source": []
  }
 ],
 "metadata": {
  "kernelspec": {
   "display_name": "Python 3 (ipykernel)",
   "language": "python",
   "name": "python3"
  },
  "language_info": {
   "codemirror_mode": {
    "name": "ipython",
    "version": 3
   },
   "file_extension": ".py",
   "mimetype": "text/x-python",
   "name": "python",
   "nbconvert_exporter": "python",
   "pygments_lexer": "ipython3",
   "version": "3.9.7"
  }
 },
 "nbformat": 4,
 "nbformat_minor": 4
}
