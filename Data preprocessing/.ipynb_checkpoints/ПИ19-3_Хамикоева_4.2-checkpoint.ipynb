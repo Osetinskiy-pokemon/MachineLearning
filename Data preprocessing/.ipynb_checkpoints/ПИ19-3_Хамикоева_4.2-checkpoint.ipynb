{
 "cells": [
  {
   "cell_type": "markdown",
   "id": "50ec6e88",
   "metadata": {},
   "source": [
    "## Хамикоева Ольга, ПИ19-3, Предварительная обработка данных\n",
    "### Задания для выполнения:\n",
    "1. На сайте https://www.kaggle.com/datasets выбрать набор данных каждому студенту индивидуально. Лучше всего выбирать датасеты в предметной области исходя из личных предпочтений. Не стоит выбирать слишком большие наборы данных (лучше не более 100 Мб). \n",
    "2. В начале анализа следует привести общую характеристику набора данных: количество наблюдений, признаков, предметная область, содержание признаков, характер целевой переменной, задача обучения (регрессия, классификация, количество классов).\n",
    "3. Провести в Jupyter средствами pandas, sklearn, seaborn описательный анализ выбранного набора включающего (но не ограниченного) следующие шаги:\n",
    "* исследование шкалы измерения каждого существенного признака;\n",
    "* построение эмпирического распределения каждого существенного признака;\n",
    "* анализ количества и распределения отсутствующих значений;\n",
    "* построение совместного распределения каждого признака и целевой переменной;\n",
    "* построение корреляционной матрицы.\n",
    "4. По каждому пункту анализа необходимо сделать содержательный вывод.\n",
    "5. Провести подготовительную обработку данных, включающую следующие шаги:\n",
    "* удаление или заполнение отсутствующих значений;\n",
    "* приведение всех признаков к бинарной либо числовой шкале;\n",
    "* удаление несущественных либо избыточных признаков;\n",
    "* другие необходимые действия в зависимости от набора данных и задачи (группировка, удаление аномалий, и др.).\n",
    "6. Количественные характеристики датасета необходимо также привести после его обработки."
   ]
  },
  {
   "cell_type": "code",
   "execution_count": 1,
   "id": "5e923d3e",
   "metadata": {},
   "outputs": [],
   "source": [
    "#Здесь будут все импортируемые модули и библиотеки\n",
    "import pandas as pd\n",
    "import matplotlib.pyplot as plt\n",
    "import seaborn as sns\n",
    "import numpy as np\n",
    "import random\n",
    "from sklearn.datasets import load_breast_cancer\n",
    "\n",
    "import warnings\n",
    "warnings.filterwarnings('ignore')"
   ]
  },
  {
   "cell_type": "code",
   "execution_count": 2,
   "id": "78216e76",
   "metadata": {},
   "outputs": [
    {
     "data": {
      "text/html": [
       "<div>\n",
       "<style scoped>\n",
       "    .dataframe tbody tr th:only-of-type {\n",
       "        vertical-align: middle;\n",
       "    }\n",
       "\n",
       "    .dataframe tbody tr th {\n",
       "        vertical-align: top;\n",
       "    }\n",
       "\n",
       "    .dataframe thead th {\n",
       "        text-align: right;\n",
       "    }\n",
       "</style>\n",
       "<table border=\"1\" class=\"dataframe\">\n",
       "  <thead>\n",
       "    <tr style=\"text-align: right;\">\n",
       "      <th></th>\n",
       "      <th>user_name</th>\n",
       "      <th>user_location</th>\n",
       "      <th>user_description</th>\n",
       "      <th>user_created</th>\n",
       "      <th>user_followers</th>\n",
       "      <th>user_friends</th>\n",
       "      <th>user_favourites</th>\n",
       "      <th>user_verified</th>\n",
       "      <th>date</th>\n",
       "      <th>text</th>\n",
       "      <th>hashtags</th>\n",
       "      <th>source</th>\n",
       "      <th>is_retweet</th>\n",
       "      <th>Sentiment</th>\n",
       "    </tr>\n",
       "  </thead>\n",
       "  <tbody>\n",
       "    <tr>\n",
       "      <th>0</th>\n",
       "      <td>Mari Smith</td>\n",
       "      <td>San Diego, California</td>\n",
       "      <td>Premier Facebook Marketing Expert | Social Med...</td>\n",
       "      <td>2007-09-11 22:22:51</td>\n",
       "      <td>579942</td>\n",
       "      <td>288625</td>\n",
       "      <td>11610</td>\n",
       "      <td>False</td>\n",
       "      <td>2020-09-16 20:55:33</td>\n",
       "      <td>@musicmadmarc @SocialDilemma_ @netflix @Facebo...</td>\n",
       "      <td>NaN</td>\n",
       "      <td>Twitter Web App</td>\n",
       "      <td>False</td>\n",
       "      <td>Neutral</td>\n",
       "    </tr>\n",
       "    <tr>\n",
       "      <th>1</th>\n",
       "      <td>Mari Smith</td>\n",
       "      <td>San Diego, California</td>\n",
       "      <td>Premier Facebook Marketing Expert | Social Med...</td>\n",
       "      <td>2007-09-11 22:22:51</td>\n",
       "      <td>579942</td>\n",
       "      <td>288625</td>\n",
       "      <td>11610</td>\n",
       "      <td>False</td>\n",
       "      <td>2020-09-16 20:53:17</td>\n",
       "      <td>@musicmadmarc @SocialDilemma_ @netflix @Facebo...</td>\n",
       "      <td>NaN</td>\n",
       "      <td>Twitter Web App</td>\n",
       "      <td>False</td>\n",
       "      <td>Neutral</td>\n",
       "    </tr>\n",
       "    <tr>\n",
       "      <th>2</th>\n",
       "      <td>Varun Tyagi</td>\n",
       "      <td>Goa, India</td>\n",
       "      <td>Indian | Tech Solution Artist &amp; Hospitality Ex...</td>\n",
       "      <td>2009-09-06 10:36:01</td>\n",
       "      <td>257</td>\n",
       "      <td>204</td>\n",
       "      <td>475</td>\n",
       "      <td>False</td>\n",
       "      <td>2020-09-16 20:51:57</td>\n",
       "      <td>Go watch “The Social Dilemma” on Netflix!\\n\\nI...</td>\n",
       "      <td>NaN</td>\n",
       "      <td>Twitter for iPhone</td>\n",
       "      <td>False</td>\n",
       "      <td>Positive</td>\n",
       "    </tr>\n",
       "    <tr>\n",
       "      <th>3</th>\n",
       "      <td>Casey Conway</td>\n",
       "      <td>Sydney, New South Wales</td>\n",
       "      <td>Head of Diversity &amp; Inclusion @RugbyAU | It's ...</td>\n",
       "      <td>2012-12-28 21:45:06</td>\n",
       "      <td>11782</td>\n",
       "      <td>1033</td>\n",
       "      <td>12219</td>\n",
       "      <td>True</td>\n",
       "      <td>2020-09-16 20:51:46</td>\n",
       "      <td>I watched #TheSocialDilemma last night. I’m sc...</td>\n",
       "      <td>['TheSocialDilemma']</td>\n",
       "      <td>Twitter for iPhone</td>\n",
       "      <td>False</td>\n",
       "      <td>Negative</td>\n",
       "    </tr>\n",
       "    <tr>\n",
       "      <th>4</th>\n",
       "      <td>Charlotte Paul</td>\n",
       "      <td>Darlington</td>\n",
       "      <td>Instagram Charlottejyates</td>\n",
       "      <td>2012-05-28 20:43:08</td>\n",
       "      <td>278</td>\n",
       "      <td>387</td>\n",
       "      <td>5850</td>\n",
       "      <td>False</td>\n",
       "      <td>2020-09-16 20:51:11</td>\n",
       "      <td>The problem of me being on my phone most the t...</td>\n",
       "      <td>['TheSocialDilemma']</td>\n",
       "      <td>Twitter for iPhone</td>\n",
       "      <td>False</td>\n",
       "      <td>Positive</td>\n",
       "    </tr>\n",
       "    <tr>\n",
       "      <th>5</th>\n",
       "      <td>Denny Hulme</td>\n",
       "      <td>Manchester, England</td>\n",
       "      <td>NaN</td>\n",
       "      <td>2009-11-06 15:20:09</td>\n",
       "      <td>336</td>\n",
       "      <td>616</td>\n",
       "      <td>4748</td>\n",
       "      <td>False</td>\n",
       "      <td>2020-09-16 20:50:33</td>\n",
       "      <td>#TheSocialDilemma 😳 wow!! We need regulations ...</td>\n",
       "      <td>['TheSocialDilemma']</td>\n",
       "      <td>Twitter for iPhone</td>\n",
       "      <td>False</td>\n",
       "      <td>Positive</td>\n",
       "    </tr>\n",
       "    <tr>\n",
       "      <th>6</th>\n",
       "      <td>Serkan Hicranlı</td>\n",
       "      <td>NaN</td>\n",
       "      <td>Küçük küçük şeyler söyler, küçük küçük videola...</td>\n",
       "      <td>2017-11-18 14:31:43</td>\n",
       "      <td>120</td>\n",
       "      <td>841</td>\n",
       "      <td>546</td>\n",
       "      <td>False</td>\n",
       "      <td>2020-09-16 20:49:00</td>\n",
       "      <td>@harari_yuval what do you think about #TheSoci...</td>\n",
       "      <td>['TheSocialDilemma']</td>\n",
       "      <td>Twitter for iPhone</td>\n",
       "      <td>False</td>\n",
       "      <td>Neutral</td>\n",
       "    </tr>\n",
       "    <tr>\n",
       "      <th>7</th>\n",
       "      <td>Laura</td>\n",
       "      <td>Kent</td>\n",
       "      <td>Mother, optimist, feminist, pacifist, retired ...</td>\n",
       "      <td>2009-02-05 20:39:55</td>\n",
       "      <td>696</td>\n",
       "      <td>444</td>\n",
       "      <td>10551</td>\n",
       "      <td>False</td>\n",
       "      <td>2020-09-16 20:48:55</td>\n",
       "      <td>Erm #TheSocialDilemma makes me want to go off ...</td>\n",
       "      <td>['TheSocialDilemma']</td>\n",
       "      <td>Twitter for iPhone</td>\n",
       "      <td>False</td>\n",
       "      <td>Negative</td>\n",
       "    </tr>\n",
       "    <tr>\n",
       "      <th>8</th>\n",
       "      <td>Eugene🍫</td>\n",
       "      <td>South Africa</td>\n",
       "      <td>African🌍 | Music🎶 | Lakers🏀|Manchester United ...</td>\n",
       "      <td>2012-10-25 09:16:10</td>\n",
       "      <td>2180</td>\n",
       "      <td>1570</td>\n",
       "      <td>18692</td>\n",
       "      <td>False</td>\n",
       "      <td>2020-09-16 20:48:47</td>\n",
       "      <td>#TheSocialDilemma is not a documentary, it's h...</td>\n",
       "      <td>['TheSocialDilemma']</td>\n",
       "      <td>Twitter for Android</td>\n",
       "      <td>False</td>\n",
       "      <td>Positive</td>\n",
       "    </tr>\n",
       "    <tr>\n",
       "      <th>9</th>\n",
       "      <td>RYAN</td>\n",
       "      <td>Dallas, TX</td>\n",
       "      <td>IG:@RYANWHITEC 💻Digital Content Creator. 97.9 ...</td>\n",
       "      <td>2010-04-23 01:34:20</td>\n",
       "      <td>5011</td>\n",
       "      <td>2422</td>\n",
       "      <td>619</td>\n",
       "      <td>False</td>\n",
       "      <td>2020-09-16 20:47:18</td>\n",
       "      <td>Okay i’m watching #TheSocialDilemma now.</td>\n",
       "      <td>['TheSocialDilemma']</td>\n",
       "      <td>Twitter for iPhone</td>\n",
       "      <td>False</td>\n",
       "      <td>Positive</td>\n",
       "    </tr>\n",
       "  </tbody>\n",
       "</table>\n",
       "</div>"
      ],
      "text/plain": [
       "         user_name            user_location  \\\n",
       "0       Mari Smith    San Diego, California   \n",
       "1       Mari Smith    San Diego, California   \n",
       "2      Varun Tyagi               Goa, India   \n",
       "3     Casey Conway  Sydney, New South Wales   \n",
       "4   Charlotte Paul               Darlington   \n",
       "5      Denny Hulme      Manchester, England   \n",
       "6  Serkan Hicranlı                      NaN   \n",
       "7            Laura                    Kent    \n",
       "8          Eugene🍫             South Africa   \n",
       "9             RYAN               Dallas, TX   \n",
       "\n",
       "                                    user_description         user_created  \\\n",
       "0  Premier Facebook Marketing Expert | Social Med...  2007-09-11 22:22:51   \n",
       "1  Premier Facebook Marketing Expert | Social Med...  2007-09-11 22:22:51   \n",
       "2  Indian | Tech Solution Artist & Hospitality Ex...  2009-09-06 10:36:01   \n",
       "3  Head of Diversity & Inclusion @RugbyAU | It's ...  2012-12-28 21:45:06   \n",
       "4                          Instagram Charlottejyates  2012-05-28 20:43:08   \n",
       "5                                                NaN  2009-11-06 15:20:09   \n",
       "6  Küçük küçük şeyler söyler, küçük küçük videola...  2017-11-18 14:31:43   \n",
       "7  Mother, optimist, feminist, pacifist, retired ...  2009-02-05 20:39:55   \n",
       "8  African🌍 | Music🎶 | Lakers🏀|Manchester United ...  2012-10-25 09:16:10   \n",
       "9  IG:@RYANWHITEC 💻Digital Content Creator. 97.9 ...  2010-04-23 01:34:20   \n",
       "\n",
       "   user_followers  user_friends  user_favourites  user_verified  \\\n",
       "0          579942        288625            11610          False   \n",
       "1          579942        288625            11610          False   \n",
       "2             257           204              475          False   \n",
       "3           11782          1033            12219           True   \n",
       "4             278           387             5850          False   \n",
       "5             336           616             4748          False   \n",
       "6             120           841              546          False   \n",
       "7             696           444            10551          False   \n",
       "8            2180          1570            18692          False   \n",
       "9            5011          2422              619          False   \n",
       "\n",
       "                  date                                               text  \\\n",
       "0  2020-09-16 20:55:33  @musicmadmarc @SocialDilemma_ @netflix @Facebo...   \n",
       "1  2020-09-16 20:53:17  @musicmadmarc @SocialDilemma_ @netflix @Facebo...   \n",
       "2  2020-09-16 20:51:57  Go watch “The Social Dilemma” on Netflix!\\n\\nI...   \n",
       "3  2020-09-16 20:51:46  I watched #TheSocialDilemma last night. I’m sc...   \n",
       "4  2020-09-16 20:51:11  The problem of me being on my phone most the t...   \n",
       "5  2020-09-16 20:50:33  #TheSocialDilemma 😳 wow!! We need regulations ...   \n",
       "6  2020-09-16 20:49:00  @harari_yuval what do you think about #TheSoci...   \n",
       "7  2020-09-16 20:48:55  Erm #TheSocialDilemma makes me want to go off ...   \n",
       "8  2020-09-16 20:48:47  #TheSocialDilemma is not a documentary, it's h...   \n",
       "9  2020-09-16 20:47:18           Okay i’m watching #TheSocialDilemma now.   \n",
       "\n",
       "               hashtags               source  is_retweet Sentiment  \n",
       "0                   NaN      Twitter Web App       False   Neutral  \n",
       "1                   NaN      Twitter Web App       False   Neutral  \n",
       "2                   NaN   Twitter for iPhone       False  Positive  \n",
       "3  ['TheSocialDilemma']   Twitter for iPhone       False  Negative  \n",
       "4  ['TheSocialDilemma']   Twitter for iPhone       False  Positive  \n",
       "5  ['TheSocialDilemma']   Twitter for iPhone       False  Positive  \n",
       "6  ['TheSocialDilemma']   Twitter for iPhone       False   Neutral  \n",
       "7  ['TheSocialDilemma']   Twitter for iPhone       False  Negative  \n",
       "8  ['TheSocialDilemma']  Twitter for Android       False  Positive  \n",
       "9  ['TheSocialDilemma']   Twitter for iPhone       False  Positive  "
      ]
     },
     "execution_count": 2,
     "metadata": {},
     "output_type": "execute_result"
    }
   ],
   "source": [
    "#загружаем датасет\n",
    "social_df = pd.read_csv(\"data/TheSocialDilemma.csv\")\n",
    "social_df.head(10)"
   ]
  },
  {
   "cell_type": "code",
   "execution_count": 3,
   "id": "a59ae73e",
   "metadata": {},
   "outputs": [
    {
     "name": "stdout",
     "output_type": "stream",
     "text": [
      "Общая характеристика набора данных:      \n",
      "\n",
      "Количество наблюдений: 20068      \n",
      "Количество признаков: 14      \n",
      "\n",
      "Предметная область: Этот набор данных содержит ответы в Твиттере, сделанные с хэштегом #TheSocialDilemma после просмотра поучительного документального фильма «Социальная дилемма», выпущенного на платформе OTT (Netflix) 9 сентября 2020 года. Набор данных был извлечен с помощью TwitterAPI и состоит из почти 10 526 твитов от пользователей со всего мира.      \n",
      "\n",
      "Содержание признаков:       \n",
      "user_name - имя пользователя, как они его определили      \n",
      "user_location - определяемое пользователем местоположение для профиля этой учетной записи      \n",
      "user_description - определяемая пользователем строка UTF-8, описывающая его учетную запись      \n",
      "user_created - время и дата создания учетной записи      \n",
      "user_followers - количество подписчиков, которое в настоящее время имеет аккаунтмя пользователя, как они его определили      \n",
      "user_friends - количество друзей, которые в данный момент есть у учетной записи      \n",
      "user_favourites - количество избранных в учетной записи в настоящее время      \n",
      "user_verified - значение true указывает, что у пользователя есть подтвержденная учетная запись      \n",
      "date - время и дата в формате UTC, когда был создан твит      \n",
      "text - фактический текст твита в кодировке UTF-8      \n",
      "hashtags - все остальные хэштеги, размещенные в твите вместе с #TheSocialDilemma      \n",
      "source - утилита, используемая для публикации твитов. Твиты с веб-сайта Twitter имеют исходное значение — сеть      \n",
      "is_retweet- указывает, был ли этот твит ретвитнут авторизованным пользователем      \n",
      "Sentiment - указывает настроение твита, состоит из трех категорий: положительный, нейтральный и отрицательный      \n",
      "\n",
      "Целевая переменная - Sentiment - категориальная      \n",
      "\n",
      "Задача обучения - классификация - установить, какое настроение имеет твит: положительное, нейтральное или отрицательное.\n"
     ]
    }
   ],
   "source": [
    "#В начале анализа следует привести общую характеристику набора данных: количество наблюдений, признаков, предметная область, \n",
    "#содержание признаков, характер целевой переменной, задача обучения (регрессия, классификация, количество классов).\n",
    "print(f'Общая характеристика набора данных:\\\n",
    "      \\n\\nКоличество наблюдений: {social_df.shape[0]}\\\n",
    "      \\nКоличество признаков: {social_df.shape[1]}\\\n",
    "      \\n\\nПредметная область: Этот набор данных содержит ответы в Твиттере, сделанные с хэштегом #TheSocialDilemma после просмотра поучительного документального фильма «Социальная дилемма», выпущенного на платформе OTT (Netflix) 9 сентября 2020 года. Набор данных был извлечен с помощью TwitterAPI и состоит из почти 10 526 твитов от пользователей со всего мира.\\\n",
    "      \\n\\nСодержание признаков: \\\n",
    "      \\nuser_name - имя пользователя, как они его определили\\\n",
    "      \\nuser_location - определяемое пользователем местоположение для профиля этой учетной записи\\\n",
    "      \\nuser_description - определяемая пользователем строка UTF-8, описывающая его учетную запись\\\n",
    "      \\nuser_created - время и дата создания учетной записи\\\n",
    "      \\nuser_followers - количество подписчиков, которое в настоящее время имеет аккаунтмя пользователя, как они его определили\\\n",
    "      \\nuser_friends - количество друзей, которые в данный момент есть у учетной записи\\\n",
    "      \\nuser_favourites - количество избранных в учетной записи в настоящее время\\\n",
    "      \\nuser_verified - значение true указывает, что у пользователя есть подтвержденная учетная запись\\\n",
    "      \\ndate - время и дата в формате UTC, когда был создан твит\\\n",
    "      \\ntext - фактический текст твита в кодировке UTF-8\\\n",
    "      \\nhashtags - все остальные хэштеги, размещенные в твите вместе с #TheSocialDilemma\\\n",
    "      \\nsource - утилита, используемая для публикации твитов. Твиты с веб-сайта Twitter имеют исходное значение — сеть\\\n",
    "      \\nis_retweet- указывает, был ли этот твит ретвитнут авторизованным пользователем\\\n",
    "      \\nSentiment - указывает настроение твита, состоит из трех категорий: положительный, нейтральный и отрицательный\\\n",
    "      \\n\\nЦелевая переменная - Sentiment - категориальная\\\n",
    "      \\n\\nЗадача обучения - классификация - установить, какое настроение имеет твит: положительное, нейтральное или отрицательное.')"
   ]
  },
  {
   "cell_type": "code",
   "execution_count": 4,
   "id": "a5734a83",
   "metadata": {
    "scrolled": true
   },
   "outputs": [
    {
     "data": {
      "text/html": [
       "<div>\n",
       "<style scoped>\n",
       "    .dataframe tbody tr th:only-of-type {\n",
       "        vertical-align: middle;\n",
       "    }\n",
       "\n",
       "    .dataframe tbody tr th {\n",
       "        vertical-align: top;\n",
       "    }\n",
       "\n",
       "    .dataframe thead th {\n",
       "        text-align: right;\n",
       "    }\n",
       "</style>\n",
       "<table border=\"1\" class=\"dataframe\">\n",
       "  <thead>\n",
       "    <tr style=\"text-align: right;\">\n",
       "      <th></th>\n",
       "      <th>data_type</th>\n",
       "      <th>scale</th>\n",
       "    </tr>\n",
       "  </thead>\n",
       "  <tbody>\n",
       "    <tr>\n",
       "      <th>user_name</th>\n",
       "      <td>object</td>\n",
       "      <td>[Mari Smith, Varun Tyagi, Casey Conway, Charlo...</td>\n",
       "    </tr>\n",
       "    <tr>\n",
       "      <th>user_location</th>\n",
       "      <td>object</td>\n",
       "      <td>[San Diego, California, Goa, India, Sydney, Ne...</td>\n",
       "    </tr>\n",
       "    <tr>\n",
       "      <th>user_description</th>\n",
       "      <td>object</td>\n",
       "      <td>[Premier Facebook Marketing Expert | Social Me...</td>\n",
       "    </tr>\n",
       "    <tr>\n",
       "      <th>user_created</th>\n",
       "      <td>object</td>\n",
       "      <td>[2007-09-11 22:22:51, 2009-09-06 10:36:01, 201...</td>\n",
       "    </tr>\n",
       "    <tr>\n",
       "      <th>user_followers</th>\n",
       "      <td>int64</td>\n",
       "      <td>[579942, 257, 11782, 278, 336, 120, 696, 2180,...</td>\n",
       "    </tr>\n",
       "    <tr>\n",
       "      <th>user_friends</th>\n",
       "      <td>int64</td>\n",
       "      <td>[288625, 204, 1033, 387, 616, 841, 444, 1570, ...</td>\n",
       "    </tr>\n",
       "    <tr>\n",
       "      <th>user_favourites</th>\n",
       "      <td>int64</td>\n",
       "      <td>[11610, 475, 12219, 5850, 4748, 546, 10551, 18...</td>\n",
       "    </tr>\n",
       "    <tr>\n",
       "      <th>user_verified</th>\n",
       "      <td>bool</td>\n",
       "      <td>[False, True]</td>\n",
       "    </tr>\n",
       "    <tr>\n",
       "      <th>date</th>\n",
       "      <td>object</td>\n",
       "      <td>[2020-09-16 20:55:33, 2020-09-16 20:53:17, 202...</td>\n",
       "    </tr>\n",
       "    <tr>\n",
       "      <th>text</th>\n",
       "      <td>object</td>\n",
       "      <td>[@musicmadmarc @SocialDilemma_ @netflix @Faceb...</td>\n",
       "    </tr>\n",
       "    <tr>\n",
       "      <th>hashtags</th>\n",
       "      <td>object</td>\n",
       "      <td>[nan, ['TheSocialDilemma'], ['TheSocialDilemma...</td>\n",
       "    </tr>\n",
       "    <tr>\n",
       "      <th>source</th>\n",
       "      <td>object</td>\n",
       "      <td>[Twitter Web App, Twitter for iPhone, Twitter ...</td>\n",
       "    </tr>\n",
       "    <tr>\n",
       "      <th>is_retweet</th>\n",
       "      <td>bool</td>\n",
       "      <td>[False]</td>\n",
       "    </tr>\n",
       "    <tr>\n",
       "      <th>Sentiment</th>\n",
       "      <td>object</td>\n",
       "      <td>[Neutral, Positive, Negative]</td>\n",
       "    </tr>\n",
       "  </tbody>\n",
       "</table>\n",
       "</div>"
      ],
      "text/plain": [
       "                 data_type                                              scale\n",
       "user_name           object  [Mari Smith, Varun Tyagi, Casey Conway, Charlo...\n",
       "user_location       object  [San Diego, California, Goa, India, Sydney, Ne...\n",
       "user_description    object  [Premier Facebook Marketing Expert | Social Me...\n",
       "user_created        object  [2007-09-11 22:22:51, 2009-09-06 10:36:01, 201...\n",
       "user_followers       int64  [579942, 257, 11782, 278, 336, 120, 696, 2180,...\n",
       "user_friends         int64  [288625, 204, 1033, 387, 616, 841, 444, 1570, ...\n",
       "user_favourites      int64  [11610, 475, 12219, 5850, 4748, 546, 10551, 18...\n",
       "user_verified         bool                                      [False, True]\n",
       "date                object  [2020-09-16 20:55:33, 2020-09-16 20:53:17, 202...\n",
       "text                object  [@musicmadmarc @SocialDilemma_ @netflix @Faceb...\n",
       "hashtags            object  [nan, ['TheSocialDilemma'], ['TheSocialDilemma...\n",
       "source              object  [Twitter Web App, Twitter for iPhone, Twitter ...\n",
       "is_retweet            bool                                            [False]\n",
       "Sentiment           object                      [Neutral, Positive, Negative]"
      ]
     },
     "execution_count": 4,
     "metadata": {},
     "output_type": "execute_result"
    }
   ],
   "source": [
    "# Типы переменных и уникальные значения\n",
    "pd.concat([\n",
    "    social_df.dtypes.rename('data_type'),\n",
    "    social_df.apply(lambda x: x.unique()).rename('scale')\n",
    "], axis = 1)"
   ]
  },
  {
   "cell_type": "code",
   "execution_count": 5,
   "id": "b600ec44",
   "metadata": {},
   "outputs": [
    {
     "name": "stdout",
     "output_type": "stream",
     "text": [
      "<class 'pandas.core.frame.DataFrame'>\n",
      "RangeIndex: 20068 entries, 0 to 20067\n",
      "Data columns (total 14 columns):\n",
      " #   Column            Non-Null Count  Dtype \n",
      "---  ------            --------------  ----- \n",
      " 0   user_name         20067 non-null  object\n",
      " 1   user_location     15860 non-null  object\n",
      " 2   user_description  18685 non-null  object\n",
      " 3   user_created      20068 non-null  object\n",
      " 4   user_followers    20068 non-null  int64 \n",
      " 5   user_friends      20068 non-null  int64 \n",
      " 6   user_favourites   20068 non-null  int64 \n",
      " 7   user_verified     20068 non-null  bool  \n",
      " 8   date              20068 non-null  object\n",
      " 9   text              20068 non-null  object\n",
      " 10  hashtags          15771 non-null  object\n",
      " 11  source            20068 non-null  object\n",
      " 12  is_retweet        20068 non-null  bool  \n",
      " 13  Sentiment         20068 non-null  object\n",
      "dtypes: bool(2), int64(3), object(9)\n",
      "memory usage: 1.9+ MB\n"
     ]
    }
   ],
   "source": [
    "# Описательная статистика\n",
    "social_df.info()"
   ]
  },
  {
   "cell_type": "code",
   "execution_count": 6,
   "id": "43b34fa5",
   "metadata": {},
   "outputs": [
    {
     "data": {
      "text/plain": [
       "user_name              1\n",
       "user_location       4208\n",
       "user_description    1383\n",
       "user_created           0\n",
       "user_followers         0\n",
       "user_friends           0\n",
       "user_favourites        0\n",
       "user_verified          0\n",
       "date                   0\n",
       "text                   0\n",
       "hashtags            4297\n",
       "source                 0\n",
       "is_retweet             0\n",
       "Sentiment              0\n",
       "dtype: int64"
      ]
     },
     "execution_count": 6,
     "metadata": {},
     "output_type": "execute_result"
    }
   ],
   "source": [
    "# Количество пустых значений в каждом столбце\n",
    "social_df.isnull().sum()"
   ]
  },
  {
   "cell_type": "code",
   "execution_count": 7,
   "id": "3c0e4ba9",
   "metadata": {},
   "outputs": [
    {
     "data": {
      "text/plain": [
       "user_name           15737\n",
       "user_location        5777\n",
       "user_description    14899\n",
       "user_created        16109\n",
       "user_followers       4141\n",
       "user_friends         3220\n",
       "user_favourites      9945\n",
       "user_verified           2\n",
       "date                19811\n",
       "text                19850\n",
       "hashtags             1753\n",
       "source                 82\n",
       "is_retweet              1\n",
       "Sentiment               3\n",
       "dtype: int64"
      ]
     },
     "execution_count": 7,
     "metadata": {},
     "output_type": "execute_result"
    }
   ],
   "source": [
    "# Количество уникальных значений в каждом столбце\n",
    "social_df.nunique()"
   ]
  },
  {
   "cell_type": "code",
   "execution_count": 8,
   "id": "3813a762",
   "metadata": {},
   "outputs": [
    {
     "data": {
      "text/html": [
       "<div>\n",
       "<style scoped>\n",
       "    .dataframe tbody tr th:only-of-type {\n",
       "        vertical-align: middle;\n",
       "    }\n",
       "\n",
       "    .dataframe tbody tr th {\n",
       "        vertical-align: top;\n",
       "    }\n",
       "\n",
       "    .dataframe thead th {\n",
       "        text-align: right;\n",
       "    }\n",
       "</style>\n",
       "<table border=\"1\" class=\"dataframe\">\n",
       "  <thead>\n",
       "    <tr style=\"text-align: right;\">\n",
       "      <th></th>\n",
       "      <th>count</th>\n",
       "      <th>mean</th>\n",
       "      <th>std</th>\n",
       "      <th>min</th>\n",
       "      <th>25%</th>\n",
       "      <th>50%</th>\n",
       "      <th>75%</th>\n",
       "      <th>max</th>\n",
       "    </tr>\n",
       "  </thead>\n",
       "  <tbody>\n",
       "    <tr>\n",
       "      <th>user_followers</th>\n",
       "      <td>20068.0</td>\n",
       "      <td>8805.132350</td>\n",
       "      <td>154000.824378</td>\n",
       "      <td>0.0</td>\n",
       "      <td>97.0</td>\n",
       "      <td>366.0</td>\n",
       "      <td>1289.0</td>\n",
       "      <td>15624426.0</td>\n",
       "    </tr>\n",
       "    <tr>\n",
       "      <th>user_friends</th>\n",
       "      <td>20068.0</td>\n",
       "      <td>1117.027656</td>\n",
       "      <td>5169.791715</td>\n",
       "      <td>0.0</td>\n",
       "      <td>186.0</td>\n",
       "      <td>441.0</td>\n",
       "      <td>1001.0</td>\n",
       "      <td>288625.0</td>\n",
       "    </tr>\n",
       "    <tr>\n",
       "      <th>user_favourites</th>\n",
       "      <td>20068.0</td>\n",
       "      <td>13936.924606</td>\n",
       "      <td>30437.971876</td>\n",
       "      <td>0.0</td>\n",
       "      <td>789.0</td>\n",
       "      <td>3866.5</td>\n",
       "      <td>13294.5</td>\n",
       "      <td>708749.0</td>\n",
       "    </tr>\n",
       "  </tbody>\n",
       "</table>\n",
       "</div>"
      ],
      "text/plain": [
       "                   count          mean            std  min    25%     50%  \\\n",
       "user_followers   20068.0   8805.132350  154000.824378  0.0   97.0   366.0   \n",
       "user_friends     20068.0   1117.027656    5169.791715  0.0  186.0   441.0   \n",
       "user_favourites  20068.0  13936.924606   30437.971876  0.0  789.0  3866.5   \n",
       "\n",
       "                     75%         max  \n",
       "user_followers    1289.0  15624426.0  \n",
       "user_friends      1001.0    288625.0  \n",
       "user_favourites  13294.5    708749.0  "
      ]
     },
     "execution_count": 8,
     "metadata": {},
     "output_type": "execute_result"
    }
   ],
   "source": [
    "# Исследование шкалы измерения каждого существенного признака\n",
    "social_df.describe().T"
   ]
  },
  {
   "cell_type": "markdown",
   "id": "b4db23cb",
   "metadata": {},
   "source": [
    "Из данной таблицы можно сделать вывод, что все существенные признаки не имеют пустых значений.\n",
    "\n",
    "Средние значения признаков:\n",
    "* для user_followers = 8805.132350\t\n",
    "* для user_friends = 1117.027656\n",
    "* для user_favourites = 13936.924606\n",
    "\n",
    "Стандартные отклонения признаков:\n",
    "* для user_followers = 154000.824378\n",
    "* для user_friends = 5169.791715\n",
    "* для user_favourites = 30437.971876\n",
    "\n",
    "Значение каждого из признаков не может быть меньше 0.\n",
    "\n",
    "Максимальные значения признаков:\n",
    "* для user_followers = 15624426\t\n",
    "* для user_friends = 288625\n",
    "* для user_favourites = 708749"
   ]
  },
  {
   "cell_type": "markdown",
   "id": "1142e6a0",
   "metadata": {},
   "source": [
    "Судя по количеству уникальных значений в столбцах (выведено выше), можно сделать вывод, что построение шкалы измерения возможно только для признаков user_verified, Sentiment, а также на интерес посмотрим шкалу по признаку source, потому что в дальнейшем я собираюсь свести данный признак только к 4 значениям: вывести топ-3, остальные значения закинуть в \"Другое\""
   ]
  },
  {
   "cell_type": "code",
   "execution_count": 9,
   "id": "dcb60068",
   "metadata": {},
   "outputs": [],
   "source": [
    "plt.rcParams['figure.figsize']=(10,5)"
   ]
  },
  {
   "cell_type": "code",
   "execution_count": 10,
   "id": "78676b9c",
   "metadata": {},
   "outputs": [
    {
     "data": {
      "image/png": "[encoded data removed]",
      "text/plain": [
       "<Figure size 720x360 with 1 Axes>"
      ]
     },
     "metadata": {
      "needs_background": "light"
     },
     "output_type": "display_data"
    }
   ],
   "source": [
    "_ = sns.countplot(social_df['user_verified'])"
   ]
  },
  {
   "cell_type": "markdown",
   "id": "c6246fc0",
   "metadata": {},
   "source": [
    "Из данной шкалы можем увидеть, что большинство аккаунтов не верифицировано. Посмотрим в процентном соотношении:"
   ]
  },
  {
   "cell_type": "code",
   "execution_count": 11,
   "id": "3f3279a7",
   "metadata": {},
   "outputs": [
    {
     "data": {
      "image/png": "[encoded data removed]",
      "text/plain": [
       "<Figure size 720x720 with 1 Axes>"
      ]
     },
     "metadata": {},
     "output_type": "display_data"
    }
   ],
   "source": [
    "plt.rcParams['figure.figsize']=(10,10)\n",
    "social_df['user_verified'].value_counts()[:10].plot(kind='pie', autopct='%.2f');"
   ]
  },
  {
   "cell_type": "markdown",
   "id": "8c30812a",
   "metadata": {},
   "source": [
    "Отсюда мы видим, что 96,46% пользовательских аккаунтов не верифицировано, верифицировано всего 3,54%"
   ]
  },
  {
   "cell_type": "code",
   "execution_count": 12,
   "id": "45d0e41a",
   "metadata": {},
   "outputs": [
    {
     "data": {
      "image/png": "[encoded data removed]",
      "text/plain": [
       "<Figure size 720x360 with 1 Axes>"
      ]
     },
     "metadata": {
      "needs_background": "light"
     },
     "output_type": "display_data"
    }
   ],
   "source": [
    "plt.rcParams['figure.figsize']=(10,5)\n",
    "_ = sns.countplot(social_df['Sentiment'])"
   ]
  },
  {
   "cell_type": "markdown",
   "id": "865577d7",
   "metadata": {},
   "source": [
    "Можно сделать вывод, что больше всего твитов имеют положительное настроение, затем по частоте - нейтральное, меньше всего твитов имеют негативное настроение. Посмотрим в процентном соотношении:"
   ]
  },
  {
   "cell_type": "code",
   "execution_count": 13,
   "id": "16cbfdf1",
   "metadata": {},
   "outputs": [
    {
     "data": {
      "image/png": "[encoded data removed]",
      "text/plain": [
       "<Figure size 720x360 with 1 Axes>"
      ]
     },
     "metadata": {},
     "output_type": "display_data"
    }
   ],
   "source": [
    "social_df['Sentiment'].value_counts()[:10].plot(kind='pie', autopct='%.2f');"
   ]
  },
  {
   "cell_type": "markdown",
   "id": "abb0d8e2",
   "metadata": {},
   "source": [
    "47,4% - положительное настроение твита\n",
    "\n",
    "34,79% - нейтральное настроение твита\n",
    "\n",
    "17,8% - негативное настроение твита"
   ]
  },
  {
   "cell_type": "code",
   "execution_count": 14,
   "id": "1c829caa",
   "metadata": {},
   "outputs": [
    {
     "data": {
      "image/png": "[encoded data removed]",
      "text/plain": [
       "<Figure size 720x720 with 1 Axes>"
      ]
     },
     "metadata": {},
     "output_type": "display_data"
    }
   ],
   "source": [
    "plt.rcParams['figure.figsize']=(10,10)\n",
    "social_df['source'].value_counts()[:6].plot(kind='pie', autopct='%.2f');"
   ]
  },
  {
   "cell_type": "markdown",
   "id": "a347b531",
   "metadata": {},
   "source": [
    "Наиболее используемые утилиты для публикации твитов - Twitter for iPhone, Twitter for Android, Twitter for WebApp, все остальные утилиты слишком редко встречаются, поэтому будут определены в \"Другое\""
   ]
  },
  {
   "cell_type": "markdown",
   "id": "fe415981",
   "metadata": {},
   "source": [
    "#### Построение эмпирического распределения каждого существенного признака"
   ]
  },
  {
   "cell_type": "code",
   "execution_count": 15,
   "id": "6d2c569d",
   "metadata": {},
   "outputs": [
    {
     "data": {
      "image/png": "[encoded data removed]",
      "text/plain": [
       "<Figure size 720x360 with 1 Axes>"
      ]
     },
     "metadata": {
      "needs_background": "light"
     },
     "output_type": "display_data"
    }
   ],
   "source": [
    "# Эмпирическое распределение для признака user_followers, наибольший почти достигает 16000000\n",
    "plt.rcParams['figure.figsize']=(10,5)\n",
    "_ = sns.kdeplot(social_df['user_followers'], cumulative=True)"
   ]
  },
  {
   "cell_type": "code",
   "execution_count": 16,
   "id": "a2f931e2",
   "metadata": {},
   "outputs": [
    {
     "data": {
      "image/png": "[encoded data removed]",
      "text/plain": [
       "<Figure size 720x360 with 1 Axes>"
      ]
     },
     "metadata": {
      "needs_background": "light"
     },
     "output_type": "display_data"
    }
   ],
   "source": [
    "# Эмпирическое распределение для признака user_friends, наибольший почти достигает 300000\n",
    "_ = sns.kdeplot(social_df['user_friends'], cumulative=True)"
   ]
  },
  {
   "cell_type": "code",
   "execution_count": 17,
   "id": "8e639d13",
   "metadata": {},
   "outputs": [
    {
     "data": {
      "image/png": "[encoded data removed]",
      "text/plain": [
       "<Figure size 720x360 with 1 Axes>"
      ]
     },
     "metadata": {
      "needs_background": "light"
     },
     "output_type": "display_data"
    }
   ],
   "source": [
    "# Эмпирическое распределение для признака user_favourites наибольший превышает 700000\n",
    "_ = sns.kdeplot(social_df['user_favourites'], cumulative=True)"
   ]
  },
  {
   "cell_type": "markdown",
   "id": "27de3822",
   "metadata": {},
   "source": [
    "#### Анализ количества и распределения отсутствующих значений\n",
    "Мы уже выяснили, что пустые значения содержатся только в столбцах:\n",
    "\n",
    "user_name - 1\n",
    "\n",
    "user_location - 4208\n",
    "\n",
    "user_description - 1383\n",
    "\n",
    "hashtags - 4297"
   ]
  },
  {
   "cell_type": "code",
   "execution_count": 18,
   "id": "41aee476",
   "metadata": {},
   "outputs": [
    {
     "data": {
      "image/png": "[encoded data removed]",
      "text/plain": [
       "<Figure size 720x2880 with 18 Axes>"
      ]
     },
     "metadata": {
      "needs_background": "light"
     },
     "output_type": "display_data"
    }
   ],
   "source": [
    "_, a = plt.subplots(nrows=len(social_df.columns), figsize=(10,40))\n",
    "for i in range(len(social_df.columns)):\n",
    "    if social_df[social_df.columns[i]].isnull().sum():\n",
    "        sns.heatmap(social_df[social_df.columns[i]].isnull().values.reshape(-1,1), ax=a[i]).set_title(social_df.columns[i])"
   ]
  },
  {
   "cell_type": "markdown",
   "id": "19e06033",
   "metadata": {},
   "source": [
    "#### Вывод:\n",
    "Наибольшее количество пропусков в параметре user_location"
   ]
  },
  {
   "cell_type": "markdown",
   "id": "450d6904",
   "metadata": {},
   "source": [
    "#### Построение совместного распределения каждого признака и целевой переменной:\n"
   ]
  },
  {
   "cell_type": "code",
   "execution_count": 19,
   "id": "30761fea",
   "metadata": {},
   "outputs": [
    {
     "data": {
      "image/png": "[encoded data removed]",
      "text/plain": [
       "<Figure size 360x360 with 1 Axes>"
      ]
     },
     "metadata": {
      "needs_background": "light"
     },
     "output_type": "display_data"
    }
   ],
   "source": [
    "# график рассеивания между верификацией аккаунта и настроением твитов\n",
    "plt.rcParams['figure.figsize']=(5,5)\n",
    "fig, ax = plt.subplots()\n",
    "ax.scatter(x = social_df['user_verified'], y =  social_df['Sentiment'])\n",
    "plt.xlabel(\"user_verified\")\n",
    "plt.ylabel(\"Sentiment\")\n",
    "plt.show()"
   ]
  },
  {
   "cell_type": "code",
   "execution_count": 20,
   "id": "ef2387dc",
   "metadata": {},
   "outputs": [
    {
     "data": {
      "image/png": "[encoded data removed]",
      "text/plain": [
       "<Figure size 2160x2160 with 1 Axes>"
      ]
     },
     "metadata": {
      "needs_background": "light"
     },
     "output_type": "display_data"
    }
   ],
   "source": [
    "# график рассеивания между настроением твитов и утилитой публикации твитов\n",
    "plt.rcParams['figure.figsize']=(30,30)\n",
    "fig, ax = plt.subplots()\n",
    "ax.scatter(x = social_df['Sentiment'], y =  social_df['source'])\n",
    "plt.xlabel(\"Sentiment\")\n",
    "plt.ylabel(\"source\")\n",
    "plt.show()"
   ]
  },
  {
   "cell_type": "markdown",
   "id": "0e3dee4b",
   "metadata": {},
   "source": [
    "Для остальных признаков нет смысла строить совместное распределение, потому что не будет видно никакой информации из-за слишком большого количества уникальных значений в признаках. Из графиков выше можно заметить, что признаки показывают не самую сильную корреляцию."
   ]
  },
  {
   "cell_type": "markdown",
   "id": "268bd274",
   "metadata": {},
   "source": [
    "#### Построение корреляционной матрицы:"
   ]
  },
  {
   "cell_type": "code",
   "execution_count": 21,
   "id": "2fc36844",
   "metadata": {},
   "outputs": [
    {
     "data": {
      "image/png": "[encoded data removed]",
      "text/plain": [
       "<Figure size 792x792 with 2 Axes>"
      ]
     },
     "metadata": {
      "needs_background": "light"
     },
     "output_type": "display_data"
    }
   ],
   "source": [
    "plt.rcParams['figure.figsize']=(5,5)\n",
    "ax = sns.heatmap(\n",
    "    social_df.corr().round(2),\n",
    "    annot=True,\n",
    "    annot_kws={'size': 13},\n",
    "    vmin=-1, vmax=1, center=0,\n",
    "    cmap=sns.diverging_palette(20, 220, n=200),\n",
    "    square=True\n",
    ")\n",
    "ax.figure.set_size_inches(11, 11)"
   ]
  },
  {
   "cell_type": "markdown",
   "id": "d5556add",
   "metadata": {},
   "source": [
    "Все признаки имеют слабую корреляцию. Наибольшую из них корреляцию можно наблюдать между user_followers и user_verified"
   ]
  },
  {
   "cell_type": "markdown",
   "id": "1b9acf1e",
   "metadata": {},
   "source": [
    "#### Подготовительная обработку данных:"
   ]
  },
  {
   "cell_type": "code",
   "execution_count": 22,
   "id": "42cd86c3",
   "metadata": {},
   "outputs": [
    {
     "data": {
      "text/plain": [
       "user_name              1\n",
       "user_location       3576\n",
       "user_description       0\n",
       "user_created           0\n",
       "user_followers         0\n",
       "user_friends           0\n",
       "user_favourites        0\n",
       "user_verified          0\n",
       "date                   0\n",
       "text                   0\n",
       "hashtags            4053\n",
       "source                 0\n",
       "is_retweet             0\n",
       "Sentiment              0\n",
       "dtype: int64"
      ]
     },
     "execution_count": 22,
     "metadata": {},
     "output_type": "execute_result"
    }
   ],
   "source": [
    "#Удаление пустых значений в столбце user_description, так как каждое описание пользователя уникально, и его не на что заменить\n",
    "social_df.dropna(subset=['user_description'], inplace=True)\n",
    "social_df.isnull().sum()"
   ]
  },
  {
   "cell_type": "code",
   "execution_count": 23,
   "id": "cdd95205",
   "metadata": {},
   "outputs": [
    {
     "data": {
      "text/plain": [
       "user_name              1\n",
       "user_location       2898\n",
       "user_description       0\n",
       "user_created           0\n",
       "user_followers         0\n",
       "user_friends           0\n",
       "user_favourites        0\n",
       "user_verified          0\n",
       "date                   0\n",
       "text                   0\n",
       "hashtags               0\n",
       "source                 0\n",
       "is_retweet             0\n",
       "Sentiment              0\n",
       "dtype: int64"
      ]
     },
     "execution_count": 23,
     "metadata": {},
     "output_type": "execute_result"
    }
   ],
   "source": [
    "# Строки с пустыми значениями в колонке hashtags тоже можно удалить, так как их не на что заменить\n",
    "social_df.dropna(subset=['hashtags'], inplace=True)\n",
    "social_df.isnull().sum()"
   ]
  },
  {
   "cell_type": "code",
   "execution_count": 24,
   "id": "5d4952e0",
   "metadata": {},
   "outputs": [
    {
     "data": {
      "text/plain": [
       "['India', 'Los Angeles, CA', 'Mumbai, India', 'London, England', 'London']"
      ]
     },
     "execution_count": 24,
     "metadata": {},
     "output_type": "execute_result"
    }
   ],
   "source": [
    "# В колонке user_location пустые значения заменим на одно из 5 наиболее распространенных в столбце\n",
    "best_5_locaions = pd.DataFrame(social_df.user_location.value_counts()[:5]).index.to_list()\n",
    "best_5_locaions"
   ]
  },
  {
   "cell_type": "code",
   "execution_count": 25,
   "id": "9f294bd7",
   "metadata": {},
   "outputs": [
    {
     "data": {
      "text/plain": [
       "user_name           1\n",
       "user_location       0\n",
       "user_description    0\n",
       "user_created        0\n",
       "user_followers      0\n",
       "user_friends        0\n",
       "user_favourites     0\n",
       "user_verified       0\n",
       "date                0\n",
       "text                0\n",
       "hashtags            0\n",
       "source              0\n",
       "is_retweet          0\n",
       "Sentiment           0\n",
       "dtype: int64"
      ]
     },
     "execution_count": 25,
     "metadata": {},
     "output_type": "execute_result"
    }
   ],
   "source": [
    "social_df.user_location.fillna(random.choice(best_5_locaions), inplace=True)\n",
    "social_df.isnull().sum()"
   ]
  },
  {
   "cell_type": "code",
   "execution_count": 26,
   "id": "e3500f04",
   "metadata": {},
   "outputs": [],
   "source": [
    "# Строку с нулевым значением в user_name удалять не будем, поскольку этот параметр для нас не существенный"
   ]
  },
  {
   "cell_type": "markdown",
   "id": "328d2b2a",
   "metadata": {},
   "source": [
    "#### Удаление несущественных либо избыточных признаков:\n",
    "Удалять будем параметры user_name, user_description, user_created, is_retweet, так как они несущественны и избыточны:"
   ]
  },
  {
   "cell_type": "code",
   "execution_count": 27,
   "id": "769aa846",
   "metadata": {},
   "outputs": [
    {
     "data": {
      "text/html": [
       "<div>\n",
       "<style scoped>\n",
       "    .dataframe tbody tr th:only-of-type {\n",
       "        vertical-align: middle;\n",
       "    }\n",
       "\n",
       "    .dataframe tbody tr th {\n",
       "        vertical-align: top;\n",
       "    }\n",
       "\n",
       "    .dataframe thead th {\n",
       "        text-align: right;\n",
       "    }\n",
       "</style>\n",
       "<table border=\"1\" class=\"dataframe\">\n",
       "  <thead>\n",
       "    <tr style=\"text-align: right;\">\n",
       "      <th></th>\n",
       "      <th>user_location</th>\n",
       "      <th>user_followers</th>\n",
       "      <th>user_friends</th>\n",
       "      <th>user_favourites</th>\n",
       "      <th>user_verified</th>\n",
       "      <th>date</th>\n",
       "      <th>text</th>\n",
       "      <th>hashtags</th>\n",
       "      <th>source</th>\n",
       "      <th>Sentiment</th>\n",
       "    </tr>\n",
       "  </thead>\n",
       "  <tbody>\n",
       "    <tr>\n",
       "      <th>3</th>\n",
       "      <td>Sydney, New South Wales</td>\n",
       "      <td>11782</td>\n",
       "      <td>1033</td>\n",
       "      <td>12219</td>\n",
       "      <td>True</td>\n",
       "      <td>2020-09-16 20:51:46</td>\n",
       "      <td>I watched #TheSocialDilemma last night. I’m sc...</td>\n",
       "      <td>['TheSocialDilemma']</td>\n",
       "      <td>Twitter for iPhone</td>\n",
       "      <td>Negative</td>\n",
       "    </tr>\n",
       "    <tr>\n",
       "      <th>4</th>\n",
       "      <td>Darlington</td>\n",
       "      <td>278</td>\n",
       "      <td>387</td>\n",
       "      <td>5850</td>\n",
       "      <td>False</td>\n",
       "      <td>2020-09-16 20:51:11</td>\n",
       "      <td>The problem of me being on my phone most the t...</td>\n",
       "      <td>['TheSocialDilemma']</td>\n",
       "      <td>Twitter for iPhone</td>\n",
       "      <td>Positive</td>\n",
       "    </tr>\n",
       "    <tr>\n",
       "      <th>6</th>\n",
       "      <td>Los Angeles, CA</td>\n",
       "      <td>120</td>\n",
       "      <td>841</td>\n",
       "      <td>546</td>\n",
       "      <td>False</td>\n",
       "      <td>2020-09-16 20:49:00</td>\n",
       "      <td>@harari_yuval what do you think about #TheSoci...</td>\n",
       "      <td>['TheSocialDilemma']</td>\n",
       "      <td>Twitter for iPhone</td>\n",
       "      <td>Neutral</td>\n",
       "    </tr>\n",
       "  </tbody>\n",
       "</table>\n",
       "</div>"
      ],
      "text/plain": [
       "             user_location  user_followers  user_friends  user_favourites  \\\n",
       "3  Sydney, New South Wales           11782          1033            12219   \n",
       "4               Darlington             278           387             5850   \n",
       "6          Los Angeles, CA             120           841              546   \n",
       "\n",
       "   user_verified                 date  \\\n",
       "3           True  2020-09-16 20:51:46   \n",
       "4          False  2020-09-16 20:51:11   \n",
       "6          False  2020-09-16 20:49:00   \n",
       "\n",
       "                                                text              hashtags  \\\n",
       "3  I watched #TheSocialDilemma last night. I’m sc...  ['TheSocialDilemma']   \n",
       "4  The problem of me being on my phone most the t...  ['TheSocialDilemma']   \n",
       "6  @harari_yuval what do you think about #TheSoci...  ['TheSocialDilemma']   \n",
       "\n",
       "               source Sentiment  \n",
       "3  Twitter for iPhone  Negative  \n",
       "4  Twitter for iPhone  Positive  \n",
       "6  Twitter for iPhone   Neutral  "
      ]
     },
     "execution_count": 27,
     "metadata": {},
     "output_type": "execute_result"
    }
   ],
   "source": [
    "social_df.drop(columns=[\"user_name\", \"user_description\", \"user_created\", \"is_retweet\"], axis=1, inplace=True)\n",
    "social_df.head(3)"
   ]
  },
  {
   "cell_type": "code",
   "execution_count": 28,
   "id": "2ba3448f",
   "metadata": {},
   "outputs": [
    {
     "data": {
      "text/html": [
       "<div>\n",
       "<style scoped>\n",
       "    .dataframe tbody tr th:only-of-type {\n",
       "        vertical-align: middle;\n",
       "    }\n",
       "\n",
       "    .dataframe tbody tr th {\n",
       "        vertical-align: top;\n",
       "    }\n",
       "\n",
       "    .dataframe thead th {\n",
       "        text-align: right;\n",
       "    }\n",
       "</style>\n",
       "<table border=\"1\" class=\"dataframe\">\n",
       "  <thead>\n",
       "    <tr style=\"text-align: right;\">\n",
       "      <th></th>\n",
       "      <th>user_location</th>\n",
       "      <th>user_followers</th>\n",
       "      <th>user_friends</th>\n",
       "      <th>user_favourites</th>\n",
       "      <th>user_verified</th>\n",
       "      <th>text</th>\n",
       "      <th>hashtags</th>\n",
       "      <th>source</th>\n",
       "      <th>Sentiment</th>\n",
       "    </tr>\n",
       "  </thead>\n",
       "  <tbody>\n",
       "    <tr>\n",
       "      <th>3</th>\n",
       "      <td>Sydney, New South Wales</td>\n",
       "      <td>11782</td>\n",
       "      <td>1033</td>\n",
       "      <td>12219</td>\n",
       "      <td>True</td>\n",
       "      <td>I watched #TheSocialDilemma last night. I’m sc...</td>\n",
       "      <td>['TheSocialDilemma']</td>\n",
       "      <td>Twitter for iPhone</td>\n",
       "      <td>Negative</td>\n",
       "    </tr>\n",
       "    <tr>\n",
       "      <th>4</th>\n",
       "      <td>Darlington</td>\n",
       "      <td>278</td>\n",
       "      <td>387</td>\n",
       "      <td>5850</td>\n",
       "      <td>False</td>\n",
       "      <td>The problem of me being on my phone most the t...</td>\n",
       "      <td>['TheSocialDilemma']</td>\n",
       "      <td>Twitter for iPhone</td>\n",
       "      <td>Positive</td>\n",
       "    </tr>\n",
       "    <tr>\n",
       "      <th>6</th>\n",
       "      <td>Los Angeles, CA</td>\n",
       "      <td>120</td>\n",
       "      <td>841</td>\n",
       "      <td>546</td>\n",
       "      <td>False</td>\n",
       "      <td>@harari_yuval what do you think about #TheSoci...</td>\n",
       "      <td>['TheSocialDilemma']</td>\n",
       "      <td>Twitter for iPhone</td>\n",
       "      <td>Neutral</td>\n",
       "    </tr>\n",
       "  </tbody>\n",
       "</table>\n",
       "</div>"
      ],
      "text/plain": [
       "             user_location  user_followers  user_friends  user_favourites  \\\n",
       "3  Sydney, New South Wales           11782          1033            12219   \n",
       "4               Darlington             278           387             5850   \n",
       "6          Los Angeles, CA             120           841              546   \n",
       "\n",
       "   user_verified                                               text  \\\n",
       "3           True  I watched #TheSocialDilemma last night. I’m sc...   \n",
       "4          False  The problem of me being on my phone most the t...   \n",
       "6          False  @harari_yuval what do you think about #TheSoci...   \n",
       "\n",
       "               hashtags              source Sentiment  \n",
       "3  ['TheSocialDilemma']  Twitter for iPhone  Negative  \n",
       "4  ['TheSocialDilemma']  Twitter for iPhone  Positive  \n",
       "6  ['TheSocialDilemma']  Twitter for iPhone   Neutral  "
      ]
     },
     "execution_count": 28,
     "metadata": {},
     "output_type": "execute_result"
    }
   ],
   "source": [
    "#Также удалим столбец с датой\n",
    "social_df.drop(columns=[\"date\"], axis=1, inplace=True)\n",
    "social_df.head(3)"
   ]
  },
  {
   "cell_type": "markdown",
   "id": "9c4e8f05",
   "metadata": {},
   "source": [
    "#### Приведение всех признаков к бинарной либо числовой шкале:\n",
    "\n",
    "Параметры user_location, text, hashtags, Sentiment нет смысла приподить к бинарной либо числовой шкале. Поэтому я буду работать только с параметрами user_verified и source."
   ]
  },
  {
   "cell_type": "code",
   "execution_count": 29,
   "id": "6cef91dc",
   "metadata": {
    "scrolled": true
   },
   "outputs": [
    {
     "data": {
      "text/html": [
       "<div>\n",
       "<style scoped>\n",
       "    .dataframe tbody tr th:only-of-type {\n",
       "        vertical-align: middle;\n",
       "    }\n",
       "\n",
       "    .dataframe tbody tr th {\n",
       "        vertical-align: top;\n",
       "    }\n",
       "\n",
       "    .dataframe thead th {\n",
       "        text-align: right;\n",
       "    }\n",
       "</style>\n",
       "<table border=\"1\" class=\"dataframe\">\n",
       "  <thead>\n",
       "    <tr style=\"text-align: right;\">\n",
       "      <th></th>\n",
       "      <th>user_location</th>\n",
       "      <th>user_followers</th>\n",
       "      <th>user_friends</th>\n",
       "      <th>user_favourites</th>\n",
       "      <th>user_verified</th>\n",
       "      <th>text</th>\n",
       "      <th>hashtags</th>\n",
       "      <th>source</th>\n",
       "      <th>Sentiment</th>\n",
       "    </tr>\n",
       "  </thead>\n",
       "  <tbody>\n",
       "    <tr>\n",
       "      <th>3</th>\n",
       "      <td>Sydney, New South Wales</td>\n",
       "      <td>11782</td>\n",
       "      <td>1033</td>\n",
       "      <td>12219</td>\n",
       "      <td>1</td>\n",
       "      <td>I watched #TheSocialDilemma last night. I’m sc...</td>\n",
       "      <td>['TheSocialDilemma']</td>\n",
       "      <td>Twitter for iPhone</td>\n",
       "      <td>Negative</td>\n",
       "    </tr>\n",
       "    <tr>\n",
       "      <th>4</th>\n",
       "      <td>Darlington</td>\n",
       "      <td>278</td>\n",
       "      <td>387</td>\n",
       "      <td>5850</td>\n",
       "      <td>0</td>\n",
       "      <td>The problem of me being on my phone most the t...</td>\n",
       "      <td>['TheSocialDilemma']</td>\n",
       "      <td>Twitter for iPhone</td>\n",
       "      <td>Positive</td>\n",
       "    </tr>\n",
       "    <tr>\n",
       "      <th>6</th>\n",
       "      <td>Los Angeles, CA</td>\n",
       "      <td>120</td>\n",
       "      <td>841</td>\n",
       "      <td>546</td>\n",
       "      <td>0</td>\n",
       "      <td>@harari_yuval what do you think about #TheSoci...</td>\n",
       "      <td>['TheSocialDilemma']</td>\n",
       "      <td>Twitter for iPhone</td>\n",
       "      <td>Neutral</td>\n",
       "    </tr>\n",
       "  </tbody>\n",
       "</table>\n",
       "</div>"
      ],
      "text/plain": [
       "             user_location  user_followers  user_friends  user_favourites  \\\n",
       "3  Sydney, New South Wales           11782          1033            12219   \n",
       "4               Darlington             278           387             5850   \n",
       "6          Los Angeles, CA             120           841              546   \n",
       "\n",
       "   user_verified                                               text  \\\n",
       "3              1  I watched #TheSocialDilemma last night. I’m sc...   \n",
       "4              0  The problem of me being on my phone most the t...   \n",
       "6              0  @harari_yuval what do you think about #TheSoci...   \n",
       "\n",
       "               hashtags              source Sentiment  \n",
       "3  ['TheSocialDilemma']  Twitter for iPhone  Negative  \n",
       "4  ['TheSocialDilemma']  Twitter for iPhone  Positive  \n",
       "6  ['TheSocialDilemma']  Twitter for iPhone   Neutral  "
      ]
     },
     "execution_count": 29,
     "metadata": {},
     "output_type": "execute_result"
    }
   ],
   "source": [
    "#Заменю все True и False параметра user_verified на 1 и 0 соответственно\n",
    "social_df.user_verified.replace(True, 1, inplace=True)\n",
    "social_df.user_verified.replace(False, 0, inplace=True)\n",
    "social_df.head(3)"
   ]
  },
  {
   "cell_type": "markdown",
   "id": "25822c93",
   "metadata": {},
   "source": [
    "Далее я хочу разделить параметр source: оставить в нем всего 4 категории - \"Twitter Web App\", \"Twitter for iPhone\", \"Twitter for Android\", \"Other\", разделить их по столбцам, где каждый столбец 1 - принадлежит к категории, 0 - не принадлежит."
   ]
  },
  {
   "cell_type": "code",
   "execution_count": 30,
   "id": "931469d1",
   "metadata": {},
   "outputs": [],
   "source": [
    "social_df[\"IPhone_source\"] = social_df.source\n",
    "social_df.loc[social_df.IPhone_source != \"Twitter for iPhone\", 'IPhone_source'] = 0\n",
    "social_df.loc[social_df.IPhone_source == \"Twitter for iPhone\", 'IPhone_source'] = 1"
   ]
  },
  {
   "cell_type": "code",
   "execution_count": 31,
   "id": "7c774cf4",
   "metadata": {},
   "outputs": [],
   "source": [
    "social_df[\"Android_source\"] = social_df.source\n",
    "social_df.loc[social_df.Android_source != \"Twitter for Android\", 'Android_source'] = 0\n",
    "social_df.loc[social_df.Android_source == \"Twitter for Android\", 'Android_source'] = 1"
   ]
  },
  {
   "cell_type": "code",
   "execution_count": 32,
   "id": "aa6d7a32",
   "metadata": {},
   "outputs": [],
   "source": [
    "social_df[\"Web_source\"] = social_df.source\n",
    "social_df.loc[social_df.Web_source != \"Twitter Web App\", 'Web_source'] = 0\n",
    "social_df.loc[social_df.Web_source == \"Twitter Web App\", 'Web_source'] = 1"
   ]
  },
  {
   "cell_type": "code",
   "execution_count": 33,
   "id": "031f4868",
   "metadata": {},
   "outputs": [],
   "source": [
    "social_df[\"Other_source\"] = social_df.source\n",
    "s = social_df.Other_source\n",
    "s[~s.isin([\"Twitter Web App\", \"Twitter for iPhone\", \"Twitter for Android\"])] = \"Other\"\n",
    "social_df.loc[:, 'Other_source']\n",
    "social_df.loc[social_df.Other_source != \"Other\", 'Other_source'] = 0\n",
    "social_df.loc[social_df.Other_source == \"Other\", 'Other_source'] = 1"
   ]
  },
  {
   "cell_type": "code",
   "execution_count": 34,
   "id": "f7f29a72",
   "metadata": {},
   "outputs": [
    {
     "data": {
      "text/html": [
       "<div>\n",
       "<style scoped>\n",
       "    .dataframe tbody tr th:only-of-type {\n",
       "        vertical-align: middle;\n",
       "    }\n",
       "\n",
       "    .dataframe tbody tr th {\n",
       "        vertical-align: top;\n",
       "    }\n",
       "\n",
       "    .dataframe thead th {\n",
       "        text-align: right;\n",
       "    }\n",
       "</style>\n",
       "<table border=\"1\" class=\"dataframe\">\n",
       "  <thead>\n",
       "    <tr style=\"text-align: right;\">\n",
       "      <th></th>\n",
       "      <th>user_location</th>\n",
       "      <th>user_followers</th>\n",
       "      <th>user_friends</th>\n",
       "      <th>user_favourites</th>\n",
       "      <th>user_verified</th>\n",
       "      <th>text</th>\n",
       "      <th>hashtags</th>\n",
       "      <th>Sentiment</th>\n",
       "      <th>IPhone_source</th>\n",
       "      <th>Android_source</th>\n",
       "      <th>Web_source</th>\n",
       "      <th>Other_source</th>\n",
       "    </tr>\n",
       "  </thead>\n",
       "  <tbody>\n",
       "    <tr>\n",
       "      <th>3</th>\n",
       "      <td>Sydney, New South Wales</td>\n",
       "      <td>11782</td>\n",
       "      <td>1033</td>\n",
       "      <td>12219</td>\n",
       "      <td>1</td>\n",
       "      <td>I watched #TheSocialDilemma last night. I’m sc...</td>\n",
       "      <td>['TheSocialDilemma']</td>\n",
       "      <td>Negative</td>\n",
       "      <td>1</td>\n",
       "      <td>0</td>\n",
       "      <td>0</td>\n",
       "      <td>0</td>\n",
       "    </tr>\n",
       "    <tr>\n",
       "      <th>4</th>\n",
       "      <td>Darlington</td>\n",
       "      <td>278</td>\n",
       "      <td>387</td>\n",
       "      <td>5850</td>\n",
       "      <td>0</td>\n",
       "      <td>The problem of me being on my phone most the t...</td>\n",
       "      <td>['TheSocialDilemma']</td>\n",
       "      <td>Positive</td>\n",
       "      <td>1</td>\n",
       "      <td>0</td>\n",
       "      <td>0</td>\n",
       "      <td>0</td>\n",
       "    </tr>\n",
       "    <tr>\n",
       "      <th>6</th>\n",
       "      <td>Los Angeles, CA</td>\n",
       "      <td>120</td>\n",
       "      <td>841</td>\n",
       "      <td>546</td>\n",
       "      <td>0</td>\n",
       "      <td>@harari_yuval what do you think about #TheSoci...</td>\n",
       "      <td>['TheSocialDilemma']</td>\n",
       "      <td>Neutral</td>\n",
       "      <td>1</td>\n",
       "      <td>0</td>\n",
       "      <td>0</td>\n",
       "      <td>0</td>\n",
       "    </tr>\n",
       "    <tr>\n",
       "      <th>7</th>\n",
       "      <td>Kent</td>\n",
       "      <td>696</td>\n",
       "      <td>444</td>\n",
       "      <td>10551</td>\n",
       "      <td>0</td>\n",
       "      <td>Erm #TheSocialDilemma makes me want to go off ...</td>\n",
       "      <td>['TheSocialDilemma']</td>\n",
       "      <td>Negative</td>\n",
       "      <td>1</td>\n",
       "      <td>0</td>\n",
       "      <td>0</td>\n",
       "      <td>0</td>\n",
       "    </tr>\n",
       "    <tr>\n",
       "      <th>8</th>\n",
       "      <td>South Africa</td>\n",
       "      <td>2180</td>\n",
       "      <td>1570</td>\n",
       "      <td>18692</td>\n",
       "      <td>0</td>\n",
       "      <td>#TheSocialDilemma is not a documentary, it's h...</td>\n",
       "      <td>['TheSocialDilemma']</td>\n",
       "      <td>Positive</td>\n",
       "      <td>0</td>\n",
       "      <td>1</td>\n",
       "      <td>0</td>\n",
       "      <td>0</td>\n",
       "    </tr>\n",
       "    <tr>\n",
       "      <th>...</th>\n",
       "      <td>...</td>\n",
       "      <td>...</td>\n",
       "      <td>...</td>\n",
       "      <td>...</td>\n",
       "      <td>...</td>\n",
       "      <td>...</td>\n",
       "      <td>...</td>\n",
       "      <td>...</td>\n",
       "      <td>...</td>\n",
       "      <td>...</td>\n",
       "      <td>...</td>\n",
       "      <td>...</td>\n",
       "    </tr>\n",
       "    <tr>\n",
       "      <th>20062</th>\n",
       "      <td>Singapore</td>\n",
       "      <td>71</td>\n",
       "      <td>510</td>\n",
       "      <td>4812</td>\n",
       "      <td>0</td>\n",
       "      <td>Watching #TheSocialDilemma</td>\n",
       "      <td>['TheSocialDilemma']</td>\n",
       "      <td>Neutral</td>\n",
       "      <td>1</td>\n",
       "      <td>0</td>\n",
       "      <td>0</td>\n",
       "      <td>0</td>\n",
       "    </tr>\n",
       "    <tr>\n",
       "      <th>20063</th>\n",
       "      <td>Los Angeles, CA</td>\n",
       "      <td>431</td>\n",
       "      <td>193</td>\n",
       "      <td>32958</td>\n",
       "      <td>0</td>\n",
       "      <td>#TheSocialDilemma yalll.... this shit... we kn...</td>\n",
       "      <td>['TheSocialDilemma']</td>\n",
       "      <td>Negative</td>\n",
       "      <td>1</td>\n",
       "      <td>0</td>\n",
       "      <td>0</td>\n",
       "      <td>0</td>\n",
       "    </tr>\n",
       "    <tr>\n",
       "      <th>20065</th>\n",
       "      <td>Los Angeles, CA</td>\n",
       "      <td>387</td>\n",
       "      <td>652</td>\n",
       "      <td>7885</td>\n",
       "      <td>0</td>\n",
       "      <td>So you watched #thesocialdilemma, or have been...</td>\n",
       "      <td>['thesocialdilemma']</td>\n",
       "      <td>Negative</td>\n",
       "      <td>0</td>\n",
       "      <td>0</td>\n",
       "      <td>1</td>\n",
       "      <td>0</td>\n",
       "    </tr>\n",
       "    <tr>\n",
       "      <th>20066</th>\n",
       "      <td>Los Angeles, CA</td>\n",
       "      <td>103</td>\n",
       "      <td>84</td>\n",
       "      <td>2976</td>\n",
       "      <td>0</td>\n",
       "      <td>Good social media advice:\\n\\nChoose the thing ...</td>\n",
       "      <td>['TheSocialDilemma']</td>\n",
       "      <td>Positive</td>\n",
       "      <td>0</td>\n",
       "      <td>0</td>\n",
       "      <td>1</td>\n",
       "      <td>0</td>\n",
       "    </tr>\n",
       "    <tr>\n",
       "      <th>20067</th>\n",
       "      <td>Telluride, CO</td>\n",
       "      <td>133</td>\n",
       "      <td>898</td>\n",
       "      <td>1131</td>\n",
       "      <td>0</td>\n",
       "      <td>Boulder director Jeff Orlowski hopes viewers o...</td>\n",
       "      <td>['TheSocialDilemma']</td>\n",
       "      <td>Neutral</td>\n",
       "      <td>0</td>\n",
       "      <td>0</td>\n",
       "      <td>0</td>\n",
       "      <td>1</td>\n",
       "    </tr>\n",
       "  </tbody>\n",
       "</table>\n",
       "<p>14632 rows × 12 columns</p>\n",
       "</div>"
      ],
      "text/plain": [
       "                 user_location  user_followers  user_friends  user_favourites  \\\n",
       "3      Sydney, New South Wales           11782          1033            12219   \n",
       "4                   Darlington             278           387             5850   \n",
       "6              Los Angeles, CA             120           841              546   \n",
       "7                        Kent              696           444            10551   \n",
       "8                 South Africa            2180          1570            18692   \n",
       "...                        ...             ...           ...              ...   \n",
       "20062                Singapore              71           510             4812   \n",
       "20063          Los Angeles, CA             431           193            32958   \n",
       "20065          Los Angeles, CA             387           652             7885   \n",
       "20066          Los Angeles, CA             103            84             2976   \n",
       "20067            Telluride, CO             133           898             1131   \n",
       "\n",
       "       user_verified                                               text  \\\n",
       "3                  1  I watched #TheSocialDilemma last night. I’m sc...   \n",
       "4                  0  The problem of me being on my phone most the t...   \n",
       "6                  0  @harari_yuval what do you think about #TheSoci...   \n",
       "7                  0  Erm #TheSocialDilemma makes me want to go off ...   \n",
       "8                  0  #TheSocialDilemma is not a documentary, it's h...   \n",
       "...              ...                                                ...   \n",
       "20062              0                         Watching #TheSocialDilemma   \n",
       "20063              0  #TheSocialDilemma yalll.... this shit... we kn...   \n",
       "20065              0  So you watched #thesocialdilemma, or have been...   \n",
       "20066              0  Good social media advice:\\n\\nChoose the thing ...   \n",
       "20067              0  Boulder director Jeff Orlowski hopes viewers o...   \n",
       "\n",
       "                   hashtags Sentiment IPhone_source Android_source Web_source  \\\n",
       "3      ['TheSocialDilemma']  Negative             1              0          0   \n",
       "4      ['TheSocialDilemma']  Positive             1              0          0   \n",
       "6      ['TheSocialDilemma']   Neutral             1              0          0   \n",
       "7      ['TheSocialDilemma']  Negative             1              0          0   \n",
       "8      ['TheSocialDilemma']  Positive             0              1          0   \n",
       "...                     ...       ...           ...            ...        ...   \n",
       "20062  ['TheSocialDilemma']   Neutral             1              0          0   \n",
       "20063  ['TheSocialDilemma']  Negative             1              0          0   \n",
       "20065  ['thesocialdilemma']  Negative             0              0          1   \n",
       "20066  ['TheSocialDilemma']  Positive             0              0          1   \n",
       "20067  ['TheSocialDilemma']   Neutral             0              0          0   \n",
       "\n",
       "      Other_source  \n",
       "3                0  \n",
       "4                0  \n",
       "6                0  \n",
       "7                0  \n",
       "8                0  \n",
       "...            ...  \n",
       "20062            0  \n",
       "20063            0  \n",
       "20065            0  \n",
       "20066            0  \n",
       "20067            1  \n",
       "\n",
       "[14632 rows x 12 columns]"
      ]
     },
     "execution_count": 34,
     "metadata": {},
     "output_type": "execute_result"
    }
   ],
   "source": [
    "social_df.drop(columns=[\"source\"])"
   ]
  },
  {
   "cell_type": "markdown",
   "id": "011cab47",
   "metadata": {},
   "source": [
    "#### Другие необходимые действия в зависимости от набора данных и задачи:\n",
    "\n",
    "Дополнительно хочу удалить дубликаты:"
   ]
  },
  {
   "cell_type": "code",
   "execution_count": 35,
   "id": "e77ddf2d",
   "metadata": {},
   "outputs": [
    {
     "data": {
      "text/html": [
       "<div>\n",
       "<style scoped>\n",
       "    .dataframe tbody tr th:only-of-type {\n",
       "        vertical-align: middle;\n",
       "    }\n",
       "\n",
       "    .dataframe tbody tr th {\n",
       "        vertical-align: top;\n",
       "    }\n",
       "\n",
       "    .dataframe thead th {\n",
       "        text-align: right;\n",
       "    }\n",
       "</style>\n",
       "<table border=\"1\" class=\"dataframe\">\n",
       "  <thead>\n",
       "    <tr style=\"text-align: right;\">\n",
       "      <th></th>\n",
       "      <th>user_location</th>\n",
       "      <th>user_followers</th>\n",
       "      <th>user_friends</th>\n",
       "      <th>user_favourites</th>\n",
       "      <th>user_verified</th>\n",
       "      <th>text</th>\n",
       "      <th>hashtags</th>\n",
       "      <th>source</th>\n",
       "      <th>Sentiment</th>\n",
       "      <th>IPhone_source</th>\n",
       "      <th>Android_source</th>\n",
       "      <th>Web_source</th>\n",
       "      <th>Other_source</th>\n",
       "    </tr>\n",
       "  </thead>\n",
       "  <tbody>\n",
       "  </tbody>\n",
       "</table>\n",
       "</div>"
      ],
      "text/plain": [
       "Empty DataFrame\n",
       "Columns: [user_location, user_followers, user_friends, user_favourites, user_verified, text, hashtags, source, Sentiment, IPhone_source, Android_source, Web_source, Other_source]\n",
       "Index: []"
      ]
     },
     "execution_count": 35,
     "metadata": {},
     "output_type": "execute_result"
    }
   ],
   "source": [
    "# Проверяем наличие дубликатов\n",
    "social_df[social_df.duplicated()]"
   ]
  },
  {
   "cell_type": "markdown",
   "id": "a168578f",
   "metadata": {},
   "source": [
    "Дубликаты не найдены."
   ]
  },
  {
   "cell_type": "code",
   "execution_count": 36,
   "id": "f6a8a219",
   "metadata": {},
   "outputs": [
    {
     "data": {
      "text/html": [
       "<div>\n",
       "<style scoped>\n",
       "    .dataframe tbody tr th:only-of-type {\n",
       "        vertical-align: middle;\n",
       "    }\n",
       "\n",
       "    .dataframe tbody tr th {\n",
       "        vertical-align: top;\n",
       "    }\n",
       "\n",
       "    .dataframe thead th {\n",
       "        text-align: right;\n",
       "    }\n",
       "</style>\n",
       "<table border=\"1\" class=\"dataframe\">\n",
       "  <thead>\n",
       "    <tr style=\"text-align: right;\">\n",
       "      <th></th>\n",
       "      <th>user_location</th>\n",
       "      <th>user_followers</th>\n",
       "      <th>user_friends</th>\n",
       "      <th>user_favourites</th>\n",
       "      <th>user_verified</th>\n",
       "      <th>text</th>\n",
       "      <th>hashtags</th>\n",
       "      <th>source</th>\n",
       "      <th>Sentiment</th>\n",
       "      <th>IPhone_source</th>\n",
       "      <th>Android_source</th>\n",
       "      <th>Web_source</th>\n",
       "      <th>Other_source</th>\n",
       "    </tr>\n",
       "  </thead>\n",
       "  <tbody>\n",
       "    <tr>\n",
       "      <th>0</th>\n",
       "      <td>Sydney, New South Wales</td>\n",
       "      <td>11782</td>\n",
       "      <td>1033</td>\n",
       "      <td>12219</td>\n",
       "      <td>1</td>\n",
       "      <td>I watched #TheSocialDilemma last night. I’m sc...</td>\n",
       "      <td>['TheSocialDilemma']</td>\n",
       "      <td>Twitter for iPhone</td>\n",
       "      <td>Negative</td>\n",
       "      <td>1</td>\n",
       "      <td>0</td>\n",
       "      <td>0</td>\n",
       "      <td>0</td>\n",
       "    </tr>\n",
       "    <tr>\n",
       "      <th>1</th>\n",
       "      <td>Darlington</td>\n",
       "      <td>278</td>\n",
       "      <td>387</td>\n",
       "      <td>5850</td>\n",
       "      <td>0</td>\n",
       "      <td>The problem of me being on my phone most the t...</td>\n",
       "      <td>['TheSocialDilemma']</td>\n",
       "      <td>Twitter for iPhone</td>\n",
       "      <td>Positive</td>\n",
       "      <td>1</td>\n",
       "      <td>0</td>\n",
       "      <td>0</td>\n",
       "      <td>0</td>\n",
       "    </tr>\n",
       "    <tr>\n",
       "      <th>2</th>\n",
       "      <td>Los Angeles, CA</td>\n",
       "      <td>120</td>\n",
       "      <td>841</td>\n",
       "      <td>546</td>\n",
       "      <td>0</td>\n",
       "      <td>@harari_yuval what do you think about #TheSoci...</td>\n",
       "      <td>['TheSocialDilemma']</td>\n",
       "      <td>Twitter for iPhone</td>\n",
       "      <td>Neutral</td>\n",
       "      <td>1</td>\n",
       "      <td>0</td>\n",
       "      <td>0</td>\n",
       "      <td>0</td>\n",
       "    </tr>\n",
       "  </tbody>\n",
       "</table>\n",
       "</div>"
      ],
      "text/plain": [
       "             user_location  user_followers  user_friends  user_favourites  \\\n",
       "0  Sydney, New South Wales           11782          1033            12219   \n",
       "1               Darlington             278           387             5850   \n",
       "2          Los Angeles, CA             120           841              546   \n",
       "\n",
       "   user_verified                                               text  \\\n",
       "0              1  I watched #TheSocialDilemma last night. I’m sc...   \n",
       "1              0  The problem of me being on my phone most the t...   \n",
       "2              0  @harari_yuval what do you think about #TheSoci...   \n",
       "\n",
       "               hashtags              source Sentiment IPhone_source  \\\n",
       "0  ['TheSocialDilemma']  Twitter for iPhone  Negative             1   \n",
       "1  ['TheSocialDilemma']  Twitter for iPhone  Positive             1   \n",
       "2  ['TheSocialDilemma']  Twitter for iPhone   Neutral             1   \n",
       "\n",
       "  Android_source Web_source Other_source  \n",
       "0              0          0            0  \n",
       "1              0          0            0  \n",
       "2              0          0            0  "
      ]
     },
     "execution_count": 36,
     "metadata": {},
     "output_type": "execute_result"
    }
   ],
   "source": [
    "#Сбросим индекс\n",
    "social_df.reset_index(drop=True, inplace=True)\n",
    "social_df.head(3)"
   ]
  },
  {
   "cell_type": "markdown",
   "id": "ff1fe2db",
   "metadata": {},
   "source": [
    "#### Количественные характеристики датасета необходимо также привести после его обработки:"
   ]
  },
  {
   "cell_type": "code",
   "execution_count": 37,
   "id": "eff8546a",
   "metadata": {},
   "outputs": [
    {
     "name": "stdout",
     "output_type": "stream",
     "text": [
      "<class 'pandas.core.frame.DataFrame'>\n",
      "RangeIndex: 14632 entries, 0 to 14631\n",
      "Data columns (total 13 columns):\n",
      " #   Column           Non-Null Count  Dtype \n",
      "---  ------           --------------  ----- \n",
      " 0   user_location    14632 non-null  object\n",
      " 1   user_followers   14632 non-null  int64 \n",
      " 2   user_friends     14632 non-null  int64 \n",
      " 3   user_favourites  14632 non-null  int64 \n",
      " 4   user_verified    14632 non-null  int64 \n",
      " 5   text             14632 non-null  object\n",
      " 6   hashtags         14632 non-null  object\n",
      " 7   source           14632 non-null  object\n",
      " 8   Sentiment        14632 non-null  object\n",
      " 9   IPhone_source    14632 non-null  object\n",
      " 10  Android_source   14632 non-null  object\n",
      " 11  Web_source       14632 non-null  object\n",
      " 12  Other_source     14632 non-null  object\n",
      "dtypes: int64(4), object(9)\n",
      "memory usage: 1.5+ MB\n"
     ]
    }
   ],
   "source": [
    "social_df.info()"
   ]
  },
  {
   "cell_type": "code",
   "execution_count": 38,
   "id": "eb0f78c1",
   "metadata": {},
   "outputs": [
    {
     "data": {
      "text/html": [
       "<div>\n",
       "<style scoped>\n",
       "    .dataframe tbody tr th:only-of-type {\n",
       "        vertical-align: middle;\n",
       "    }\n",
       "\n",
       "    .dataframe tbody tr th {\n",
       "        vertical-align: top;\n",
       "    }\n",
       "\n",
       "    .dataframe thead th {\n",
       "        text-align: right;\n",
       "    }\n",
       "</style>\n",
       "<table border=\"1\" class=\"dataframe\">\n",
       "  <thead>\n",
       "    <tr style=\"text-align: right;\">\n",
       "      <th></th>\n",
       "      <th>user_followers</th>\n",
       "      <th>user_friends</th>\n",
       "      <th>user_favourites</th>\n",
       "      <th>user_verified</th>\n",
       "    </tr>\n",
       "  </thead>\n",
       "  <tbody>\n",
       "    <tr>\n",
       "      <th>count</th>\n",
       "      <td>1.463200e+04</td>\n",
       "      <td>14632.000000</td>\n",
       "      <td>14632.000000</td>\n",
       "      <td>14632.000000</td>\n",
       "    </tr>\n",
       "    <tr>\n",
       "      <th>mean</th>\n",
       "      <td>9.570688e+03</td>\n",
       "      <td>1141.921063</td>\n",
       "      <td>14870.622540</td>\n",
       "      <td>0.038067</td>\n",
       "    </tr>\n",
       "    <tr>\n",
       "      <th>std</th>\n",
       "      <td>1.723366e+05</td>\n",
       "      <td>4150.947304</td>\n",
       "      <td>30971.545028</td>\n",
       "      <td>0.191365</td>\n",
       "    </tr>\n",
       "    <tr>\n",
       "      <th>min</th>\n",
       "      <td>0.000000e+00</td>\n",
       "      <td>0.000000</td>\n",
       "      <td>0.000000</td>\n",
       "      <td>0.000000</td>\n",
       "    </tr>\n",
       "    <tr>\n",
       "      <th>25%</th>\n",
       "      <td>1.130000e+02</td>\n",
       "      <td>202.000000</td>\n",
       "      <td>939.000000</td>\n",
       "      <td>0.000000</td>\n",
       "    </tr>\n",
       "    <tr>\n",
       "      <th>50%</th>\n",
       "      <td>3.980000e+02</td>\n",
       "      <td>474.000000</td>\n",
       "      <td>4222.500000</td>\n",
       "      <td>0.000000</td>\n",
       "    </tr>\n",
       "    <tr>\n",
       "      <th>75%</th>\n",
       "      <td>1.308750e+03</td>\n",
       "      <td>1042.000000</td>\n",
       "      <td>14630.750000</td>\n",
       "      <td>0.000000</td>\n",
       "    </tr>\n",
       "    <tr>\n",
       "      <th>max</th>\n",
       "      <td>1.562443e+07</td>\n",
       "      <td>202669.000000</td>\n",
       "      <td>420782.000000</td>\n",
       "      <td>1.000000</td>\n",
       "    </tr>\n",
       "  </tbody>\n",
       "</table>\n",
       "</div>"
      ],
      "text/plain": [
       "       user_followers   user_friends  user_favourites  user_verified\n",
       "count    1.463200e+04   14632.000000     14632.000000   14632.000000\n",
       "mean     9.570688e+03    1141.921063     14870.622540       0.038067\n",
       "std      1.723366e+05    4150.947304     30971.545028       0.191365\n",
       "min      0.000000e+00       0.000000         0.000000       0.000000\n",
       "25%      1.130000e+02     202.000000       939.000000       0.000000\n",
       "50%      3.980000e+02     474.000000      4222.500000       0.000000\n",
       "75%      1.308750e+03    1042.000000     14630.750000       0.000000\n",
       "max      1.562443e+07  202669.000000    420782.000000       1.000000"
      ]
     },
     "execution_count": 38,
     "metadata": {},
     "output_type": "execute_result"
    }
   ],
   "source": [
    "social_df.describe()"
   ]
  },
  {
   "cell_type": "code",
   "execution_count": 39,
   "id": "7cd07339",
   "metadata": {},
   "outputs": [
    {
     "name": "stdout",
     "output_type": "stream",
     "text": [
      "Количество наблюдений: 14632      \n",
      "Количество признаков: 13\n"
     ]
    }
   ],
   "source": [
    "print(f'Количество наблюдений: {social_df.shape[0]}\\\n",
    "      \\nКоличество признаков: {social_df.shape[1]}')"
   ]
  },
  {
   "cell_type": "markdown",
   "id": "e405d06f",
   "metadata": {},
   "source": [
    "## Вывод:\n",
    "* Количество записей значительно уменьшилось, теперь их 14632\n",
    "* Количество признаков изменилось с 14 до 13, однако теперь это совсем иные признаки: мы избавились от несущественных показателей, а также привели признаки к бинарному виду, за счет чего увеличилось количество признаков \n",
    "* Теперь мы можем смотреть статистику по параметру user_verified, так как привели его к числовому виду (заменили True и False), но смысла в этом особо нет\n",
    "* Все показатели параметров user_followers, user_friends, user_favourites в описательной статистике изменились, поскольку было удалено большое количество строк"
   ]
  }
 ],
 "metadata": {
  "kernelspec": {
   "display_name": "Python 3 (ipykernel)",
   "language": "python",
   "name": "python3"
  },
  "language_info": {
   "codemirror_mode": {
    "name": "ipython",
    "version": 3
   },
   "file_extension": ".py",
   "mimetype": "text/x-python",
   "name": "python",
   "nbconvert_exporter": "python",
   "pygments_lexer": "ipython3",
   "version": "3.9.7"
  }
 },
 "nbformat": 4,
 "nbformat_minor": 5
}
