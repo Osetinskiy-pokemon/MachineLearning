{
 "cells": [
  {
   "cell_type": "code",
   "execution_count": 1,
   "id": "f34f0cea",
   "metadata": {},
   "outputs": [],
   "source": [
    "#Все импорты только здесь\n",
    "import warnings\n",
    "warnings.filterwarnings('ignore')\n",
    "\n",
    "import pandas as pd\n",
    "import matplotlib\n",
    "import matplotlib.pyplot as plt\n",
    "import seaborn as sns\n",
    "from sklearn.cluster import KMeans\n",
    "from sklearn.metrics import calinski_harabasz_score, silhouette_score \n",
    "import numpy as np"
   ]
  },
  {
   "cell_type": "markdown",
   "id": "589defeb",
   "metadata": {},
   "source": [
    "1. Загрузите датасет mall_customers."
   ]
  },
  {
   "cell_type": "code",
   "execution_count": 2,
   "id": "af48fa7d",
   "metadata": {},
   "outputs": [
    {
     "data": {
      "text/html": [
       "<div>\n",
       "<style scoped>\n",
       "    .dataframe tbody tr th:only-of-type {\n",
       "        vertical-align: middle;\n",
       "    }\n",
       "\n",
       "    .dataframe tbody tr th {\n",
       "        vertical-align: top;\n",
       "    }\n",
       "\n",
       "    .dataframe thead th {\n",
       "        text-align: right;\n",
       "    }\n",
       "</style>\n",
       "<table border=\"1\" class=\"dataframe\">\n",
       "  <thead>\n",
       "    <tr style=\"text-align: right;\">\n",
       "      <th></th>\n",
       "      <th>CustomerID</th>\n",
       "      <th>Genre</th>\n",
       "      <th>Age</th>\n",
       "      <th>Annual Income (k$)</th>\n",
       "      <th>Spending Score (1-100)</th>\n",
       "    </tr>\n",
       "  </thead>\n",
       "  <tbody>\n",
       "    <tr>\n",
       "      <th>0</th>\n",
       "      <td>1</td>\n",
       "      <td>Male</td>\n",
       "      <td>19</td>\n",
       "      <td>15</td>\n",
       "      <td>39</td>\n",
       "    </tr>\n",
       "    <tr>\n",
       "      <th>1</th>\n",
       "      <td>2</td>\n",
       "      <td>Male</td>\n",
       "      <td>21</td>\n",
       "      <td>15</td>\n",
       "      <td>81</td>\n",
       "    </tr>\n",
       "    <tr>\n",
       "      <th>2</th>\n",
       "      <td>3</td>\n",
       "      <td>Female</td>\n",
       "      <td>20</td>\n",
       "      <td>16</td>\n",
       "      <td>6</td>\n",
       "    </tr>\n",
       "    <tr>\n",
       "      <th>3</th>\n",
       "      <td>4</td>\n",
       "      <td>Female</td>\n",
       "      <td>23</td>\n",
       "      <td>16</td>\n",
       "      <td>77</td>\n",
       "    </tr>\n",
       "    <tr>\n",
       "      <th>4</th>\n",
       "      <td>5</td>\n",
       "      <td>Female</td>\n",
       "      <td>31</td>\n",
       "      <td>17</td>\n",
       "      <td>40</td>\n",
       "    </tr>\n",
       "    <tr>\n",
       "      <th>...</th>\n",
       "      <td>...</td>\n",
       "      <td>...</td>\n",
       "      <td>...</td>\n",
       "      <td>...</td>\n",
       "      <td>...</td>\n",
       "    </tr>\n",
       "    <tr>\n",
       "      <th>195</th>\n",
       "      <td>196</td>\n",
       "      <td>Female</td>\n",
       "      <td>35</td>\n",
       "      <td>120</td>\n",
       "      <td>79</td>\n",
       "    </tr>\n",
       "    <tr>\n",
       "      <th>196</th>\n",
       "      <td>197</td>\n",
       "      <td>Female</td>\n",
       "      <td>45</td>\n",
       "      <td>126</td>\n",
       "      <td>28</td>\n",
       "    </tr>\n",
       "    <tr>\n",
       "      <th>197</th>\n",
       "      <td>198</td>\n",
       "      <td>Male</td>\n",
       "      <td>32</td>\n",
       "      <td>126</td>\n",
       "      <td>74</td>\n",
       "    </tr>\n",
       "    <tr>\n",
       "      <th>198</th>\n",
       "      <td>199</td>\n",
       "      <td>Male</td>\n",
       "      <td>32</td>\n",
       "      <td>137</td>\n",
       "      <td>18</td>\n",
       "    </tr>\n",
       "    <tr>\n",
       "      <th>199</th>\n",
       "      <td>200</td>\n",
       "      <td>Male</td>\n",
       "      <td>30</td>\n",
       "      <td>137</td>\n",
       "      <td>83</td>\n",
       "    </tr>\n",
       "  </tbody>\n",
       "</table>\n",
       "<p>200 rows × 5 columns</p>\n",
       "</div>"
      ],
      "text/plain": [
       "     CustomerID   Genre  Age  Annual Income (k$)  Spending Score (1-100)\n",
       "0             1    Male   19                  15                      39\n",
       "1             2    Male   21                  15                      81\n",
       "2             3  Female   20                  16                       6\n",
       "3             4  Female   23                  16                      77\n",
       "4             5  Female   31                  17                      40\n",
       "..          ...     ...  ...                 ...                     ...\n",
       "195         196  Female   35                 120                      79\n",
       "196         197  Female   45                 126                      28\n",
       "197         198    Male   32                 126                      74\n",
       "198         199    Male   32                 137                      18\n",
       "199         200    Male   30                 137                      83\n",
       "\n",
       "[200 rows x 5 columns]"
      ]
     },
     "execution_count": 2,
     "metadata": {},
     "output_type": "execute_result"
    }
   ],
   "source": [
    "cust_df = pd.read_csv(\"data/Mall_Customers (1).csv\")\n",
    "cust_df"
   ]
  },
  {
   "cell_type": "markdown",
   "id": "65cd48fc",
   "metadata": {},
   "source": [
    "2. Проверьте датасет на наличие пустых значений. Если есть пустые значения, то заменить их на наиболее подходящие"
   ]
  },
  {
   "cell_type": "code",
   "execution_count": 3,
   "id": "ef16cbb6",
   "metadata": {},
   "outputs": [
    {
     "data": {
      "text/plain": [
       "CustomerID                0\n",
       "Genre                     0\n",
       "Age                       0\n",
       "Annual Income (k$)        0\n",
       "Spending Score (1-100)    0\n",
       "dtype: int64"
      ]
     },
     "execution_count": 3,
     "metadata": {},
     "output_type": "execute_result"
    }
   ],
   "source": [
    "cust_df.isna().sum()"
   ]
  },
  {
   "cell_type": "markdown",
   "id": "d9ec87e2",
   "metadata": {},
   "source": [
    "В датасете нет пустых значений."
   ]
  },
  {
   "cell_type": "markdown",
   "id": "f685b3f4",
   "metadata": {},
   "source": [
    "3. Постройте графическую интерпретацию значений датасета. В качестве x-координаты используйте Annual Income, в качестве y-координаты Spending Score"
   ]
  },
  {
   "cell_type": "code",
   "execution_count": 4,
   "id": "29496a0c",
   "metadata": {},
   "outputs": [
    {
     "data": {
      "image/png": "[encoded data removed]",
      "text/plain": [
       "<Figure size 720x360 with 1 Axes>"
      ]
     },
     "metadata": {
      "needs_background": "light"
     },
     "output_type": "display_data"
    }
   ],
   "source": [
    "plt.rcParams['figure.figsize']=(10,5)\n",
    "f, ax = plt.subplots()\n",
    "sns.scatterplot(y=\"Spending Score (1-100)\", \n",
    "                x=\"Annual Income (k$)\", \n",
    "                hue=\"Genre\", \n",
    "                data=cust_df,\n",
    "                ax=ax)\n",
    "plt.show()"
   ]
  },
  {
   "cell_type": "markdown",
   "id": "72f0b23a",
   "metadata": {},
   "source": [
    "Связи между данными признаками не наблюдается."
   ]
  },
  {
   "cell_type": "markdown",
   "id": "9c15ff78",
   "metadata": {},
   "source": [
    "4. Определите наилучшее число кластеров с помощью графической зависимости числа кластеров от суммы квадратов расстояний значений датасета до центра кластера"
   ]
  },
  {
   "cell_type": "code",
   "execution_count": 5,
   "id": "4a11b24c",
   "metadata": {},
   "outputs": [
    {
     "data": {
      "text/html": [
       "<div>\n",
       "<style scoped>\n",
       "    .dataframe tbody tr th:only-of-type {\n",
       "        vertical-align: middle;\n",
       "    }\n",
       "\n",
       "    .dataframe tbody tr th {\n",
       "        vertical-align: top;\n",
       "    }\n",
       "\n",
       "    .dataframe thead th {\n",
       "        text-align: right;\n",
       "    }\n",
       "</style>\n",
       "<table border=\"1\" class=\"dataframe\">\n",
       "  <thead>\n",
       "    <tr style=\"text-align: right;\">\n",
       "      <th></th>\n",
       "      <th>Annual Income (k$)</th>\n",
       "      <th>Spending Score (1-100)</th>\n",
       "    </tr>\n",
       "  </thead>\n",
       "  <tbody>\n",
       "    <tr>\n",
       "      <th>0</th>\n",
       "      <td>15</td>\n",
       "      <td>39</td>\n",
       "    </tr>\n",
       "    <tr>\n",
       "      <th>1</th>\n",
       "      <td>15</td>\n",
       "      <td>81</td>\n",
       "    </tr>\n",
       "  </tbody>\n",
       "</table>\n",
       "</div>"
      ],
      "text/plain": [
       "   Annual Income (k$)  Spending Score (1-100)\n",
       "0                  15                      39\n",
       "1                  15                      81"
      ]
     },
     "execution_count": 5,
     "metadata": {},
     "output_type": "execute_result"
    }
   ],
   "source": [
    "# Создадим отдельный датасет, включающий только Annual Income и\tSpending Score, для этой задачи \n",
    "inc_spend_df = cust_df.iloc[:,[3,4]]\n",
    "inc_spend_df.head(2)"
   ]
  },
  {
   "cell_type": "code",
   "execution_count": 6,
   "id": "bf4d3058",
   "metadata": {},
   "outputs": [
    {
     "data": {
      "image/png": "[encoded data removed]",
      "text/plain": [
       "<Figure size 720x360 with 1 Axes>"
      ]
     },
     "metadata": {
      "needs_background": "light"
     },
     "output_type": "display_data"
    }
   ],
   "source": [
    "# Определим оптимальное количество кластеров\n",
    "v_list = []\n",
    "for i in range(1, 11):\n",
    "    kmeans = KMeans(n_clusters = i, init='k-means++', random_state = 0)\n",
    "    kmeans.fit(inc_spend_df) \n",
    "    v_list.append(kmeans.inertia_)\n",
    "plt.plot(range(1,11), v_list)\n",
    "plt.show()"
   ]
  },
  {
   "cell_type": "markdown",
   "id": "aa265c62",
   "metadata": {},
   "source": [
    "Оптимальное количество кластеров = 5."
   ]
  },
  {
   "cell_type": "markdown",
   "id": "1febf395",
   "metadata": {},
   "source": [
    "5. Обучить модель К-средних и предсказать кластер для каждого значения из датасета"
   ]
  },
  {
   "cell_type": "code",
   "execution_count": 7,
   "id": "bf4845b4",
   "metadata": {},
   "outputs": [
    {
     "data": {
      "text/plain": [
       "array([4, 3, 4, 3, 4, 3, 4, 3, 4, 3, 4, 3, 4, 3, 4, 3, 4, 3, 4, 3, 4, 3,\n",
       "       4, 3, 4, 3, 4, 3, 4, 3, 4, 3, 4, 3, 4, 3, 4, 3, 4, 3, 4, 3, 4, 1,\n",
       "       4, 3, 1, 1, 1, 1, 1, 1, 1, 1, 1, 1, 1, 1, 1, 1, 1, 1, 1, 1, 1, 1,\n",
       "       1, 1, 1, 1, 1, 1, 1, 1, 1, 1, 1, 1, 1, 1, 1, 1, 1, 1, 1, 1, 1, 1,\n",
       "       1, 1, 1, 1, 1, 1, 1, 1, 1, 1, 1, 1, 1, 1, 1, 1, 1, 1, 1, 1, 1, 1,\n",
       "       1, 1, 1, 1, 1, 1, 1, 1, 1, 1, 1, 1, 1, 2, 0, 2, 1, 2, 0, 2, 0, 2,\n",
       "       1, 2, 0, 2, 0, 2, 0, 2, 0, 2, 1, 2, 0, 2, 0, 2, 0, 2, 0, 2, 0, 2,\n",
       "       0, 2, 0, 2, 0, 2, 0, 2, 0, 2, 0, 2, 0, 2, 0, 2, 0, 2, 0, 2, 0, 2,\n",
       "       0, 2, 0, 2, 0, 2, 0, 2, 0, 2, 0, 2, 0, 2, 0, 2, 0, 2, 0, 2, 0, 2,\n",
       "       0, 2])"
      ]
     },
     "execution_count": 7,
     "metadata": {},
     "output_type": "execute_result"
    }
   ],
   "source": [
    "kmeans = KMeans(n_clusters = 5, init ='k-means++',random_state = 0)\n",
    "pred_v = kmeans.fit_predict(inc_spend_df)\n",
    "pred_v"
   ]
  },
  {
   "cell_type": "code",
   "execution_count": 8,
   "id": "9a7e9c29",
   "metadata": {},
   "outputs": [],
   "source": [
    "items = zip(pred_v, inc_spend_df[\"Annual Income (k$)\"].to_list(), inc_spend_df[\"Spending Score (1-100)\"].to_list())"
   ]
  },
  {
   "cell_type": "code",
   "execution_count": 9,
   "id": "29b19b16",
   "metadata": {},
   "outputs": [
    {
     "name": "stdout",
     "output_type": "stream",
     "text": [
      "№: 4, income: 15, score: 39\n",
      "№: 3, income: 15, score: 81\n",
      "№: 4, income: 16, score: 6\n",
      "№: 3, income: 16, score: 77\n",
      "№: 4, income: 17, score: 40\n",
      "№: 3, income: 17, score: 76\n",
      "№: 4, income: 18, score: 6\n",
      "№: 3, income: 18, score: 94\n",
      "№: 4, income: 19, score: 3\n",
      "№: 3, income: 19, score: 72\n",
      "№: 4, income: 19, score: 14\n",
      "№: 3, income: 19, score: 99\n",
      "№: 4, income: 20, score: 15\n",
      "№: 3, income: 20, score: 77\n",
      "№: 4, income: 20, score: 13\n",
      "№: 3, income: 20, score: 79\n",
      "№: 4, income: 21, score: 35\n",
      "№: 3, income: 21, score: 66\n",
      "№: 4, income: 23, score: 29\n",
      "№: 3, income: 23, score: 98\n",
      "№: 4, income: 24, score: 35\n",
      "№: 3, income: 24, score: 73\n",
      "№: 4, income: 25, score: 5\n",
      "№: 3, income: 25, score: 73\n",
      "№: 4, income: 28, score: 14\n",
      "№: 3, income: 28, score: 82\n",
      "№: 4, income: 28, score: 32\n",
      "№: 3, income: 28, score: 61\n",
      "№: 4, income: 29, score: 31\n",
      "№: 3, income: 29, score: 87\n",
      "№: 4, income: 30, score: 4\n",
      "№: 3, income: 30, score: 73\n",
      "№: 4, income: 33, score: 4\n",
      "№: 3, income: 33, score: 92\n",
      "№: 4, income: 33, score: 14\n",
      "№: 3, income: 33, score: 81\n",
      "№: 4, income: 34, score: 17\n",
      "№: 3, income: 34, score: 73\n",
      "№: 4, income: 37, score: 26\n",
      "№: 3, income: 37, score: 75\n",
      "№: 4, income: 38, score: 35\n",
      "№: 3, income: 38, score: 92\n",
      "№: 4, income: 39, score: 36\n",
      "№: 1, income: 39, score: 61\n",
      "№: 4, income: 39, score: 28\n",
      "№: 3, income: 39, score: 65\n",
      "№: 1, income: 40, score: 55\n",
      "№: 1, income: 40, score: 47\n",
      "№: 1, income: 40, score: 42\n",
      "№: 1, income: 40, score: 42\n",
      "№: 1, income: 42, score: 52\n",
      "№: 1, income: 42, score: 60\n",
      "№: 1, income: 43, score: 54\n",
      "№: 1, income: 43, score: 60\n",
      "№: 1, income: 43, score: 45\n",
      "№: 1, income: 43, score: 41\n",
      "№: 1, income: 44, score: 50\n",
      "№: 1, income: 44, score: 46\n",
      "№: 1, income: 46, score: 51\n",
      "№: 1, income: 46, score: 46\n",
      "№: 1, income: 46, score: 56\n",
      "№: 1, income: 46, score: 55\n",
      "№: 1, income: 47, score: 52\n",
      "№: 1, income: 47, score: 59\n",
      "№: 1, income: 48, score: 51\n",
      "№: 1, income: 48, score: 59\n",
      "№: 1, income: 48, score: 50\n",
      "№: 1, income: 48, score: 48\n",
      "№: 1, income: 48, score: 59\n",
      "№: 1, income: 48, score: 47\n",
      "№: 1, income: 49, score: 55\n",
      "№: 1, income: 49, score: 42\n",
      "№: 1, income: 50, score: 49\n",
      "№: 1, income: 50, score: 56\n",
      "№: 1, income: 54, score: 47\n",
      "№: 1, income: 54, score: 54\n",
      "№: 1, income: 54, score: 53\n",
      "№: 1, income: 54, score: 48\n",
      "№: 1, income: 54, score: 52\n",
      "№: 1, income: 54, score: 42\n",
      "№: 1, income: 54, score: 51\n",
      "№: 1, income: 54, score: 55\n",
      "№: 1, income: 54, score: 41\n",
      "№: 1, income: 54, score: 44\n",
      "№: 1, income: 54, score: 57\n",
      "№: 1, income: 54, score: 46\n",
      "№: 1, income: 57, score: 58\n",
      "№: 1, income: 57, score: 55\n",
      "№: 1, income: 58, score: 60\n",
      "№: 1, income: 58, score: 46\n",
      "№: 1, income: 59, score: 55\n",
      "№: 1, income: 59, score: 41\n",
      "№: 1, income: 60, score: 49\n",
      "№: 1, income: 60, score: 40\n",
      "№: 1, income: 60, score: 42\n",
      "№: 1, income: 60, score: 52\n",
      "№: 1, income: 60, score: 47\n",
      "№: 1, income: 60, score: 50\n",
      "№: 1, income: 61, score: 42\n",
      "№: 1, income: 61, score: 49\n",
      "№: 1, income: 62, score: 41\n",
      "№: 1, income: 62, score: 48\n",
      "№: 1, income: 62, score: 59\n",
      "№: 1, income: 62, score: 55\n",
      "№: 1, income: 62, score: 56\n",
      "№: 1, income: 62, score: 42\n",
      "№: 1, income: 63, score: 50\n",
      "№: 1, income: 63, score: 46\n",
      "№: 1, income: 63, score: 43\n",
      "№: 1, income: 63, score: 48\n",
      "№: 1, income: 63, score: 52\n",
      "№: 1, income: 63, score: 54\n",
      "№: 1, income: 64, score: 42\n",
      "№: 1, income: 64, score: 46\n",
      "№: 1, income: 65, score: 48\n",
      "№: 1, income: 65, score: 50\n",
      "№: 1, income: 65, score: 43\n",
      "№: 1, income: 65, score: 59\n",
      "№: 1, income: 67, score: 43\n",
      "№: 1, income: 67, score: 57\n",
      "№: 1, income: 67, score: 56\n",
      "№: 1, income: 67, score: 40\n",
      "№: 1, income: 69, score: 58\n",
      "№: 2, income: 69, score: 91\n",
      "№: 0, income: 70, score: 29\n",
      "№: 2, income: 70, score: 77\n",
      "№: 1, income: 71, score: 35\n",
      "№: 2, income: 71, score: 95\n",
      "№: 0, income: 71, score: 11\n",
      "№: 2, income: 71, score: 75\n",
      "№: 0, income: 71, score: 9\n",
      "№: 2, income: 71, score: 75\n",
      "№: 1, income: 72, score: 34\n",
      "№: 2, income: 72, score: 71\n",
      "№: 0, income: 73, score: 5\n",
      "№: 2, income: 73, score: 88\n",
      "№: 0, income: 73, score: 7\n",
      "№: 2, income: 73, score: 73\n",
      "№: 0, income: 74, score: 10\n",
      "№: 2, income: 74, score: 72\n",
      "№: 0, income: 75, score: 5\n",
      "№: 2, income: 75, score: 93\n",
      "№: 1, income: 76, score: 40\n",
      "№: 2, income: 76, score: 87\n",
      "№: 0, income: 77, score: 12\n",
      "№: 2, income: 77, score: 97\n",
      "№: 0, income: 77, score: 36\n",
      "№: 2, income: 77, score: 74\n",
      "№: 0, income: 78, score: 22\n",
      "№: 2, income: 78, score: 90\n",
      "№: 0, income: 78, score: 17\n",
      "№: 2, income: 78, score: 88\n",
      "№: 0, income: 78, score: 20\n",
      "№: 2, income: 78, score: 76\n",
      "№: 0, income: 78, score: 16\n",
      "№: 2, income: 78, score: 89\n",
      "№: 0, income: 78, score: 1\n",
      "№: 2, income: 78, score: 78\n",
      "№: 0, income: 78, score: 1\n",
      "№: 2, income: 78, score: 73\n",
      "№: 0, income: 79, score: 35\n",
      "№: 2, income: 79, score: 83\n",
      "№: 0, income: 81, score: 5\n",
      "№: 2, income: 81, score: 93\n",
      "№: 0, income: 85, score: 26\n",
      "№: 2, income: 85, score: 75\n",
      "№: 0, income: 86, score: 20\n",
      "№: 2, income: 86, score: 95\n",
      "№: 0, income: 87, score: 27\n",
      "№: 2, income: 87, score: 63\n",
      "№: 0, income: 87, score: 13\n",
      "№: 2, income: 87, score: 75\n",
      "№: 0, income: 87, score: 10\n",
      "№: 2, income: 87, score: 92\n",
      "№: 0, income: 88, score: 13\n",
      "№: 2, income: 88, score: 86\n",
      "№: 0, income: 88, score: 15\n",
      "№: 2, income: 88, score: 69\n",
      "№: 0, income: 93, score: 14\n",
      "№: 2, income: 93, score: 90\n",
      "№: 0, income: 97, score: 32\n",
      "№: 2, income: 97, score: 86\n",
      "№: 0, income: 98, score: 15\n",
      "№: 2, income: 98, score: 88\n",
      "№: 0, income: 99, score: 39\n",
      "№: 2, income: 99, score: 97\n",
      "№: 0, income: 101, score: 24\n",
      "№: 2, income: 101, score: 68\n",
      "№: 0, income: 103, score: 17\n",
      "№: 2, income: 103, score: 85\n",
      "№: 0, income: 103, score: 23\n",
      "№: 2, income: 103, score: 69\n",
      "№: 0, income: 113, score: 8\n",
      "№: 2, income: 113, score: 91\n",
      "№: 0, income: 120, score: 16\n",
      "№: 2, income: 120, score: 79\n",
      "№: 0, income: 126, score: 28\n",
      "№: 2, income: 126, score: 74\n",
      "№: 0, income: 137, score: 18\n",
      "№: 2, income: 137, score: 83\n"
     ]
    }
   ],
   "source": [
    "for predict, income, score  in items:\n",
    "    print(f\"№: {predict}, income: {income}, score: {score}\")"
   ]
  },
  {
   "cell_type": "markdown",
   "id": "197425bd",
   "metadata": {},
   "source": [
    "6. Построить графическую интерпретацию из пункта 3,  с центрами кластеров."
   ]
  },
  {
   "cell_type": "code",
   "execution_count": 10,
   "id": "ed121187",
   "metadata": {},
   "outputs": [
    {
     "data": {
      "image/png": "[encoded data removed]",
      "text/plain": [
       "<Figure size 720x360 with 1 Axes>"
      ]
     },
     "metadata": {
      "needs_background": "light"
     },
     "output_type": "display_data"
    }
   ],
   "source": [
    "f, ax = plt.subplots()\n",
    "sns.scatterplot(x=inc_spend_df['Annual Income (k$)'], \n",
    "                y=inc_spend_df['Spending Score (1-100)'], \n",
    "                hue=pred_v, \n",
    "                palette=\"deep\", \n",
    "                data=inc_spend_df, \n",
    "                ax=ax)\n",
    "plt.scatter(kmeans.cluster_centers_[:,0], kmeans.cluster_centers_[:,1], color='red')\n",
    "plt.show()"
   ]
  },
  {
   "cell_type": "markdown",
   "id": "86cb48d4",
   "metadata": {},
   "source": [
    "Вывод:\n",
    "\n",
    "Клиентов можно разделить на 5 категорий:\n",
    "* 0 - Клиенты с высоким доходом и низкими расходами\n",
    "* 1 - Клиенты со средними доходом и расходами\n",
    "* 2 - Клиенты с высоким доходом и высокими расходами\n",
    "* 3 - Клиенты с низким доходом и высокими расходами\n",
    "* 4 - Клиенты с низким доходом и низкими расходами \n",
    "\n",
    "В будущем для каждой категории можно будет использователь специальные маркетинговые предложения для увеличения прибыли компании."
   ]
  },
  {
   "cell_type": "markdown",
   "id": "6cc77b97",
   "metadata": {},
   "source": [
    "7. Построить графическую интерпретацию с центрами кластеров, в качестве x-координаты используйте Возраст, в качестве y-координаты Spending Score."
   ]
  },
  {
   "cell_type": "code",
   "execution_count": 11,
   "id": "a4d0f4a0",
   "metadata": {},
   "outputs": [
    {
     "data": {
      "text/html": [
       "<div>\n",
       "<style scoped>\n",
       "    .dataframe tbody tr th:only-of-type {\n",
       "        vertical-align: middle;\n",
       "    }\n",
       "\n",
       "    .dataframe tbody tr th {\n",
       "        vertical-align: top;\n",
       "    }\n",
       "\n",
       "    .dataframe thead th {\n",
       "        text-align: right;\n",
       "    }\n",
       "</style>\n",
       "<table border=\"1\" class=\"dataframe\">\n",
       "  <thead>\n",
       "    <tr style=\"text-align: right;\">\n",
       "      <th></th>\n",
       "      <th>Age</th>\n",
       "      <th>Spending Score (1-100)</th>\n",
       "    </tr>\n",
       "  </thead>\n",
       "  <tbody>\n",
       "    <tr>\n",
       "      <th>0</th>\n",
       "      <td>19</td>\n",
       "      <td>39</td>\n",
       "    </tr>\n",
       "    <tr>\n",
       "      <th>1</th>\n",
       "      <td>21</td>\n",
       "      <td>81</td>\n",
       "    </tr>\n",
       "    <tr>\n",
       "      <th>2</th>\n",
       "      <td>20</td>\n",
       "      <td>6</td>\n",
       "    </tr>\n",
       "    <tr>\n",
       "      <th>3</th>\n",
       "      <td>23</td>\n",
       "      <td>77</td>\n",
       "    </tr>\n",
       "    <tr>\n",
       "      <th>4</th>\n",
       "      <td>31</td>\n",
       "      <td>40</td>\n",
       "    </tr>\n",
       "    <tr>\n",
       "      <th>...</th>\n",
       "      <td>...</td>\n",
       "      <td>...</td>\n",
       "    </tr>\n",
       "    <tr>\n",
       "      <th>195</th>\n",
       "      <td>35</td>\n",
       "      <td>79</td>\n",
       "    </tr>\n",
       "    <tr>\n",
       "      <th>196</th>\n",
       "      <td>45</td>\n",
       "      <td>28</td>\n",
       "    </tr>\n",
       "    <tr>\n",
       "      <th>197</th>\n",
       "      <td>32</td>\n",
       "      <td>74</td>\n",
       "    </tr>\n",
       "    <tr>\n",
       "      <th>198</th>\n",
       "      <td>32</td>\n",
       "      <td>18</td>\n",
       "    </tr>\n",
       "    <tr>\n",
       "      <th>199</th>\n",
       "      <td>30</td>\n",
       "      <td>83</td>\n",
       "    </tr>\n",
       "  </tbody>\n",
       "</table>\n",
       "<p>200 rows × 2 columns</p>\n",
       "</div>"
      ],
      "text/plain": [
       "     Age  Spending Score (1-100)\n",
       "0     19                      39\n",
       "1     21                      81\n",
       "2     20                       6\n",
       "3     23                      77\n",
       "4     31                      40\n",
       "..   ...                     ...\n",
       "195   35                      79\n",
       "196   45                      28\n",
       "197   32                      74\n",
       "198   32                      18\n",
       "199   30                      83\n",
       "\n",
       "[200 rows x 2 columns]"
      ]
     },
     "execution_count": 11,
     "metadata": {},
     "output_type": "execute_result"
    }
   ],
   "source": [
    "# Вновь создадим отдельный датасет и повторим шаги\n",
    "age_score_df = cust_df.iloc[:,[2,4]]\n",
    "age_score_df"
   ]
  },
  {
   "cell_type": "code",
   "execution_count": 12,
   "id": "f19443f8",
   "metadata": {},
   "outputs": [
    {
     "data": {
      "image/png": "[encoded data removed]",
      "text/plain": [
       "<Figure size 720x360 with 1 Axes>"
      ]
     },
     "metadata": {
      "needs_background": "light"
     },
     "output_type": "display_data"
    }
   ],
   "source": [
    "# Оптимальное количество кластеров\n",
    "values = []\n",
    "for i in range(1, 11):\n",
    "    kmeans = KMeans(n_clusters = i, init='k-means++', random_state = 0)\n",
    "    kmeans.fit(age_score_df) \n",
    "    values.append(kmeans.inertia_)\n",
    "plt.plot(range(1, 11),values)\n",
    "plt.show()"
   ]
  },
  {
   "cell_type": "markdown",
   "id": "95274f07",
   "metadata": {},
   "source": [
    "Оптимальное количество кластеров - 4."
   ]
  },
  {
   "cell_type": "code",
   "execution_count": 13,
   "id": "8b1eebee",
   "metadata": {},
   "outputs": [
    {
     "name": "stdout",
     "output_type": "stream",
     "text": [
      "[2 1 0 1 2 1 0 1 0 1 0 1 0 1 0 1 2 2 0 1 2 1 0 1 0 1 0 2 0 1 0 1 0 1 0 1 0\n",
      " 1 0 1 3 1 3 2 0 2 3 2 2 2 3 2 2 3 3 3 3 3 2 3 3 2 3 3 3 2 3 3 2 2 3 3 3 3\n",
      " 3 2 3 2 2 3 3 2 3 3 2 3 3 2 2 3 3 2 3 2 2 2 3 2 3 2 2 3 3 2 3 2 3 3 3 3 3\n",
      " 2 2 2 2 2 3 3 3 3 2 2 2 1 2 1 3 1 0 1 0 1 2 1 0 1 0 1 0 1 0 1 2 1 0 1 3 1\n",
      " 0 1 0 1 0 1 0 1 0 1 0 1 3 1 0 1 0 1 0 1 0 2 0 1 0 1 0 1 0 1 0 1 0 1 0 1 2\n",
      " 1 0 1 0 1 0 1 0 1 0 1 0 1 0 1]\n"
     ]
    }
   ],
   "source": [
    "# Получение самих кластеров\n",
    "kmeans = KMeans(n_clusters=4, init='k-means++', random_state=0)\n",
    "pred_v = kmeans.fit_predict(age_score_df)\n",
    "print(pred_v)"
   ]
  },
  {
   "cell_type": "code",
   "execution_count": 14,
   "id": "6e446c51",
   "metadata": {},
   "outputs": [],
   "source": [
    "items = zip(pred_v, age_score_df[\"Age\"].to_list(), age_score_df[\"Spending Score (1-100)\"].to_list())"
   ]
  },
  {
   "cell_type": "code",
   "execution_count": 15,
   "id": "cac42653",
   "metadata": {},
   "outputs": [
    {
     "name": "stdout",
     "output_type": "stream",
     "text": [
      "№: 2, age: 19, score: 39\n",
      "№: 1, age: 21, score: 81\n",
      "№: 0, age: 20, score: 6\n",
      "№: 1, age: 23, score: 77\n",
      "№: 2, age: 31, score: 40\n",
      "№: 1, age: 22, score: 76\n",
      "№: 0, age: 35, score: 6\n",
      "№: 1, age: 23, score: 94\n",
      "№: 0, age: 64, score: 3\n",
      "№: 1, age: 30, score: 72\n",
      "№: 0, age: 67, score: 14\n",
      "№: 1, age: 35, score: 99\n",
      "№: 0, age: 58, score: 15\n",
      "№: 1, age: 24, score: 77\n",
      "№: 0, age: 37, score: 13\n",
      "№: 1, age: 22, score: 79\n",
      "№: 2, age: 35, score: 35\n",
      "№: 2, age: 20, score: 66\n",
      "№: 0, age: 52, score: 29\n",
      "№: 1, age: 35, score: 98\n",
      "№: 2, age: 35, score: 35\n",
      "№: 1, age: 25, score: 73\n",
      "№: 0, age: 46, score: 5\n",
      "№: 1, age: 31, score: 73\n",
      "№: 0, age: 54, score: 14\n",
      "№: 1, age: 29, score: 82\n",
      "№: 0, age: 45, score: 32\n",
      "№: 2, age: 35, score: 61\n",
      "№: 0, age: 40, score: 31\n",
      "№: 1, age: 23, score: 87\n",
      "№: 0, age: 60, score: 4\n",
      "№: 1, age: 21, score: 73\n",
      "№: 0, age: 53, score: 4\n",
      "№: 1, age: 18, score: 92\n",
      "№: 0, age: 49, score: 14\n",
      "№: 1, age: 21, score: 81\n",
      "№: 0, age: 42, score: 17\n",
      "№: 1, age: 30, score: 73\n",
      "№: 0, age: 36, score: 26\n",
      "№: 1, age: 20, score: 75\n",
      "№: 3, age: 65, score: 35\n",
      "№: 1, age: 24, score: 92\n",
      "№: 3, age: 48, score: 36\n",
      "№: 2, age: 31, score: 61\n",
      "№: 0, age: 49, score: 28\n",
      "№: 2, age: 24, score: 65\n",
      "№: 3, age: 50, score: 55\n",
      "№: 2, age: 27, score: 47\n",
      "№: 2, age: 29, score: 42\n",
      "№: 2, age: 31, score: 42\n",
      "№: 3, age: 49, score: 52\n",
      "№: 2, age: 33, score: 60\n",
      "№: 2, age: 31, score: 54\n",
      "№: 3, age: 59, score: 60\n",
      "№: 3, age: 50, score: 45\n",
      "№: 3, age: 47, score: 41\n",
      "№: 3, age: 51, score: 50\n",
      "№: 3, age: 69, score: 46\n",
      "№: 2, age: 27, score: 51\n",
      "№: 3, age: 53, score: 46\n",
      "№: 3, age: 70, score: 56\n",
      "№: 2, age: 19, score: 55\n",
      "№: 3, age: 67, score: 52\n",
      "№: 3, age: 54, score: 59\n",
      "№: 3, age: 63, score: 51\n",
      "№: 2, age: 18, score: 59\n",
      "№: 3, age: 43, score: 50\n",
      "№: 3, age: 68, score: 48\n",
      "№: 2, age: 19, score: 59\n",
      "№: 2, age: 32, score: 47\n",
      "№: 3, age: 70, score: 55\n",
      "№: 3, age: 47, score: 42\n",
      "№: 3, age: 60, score: 49\n",
      "№: 3, age: 60, score: 56\n",
      "№: 3, age: 59, score: 47\n",
      "№: 2, age: 26, score: 54\n",
      "№: 3, age: 45, score: 53\n",
      "№: 2, age: 40, score: 48\n",
      "№: 2, age: 23, score: 52\n",
      "№: 3, age: 49, score: 42\n",
      "№: 3, age: 57, score: 51\n",
      "№: 2, age: 38, score: 55\n",
      "№: 3, age: 67, score: 41\n",
      "№: 3, age: 46, score: 44\n",
      "№: 2, age: 21, score: 57\n",
      "№: 3, age: 48, score: 46\n",
      "№: 3, age: 55, score: 58\n",
      "№: 2, age: 22, score: 55\n",
      "№: 2, age: 34, score: 60\n",
      "№: 3, age: 50, score: 46\n",
      "№: 3, age: 68, score: 55\n",
      "№: 2, age: 18, score: 41\n",
      "№: 3, age: 48, score: 49\n",
      "№: 2, age: 40, score: 40\n",
      "№: 2, age: 32, score: 42\n",
      "№: 2, age: 24, score: 52\n",
      "№: 3, age: 47, score: 47\n",
      "№: 2, age: 27, score: 50\n",
      "№: 3, age: 48, score: 42\n",
      "№: 2, age: 20, score: 49\n",
      "№: 2, age: 23, score: 41\n",
      "№: 3, age: 49, score: 48\n",
      "№: 3, age: 67, score: 59\n",
      "№: 2, age: 26, score: 55\n",
      "№: 3, age: 49, score: 56\n",
      "№: 2, age: 21, score: 42\n",
      "№: 3, age: 66, score: 50\n",
      "№: 3, age: 54, score: 46\n",
      "№: 3, age: 68, score: 43\n",
      "№: 3, age: 66, score: 48\n",
      "№: 3, age: 65, score: 52\n",
      "№: 2, age: 19, score: 54\n",
      "№: 2, age: 38, score: 42\n",
      "№: 2, age: 19, score: 46\n",
      "№: 2, age: 18, score: 48\n",
      "№: 2, age: 19, score: 50\n",
      "№: 3, age: 63, score: 43\n",
      "№: 3, age: 49, score: 59\n",
      "№: 3, age: 51, score: 43\n",
      "№: 3, age: 50, score: 57\n",
      "№: 2, age: 27, score: 56\n",
      "№: 2, age: 38, score: 40\n",
      "№: 2, age: 40, score: 58\n",
      "№: 1, age: 39, score: 91\n",
      "№: 2, age: 23, score: 29\n",
      "№: 1, age: 31, score: 77\n",
      "№: 3, age: 43, score: 35\n",
      "№: 1, age: 40, score: 95\n",
      "№: 0, age: 59, score: 11\n",
      "№: 1, age: 38, score: 75\n",
      "№: 0, age: 47, score: 9\n",
      "№: 1, age: 39, score: 75\n",
      "№: 2, age: 25, score: 34\n",
      "№: 1, age: 31, score: 71\n",
      "№: 0, age: 20, score: 5\n",
      "№: 1, age: 29, score: 88\n",
      "№: 0, age: 44, score: 7\n",
      "№: 1, age: 32, score: 73\n",
      "№: 0, age: 19, score: 10\n",
      "№: 1, age: 35, score: 72\n",
      "№: 0, age: 57, score: 5\n",
      "№: 1, age: 32, score: 93\n",
      "№: 2, age: 28, score: 40\n",
      "№: 1, age: 32, score: 87\n",
      "№: 0, age: 25, score: 12\n",
      "№: 1, age: 28, score: 97\n",
      "№: 3, age: 48, score: 36\n",
      "№: 1, age: 32, score: 74\n",
      "№: 0, age: 34, score: 22\n",
      "№: 1, age: 34, score: 90\n",
      "№: 0, age: 43, score: 17\n",
      "№: 1, age: 39, score: 88\n",
      "№: 0, age: 44, score: 20\n",
      "№: 1, age: 38, score: 76\n",
      "№: 0, age: 47, score: 16\n",
      "№: 1, age: 27, score: 89\n",
      "№: 0, age: 37, score: 1\n",
      "№: 1, age: 30, score: 78\n",
      "№: 0, age: 34, score: 1\n",
      "№: 1, age: 30, score: 73\n",
      "№: 3, age: 56, score: 35\n",
      "№: 1, age: 29, score: 83\n",
      "№: 0, age: 19, score: 5\n",
      "№: 1, age: 31, score: 93\n",
      "№: 0, age: 50, score: 26\n",
      "№: 1, age: 36, score: 75\n",
      "№: 0, age: 42, score: 20\n",
      "№: 1, age: 33, score: 95\n",
      "№: 0, age: 36, score: 27\n",
      "№: 2, age: 32, score: 63\n",
      "№: 0, age: 40, score: 13\n",
      "№: 1, age: 28, score: 75\n",
      "№: 0, age: 36, score: 10\n",
      "№: 1, age: 36, score: 92\n",
      "№: 0, age: 52, score: 13\n",
      "№: 1, age: 30, score: 86\n",
      "№: 0, age: 58, score: 15\n",
      "№: 1, age: 27, score: 69\n",
      "№: 0, age: 59, score: 14\n",
      "№: 1, age: 35, score: 90\n",
      "№: 0, age: 37, score: 32\n",
      "№: 1, age: 32, score: 86\n",
      "№: 0, age: 46, score: 15\n",
      "№: 1, age: 29, score: 88\n",
      "№: 2, age: 41, score: 39\n",
      "№: 1, age: 30, score: 97\n",
      "№: 0, age: 54, score: 24\n",
      "№: 1, age: 28, score: 68\n",
      "№: 0, age: 41, score: 17\n",
      "№: 1, age: 36, score: 85\n",
      "№: 0, age: 34, score: 23\n",
      "№: 1, age: 32, score: 69\n",
      "№: 0, age: 33, score: 8\n",
      "№: 1, age: 38, score: 91\n",
      "№: 0, age: 47, score: 16\n",
      "№: 1, age: 35, score: 79\n",
      "№: 0, age: 45, score: 28\n",
      "№: 1, age: 32, score: 74\n",
      "№: 0, age: 32, score: 18\n",
      "№: 1, age: 30, score: 83\n"
     ]
    }
   ],
   "source": [
    "for predict, age, score  in items:\n",
    "    print(f'№: {predict}, age: {age}, score: {score}')"
   ]
  },
  {
   "cell_type": "code",
   "execution_count": 16,
   "id": "7addeb97",
   "metadata": {},
   "outputs": [
    {
     "data": {
      "image/png": "[encoded data removed]",
      "text/plain": [
       "<Figure size 720x360 with 1 Axes>"
      ]
     },
     "metadata": {
      "needs_background": "light"
     },
     "output_type": "display_data"
    }
   ],
   "source": [
    "# Визуализация\n",
    "f, ax = plt.subplots()\n",
    "sns.scatterplot(x=age_score_df['Age'], \n",
    "                y=age_score_df['Spending Score (1-100)'], \n",
    "                hue=pred_v, \n",
    "                palette=\"deep\",\n",
    "                data=age_score_df, \n",
    "                ax=ax)\n",
    "plt.scatter(kmeans.cluster_centers_[:,0], kmeans.cluster_centers_[:,1], color='red')\n",
    "plt.show()"
   ]
  },
  {
   "cell_type": "markdown",
   "id": "9700ca62",
   "metadata": {},
   "source": [
    "Чем меньше возраст, тем больше кластеров. С возрастанием возраста число расходов уменьшается."
   ]
  },
  {
   "cell_type": "markdown",
   "id": "1ea04f7d",
   "metadata": {},
   "source": [
    "8. Оцените модель с помощью метрик.\n"
   ]
  },
  {
   "cell_type": "markdown",
   "id": "e9db5d1e",
   "metadata": {},
   "source": [
    "Для оценки я буду использовать 2 метрики:\n",
    "* calinski_harabasz_score - критерий соотношения дисперсий, где рассматривается отношение между внутрикластерной дисперсией и межкластерной дисперсией. Чем выше индекс Калински-харабаза, тем лучше, то есть чем больше критерии оценки, тем лучше.\n",
    "* silhouette_score - расстояние разделения между кластерами. Чем ближе к 1, тем лучше."
   ]
  },
  {
   "cell_type": "code",
   "execution_count": 17,
   "id": "1e2fca8b",
   "metadata": {},
   "outputs": [
    {
     "data": {
      "text/plain": [
       "332.5631268443306"
      ]
     },
     "execution_count": 17,
     "metadata": {},
     "output_type": "execute_result"
    }
   ],
   "source": [
    "calinski_harabasz_score(age_score_df, pred_v)"
   ]
  },
  {
   "cell_type": "code",
   "execution_count": 18,
   "id": "4af63f35",
   "metadata": {},
   "outputs": [
    {
     "data": {
      "text/plain": [
       "0.49973941540141753"
      ]
     },
     "execution_count": 18,
     "metadata": {},
     "output_type": "execute_result"
    }
   ],
   "source": [
    "silhouette_score(age_score_df, pred_v)"
   ]
  },
  {
   "cell_type": "markdown",
   "id": "399760e5",
   "metadata": {},
   "source": [
    "9. Сравните эффективность модели кластеризации в зависимости от количества кластеров. Сделайте выводы."
   ]
  },
  {
   "cell_type": "code",
   "execution_count": 19,
   "id": "d9eeabb0",
   "metadata": {},
   "outputs": [],
   "source": [
    "# Выведем метрики\n",
    "iter_s = list(range(2, 25))\n",
    "silhouettes = []\n",
    "calinski_harabasz_s = []"
   ]
  },
  {
   "cell_type": "code",
   "execution_count": 20,
   "id": "035e888b",
   "metadata": {},
   "outputs": [
    {
     "name": "stdout",
     "output_type": "stream",
     "text": [
      "Количество кластеров: 2, silhouette = 0.4692341232501655, calinski_harabasz = 249.19429134176448)\n",
      "Количество кластеров: 3, silhouette = 0.45300127016521263, calinski_harabasz = 270.0863298113398)\n",
      "Количество кластеров: 4, silhouette = 0.49973941540141753, calinski_harabasz = 332.5631268443306)\n",
      "Количество кластеров: 5, silhouette = 0.44526667994351227, calinski_harabasz = 302.4394405378254)\n",
      "Количество кластеров: 6, silhouette = 0.4405479018621985, calinski_harabasz = 302.46952193907464)\n",
      "Количество кластеров: 7, silhouette = 0.40833321946277396, calinski_harabasz = 321.55913801827427)\n",
      "Количество кластеров: 8, silhouette = 0.4290264154541208, calinski_harabasz = 332.19774974353555)\n",
      "Количество кластеров: 9, silhouette = 0.4119906277658083, calinski_harabasz = 329.6446137896869)\n",
      "Количество кластеров: 10, silhouette = 0.4053147296517973, calinski_harabasz = 331.06296555977315)\n",
      "Количество кластеров: 11, silhouette = 0.3909579220625129, calinski_harabasz = 318.3289271228766)\n",
      "Количество кластеров: 12, silhouette = 0.37940248214177, calinski_harabasz = 317.6280345828224)\n",
      "Количество кластеров: 13, silhouette = 0.4057337542195799, calinski_harabasz = 319.52722377001925)\n",
      "Количество кластеров: 14, silhouette = 0.3974990798045552, calinski_harabasz = 322.98135131656096)\n",
      "Количество кластеров: 15, silhouette = 0.4249529968019586, calinski_harabasz = 330.36409764004935)\n",
      "Количество кластеров: 16, silhouette = 0.41172367786443104, calinski_harabasz = 334.48141894264904)\n",
      "Количество кластеров: 17, silhouette = 0.3957845336812953, calinski_harabasz = 331.5404176278938)\n",
      "Количество кластеров: 18, silhouette = 0.4077218451334316, calinski_harabasz = 343.3291340080775)\n",
      "Количество кластеров: 19, silhouette = 0.39924478398227564, calinski_harabasz = 337.6239445906371)\n",
      "Количество кластеров: 20, silhouette = 0.39960961881912965, calinski_harabasz = 332.61005888355993)\n",
      "Количество кластеров: 21, silhouette = 0.411839520606307, calinski_harabasz = 343.27944550179035)\n",
      "Количество кластеров: 22, silhouette = 0.4126539262184633, calinski_harabasz = 350.9541894284196)\n",
      "Количество кластеров: 23, silhouette = 0.40512797530415384, calinski_harabasz = 334.53943353361905)\n",
      "Количество кластеров: 24, silhouette = 0.42790368871099715, calinski_harabasz = 347.4220189852405)\n"
     ]
    }
   ],
   "source": [
    "for n in iter_s:\n",
    "    kmeans = KMeans(n_clusters=n, init='k-means++', random_state=0)\n",
    "    pred_v = kmeans.fit_predict(age_score_df)\n",
    "    centers = kmeans.cluster_centers_\n",
    "    \n",
    "    silhouette_score_ = silhouette_score(age_score_df, pred_v)\n",
    "    calinski_harabasz_score_ = calinski_harabasz_score(age_score_df, pred_v)\n",
    "    \n",
    "    silhouettes.append(silhouette_score_)\n",
    "    calinski_harabasz_s.append(calinski_harabasz_score_)\n",
    "    print(f\"Количество кластеров: {n}, silhouette = {silhouette_score_}, calinski_harabasz = {calinski_harabasz_score_})\")"
   ]
  },
  {
   "cell_type": "code",
   "execution_count": 21,
   "id": "b7fe648e",
   "metadata": {},
   "outputs": [],
   "source": [
    "# Нормализация\n",
    "silhouettes = np.array(silhouettes)\n",
    "calinski_harabasz_s = np.array(calinski_harabasz_s)\n",
    "\n",
    "silhouettes = (silhouettes - silhouettes.min()) / (silhouettes.max() - silhouettes.min())\n",
    "calinski_harabasz_s = (calinski_harabasz_s - calinski_harabasz_s.min()) / (calinski_harabasz_s.max() - calinski_harabasz_s.min())"
   ]
  },
  {
   "cell_type": "code",
   "execution_count": 22,
   "id": "aa4d3777",
   "metadata": {},
   "outputs": [
    {
     "data": {
      "image/png": "[encoded data removed]",
      "text/plain": [
       "<Figure size 720x360 with 1 Axes>"
      ]
     },
     "metadata": {
      "needs_background": "light"
     },
     "output_type": "display_data"
    }
   ],
   "source": [
    "fig = plt.figure(figsize=(10, 5))\n",
    "plt.plot(iter_s, silhouettes, label='silhouette', color=\"blue\")\n",
    "plt.plot(iter_s, calinski_harabasz_s, label='calinski harabas', color=\"red\")\n",
    "plt.xlabel('Количество кластеров', fontsize=14)\n",
    "plt.xticks(iter_s)\n",
    "plt.legend()\n",
    "plt.show()"
   ]
  },
  {
   "cell_type": "markdown",
   "id": "9fa6ab95",
   "metadata": {},
   "source": [
    "При учете обеих метрих, лучшие результаты при количестве кластеров = 4."
   ]
  }
 ],
 "metadata": {
  "kernelspec": {
   "display_name": "Python 3 (ipykernel)",
   "language": "python",
   "name": "python3"
  },
  "language_info": {
   "codemirror_mode": {
    "name": "ipython",
    "version": 3
   },
   "file_extension": ".py",
   "mimetype": "text/x-python",
   "name": "python",
   "nbconvert_exporter": "python",
   "pygments_lexer": "ipython3",
   "version": "3.9.7"
  }
 },
 "nbformat": 4,
 "nbformat_minor": 5
}
