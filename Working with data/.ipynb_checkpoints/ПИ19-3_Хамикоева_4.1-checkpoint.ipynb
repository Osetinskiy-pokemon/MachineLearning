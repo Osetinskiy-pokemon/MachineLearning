{
 "cells": [
  {
   "cell_type": "code",
   "execution_count": 1,
   "id": "879347de",
   "metadata": {},
   "outputs": [],
   "source": [
    "#Здесь расположим все импорты\n",
    "import pandas as pd\n",
    "import seaborn as sns\n",
    "import matplotlib\n",
    "import matplotlib.pyplot as plt\n",
    "import numpy as np\n",
    "\n",
    "import warnings\n",
    "warnings.filterwarnings('ignore')"
   ]
  },
  {
   "cell_type": "markdown",
   "id": "99c4a45c",
   "metadata": {},
   "source": [
    "1. Загрузите и прочитайте в pandas следующий датасет. Обратите внимание, что датасет собран «криво», поэтому прежде чем он «правильно» загрузится, необходимо его обработать."
   ]
  },
  {
   "cell_type": "code",
   "execution_count": 2,
   "id": "1335d699",
   "metadata": {},
   "outputs": [
    {
     "data": {
      "text/html": [
       "<div>\n",
       "<style scoped>\n",
       "    .dataframe tbody tr th:only-of-type {\n",
       "        vertical-align: middle;\n",
       "    }\n",
       "\n",
       "    .dataframe tbody tr th {\n",
       "        vertical-align: top;\n",
       "    }\n",
       "\n",
       "    .dataframe thead th {\n",
       "        text-align: right;\n",
       "    }\n",
       "</style>\n",
       "<table border=\"1\" class=\"dataframe\">\n",
       "  <thead>\n",
       "    <tr style=\"text-align: right;\">\n",
       "      <th></th>\n",
       "      <th>dateCrawled</th>\n",
       "      <th>name</th>\n",
       "      <th>seller</th>\n",
       "      <th>offerType</th>\n",
       "      <th>price</th>\n",
       "      <th>abtest</th>\n",
       "      <th>vehicleType</th>\n",
       "      <th>yearOfRegistration</th>\n",
       "      <th>gearbox</th>\n",
       "      <th>powerPS</th>\n",
       "      <th>model</th>\n",
       "      <th>kilometer</th>\n",
       "      <th>monthOfRegistration</th>\n",
       "      <th>fuelType</th>\n",
       "      <th>brand</th>\n",
       "      <th>notRepairedDamage</th>\n",
       "      <th>dateCreated</th>\n",
       "      <th>postalCode</th>\n",
       "      <th>lastSeen</th>\n",
       "    </tr>\n",
       "  </thead>\n",
       "  <tbody>\n",
       "    <tr>\n",
       "      <th>0</th>\n",
       "      <td>30/03/2016 13:51</td>\n",
       "      <td>Zu_verkaufen</td>\n",
       "      <td>private</td>\n",
       "      <td>offer</td>\n",
       "      <td>4450</td>\n",
       "      <td>test</td>\n",
       "      <td>limousine</td>\n",
       "      <td>2003</td>\n",
       "      <td>manual</td>\n",
       "      <td>150</td>\n",
       "      <td>3er</td>\n",
       "      <td>150000</td>\n",
       "      <td>3</td>\n",
       "      <td>diesel</td>\n",
       "      <td>bmw</td>\n",
       "      <td>NaN</td>\n",
       "      <td>30/03/2016 0:00</td>\n",
       "      <td>20257</td>\n",
       "      <td>7/4/2016 4:44</td>\n",
       "    </tr>\n",
       "    <tr>\n",
       "      <th>1</th>\n",
       "      <td>7/3/2016 9:54</td>\n",
       "      <td>Volvo_XC90_2.4D_Summum</td>\n",
       "      <td>private</td>\n",
       "      <td>offer</td>\n",
       "      <td>13299</td>\n",
       "      <td>control</td>\n",
       "      <td>suv</td>\n",
       "      <td>2005</td>\n",
       "      <td>manual</td>\n",
       "      <td>163</td>\n",
       "      <td>xc_reihe</td>\n",
       "      <td>150000</td>\n",
       "      <td>6</td>\n",
       "      <td>diesel</td>\n",
       "      <td>volvo</td>\n",
       "      <td>no</td>\n",
       "      <td>7/3/2016 0:00</td>\n",
       "      <td>88045</td>\n",
       "      <td>26/03/2016 13:17</td>\n",
       "    </tr>\n",
       "    <tr>\n",
       "      <th>2</th>\n",
       "      <td>1/4/2016 0:57</td>\n",
       "      <td>Volkswagen_Touran</td>\n",
       "      <td>private</td>\n",
       "      <td>offer</td>\n",
       "      <td>3200</td>\n",
       "      <td>test</td>\n",
       "      <td>bus</td>\n",
       "      <td>2003</td>\n",
       "      <td>manual</td>\n",
       "      <td>101</td>\n",
       "      <td>touran</td>\n",
       "      <td>150000</td>\n",
       "      <td>11</td>\n",
       "      <td>diesel</td>\n",
       "      <td>volkswagen</td>\n",
       "      <td>NaN</td>\n",
       "      <td>31/03/2016 0:00</td>\n",
       "      <td>27449</td>\n",
       "      <td>1/4/2016 8:40</td>\n",
       "    </tr>\n",
       "  </tbody>\n",
       "</table>\n",
       "</div>"
      ],
      "text/plain": [
       "        dateCrawled                    name   seller offerType  price  \\\n",
       "0  30/03/2016 13:51            Zu_verkaufen  private     offer   4450   \n",
       "1     7/3/2016 9:54  Volvo_XC90_2.4D_Summum  private     offer  13299   \n",
       "2     1/4/2016 0:57       Volkswagen_Touran  private     offer   3200   \n",
       "\n",
       "    abtest vehicleType  yearOfRegistration gearbox  powerPS     model  \\\n",
       "0     test   limousine                2003  manual      150       3er   \n",
       "1  control         suv                2005  manual      163  xc_reihe   \n",
       "2     test         bus                2003  manual      101    touran   \n",
       "\n",
       "   kilometer  monthOfRegistration fuelType       brand notRepairedDamage  \\\n",
       "0     150000                    3   diesel         bmw               NaN   \n",
       "1     150000                    6   diesel       volvo                no   \n",
       "2     150000                   11   diesel  volkswagen               NaN   \n",
       "\n",
       "       dateCreated  postalCode          lastSeen  \n",
       "0  30/03/2016 0:00       20257     7/4/2016 4:44  \n",
       "1    7/3/2016 0:00       88045  26/03/2016 13:17  \n",
       "2  31/03/2016 0:00       27449     1/4/2016 8:40  "
      ]
     },
     "execution_count": 2,
     "metadata": {},
     "output_type": "execute_result"
    }
   ],
   "source": [
    "cars_df = pd.read_csv(\"data/cars_sampled.csv\")\n",
    "cars_df.head(3)"
   ]
  },
  {
   "cell_type": "markdown",
   "id": "558da6d4",
   "metadata": {},
   "source": [
    "2. Сделайте описательную статистику: размер, типы переменных, пустые значения, уникальные имена и т.д."
   ]
  },
  {
   "cell_type": "code",
   "execution_count": 3,
   "id": "0592c83f",
   "metadata": {},
   "outputs": [
    {
     "name": "stdout",
     "output_type": "stream",
     "text": [
      "Размер датасета: (50001, 19), где       \n",
      "количество наблюдений - 50001,       \n",
      "количество параметров - 19\n"
     ]
    }
   ],
   "source": [
    "print(f'Размер датасета: {cars_df.shape}, где \\\n",
    "      \\nколичество наблюдений - {cars_df.shape[0]}, \\\n",
    "      \\nколичество параметров - {cars_df.shape[1]}')"
   ]
  },
  {
   "cell_type": "code",
   "execution_count": 4,
   "id": "f4e4ec97",
   "metadata": {},
   "outputs": [
    {
     "name": "stdout",
     "output_type": "stream",
     "text": [
      "Типы каждого поля и шкала (уникальные имена):\n"
     ]
    },
    {
     "data": {
      "text/html": [
       "<div>\n",
       "<style scoped>\n",
       "    .dataframe tbody tr th:only-of-type {\n",
       "        vertical-align: middle;\n",
       "    }\n",
       "\n",
       "    .dataframe tbody tr th {\n",
       "        vertical-align: top;\n",
       "    }\n",
       "\n",
       "    .dataframe thead th {\n",
       "        text-align: right;\n",
       "    }\n",
       "</style>\n",
       "<table border=\"1\" class=\"dataframe\">\n",
       "  <thead>\n",
       "    <tr style=\"text-align: right;\">\n",
       "      <th></th>\n",
       "      <th>data_type</th>\n",
       "      <th>scale</th>\n",
       "    </tr>\n",
       "  </thead>\n",
       "  <tbody>\n",
       "    <tr>\n",
       "      <th>dateCrawled</th>\n",
       "      <td>object</td>\n",
       "      <td>[30/03/2016 13:51, 7/3/2016 9:54, 1/4/2016 0:5...</td>\n",
       "    </tr>\n",
       "    <tr>\n",
       "      <th>name</th>\n",
       "      <td>object</td>\n",
       "      <td>[Zu_verkaufen, Volvo_XC90_2.4D_Summum, Volkswa...</td>\n",
       "    </tr>\n",
       "    <tr>\n",
       "      <th>seller</th>\n",
       "      <td>object</td>\n",
       "      <td>[private, commercial]</td>\n",
       "    </tr>\n",
       "    <tr>\n",
       "      <th>offerType</th>\n",
       "      <td>object</td>\n",
       "      <td>[offer, request]</td>\n",
       "    </tr>\n",
       "    <tr>\n",
       "      <th>price</th>\n",
       "      <td>int64</td>\n",
       "      <td>[4450, 13299, 3200, 4500, 18750, 988, 400, 139...</td>\n",
       "    </tr>\n",
       "    <tr>\n",
       "      <th>abtest</th>\n",
       "      <td>object</td>\n",
       "      <td>[test, control]</td>\n",
       "    </tr>\n",
       "    <tr>\n",
       "      <th>vehicleType</th>\n",
       "      <td>object</td>\n",
       "      <td>[limousine, suv, bus, small car, station wagon...</td>\n",
       "    </tr>\n",
       "    <tr>\n",
       "      <th>yearOfRegistration</th>\n",
       "      <td>int64</td>\n",
       "      <td>[2003, 2005, 2006, 2008, 1995, 1996, 1997, 200...</td>\n",
       "    </tr>\n",
       "    <tr>\n",
       "      <th>gearbox</th>\n",
       "      <td>object</td>\n",
       "      <td>[manual, automatic, nan]</td>\n",
       "    </tr>\n",
       "    <tr>\n",
       "      <th>powerPS</th>\n",
       "      <td>int64</td>\n",
       "      <td>[150, 163, 101, 86, 185, 90, 0, 136, 122, 140,...</td>\n",
       "    </tr>\n",
       "    <tr>\n",
       "      <th>model</th>\n",
       "      <td>object</td>\n",
       "      <td>[3er, xc_reihe, touran, ibiza, passat, astra, ...</td>\n",
       "    </tr>\n",
       "    <tr>\n",
       "      <th>kilometer</th>\n",
       "      <td>int64</td>\n",
       "      <td>[150000, 60000, 125000, 5000, 50000, 80000, 90...</td>\n",
       "    </tr>\n",
       "    <tr>\n",
       "      <th>monthOfRegistration</th>\n",
       "      <td>int64</td>\n",
       "      <td>[3, 6, 11, 12, 2, 5, 4, 1, 9, 0, 10, 8, 7]</td>\n",
       "    </tr>\n",
       "    <tr>\n",
       "      <th>fuelType</th>\n",
       "      <td>object</td>\n",
       "      <td>[diesel, petrol, nan, cng, lpg, hybrid, electr...</td>\n",
       "    </tr>\n",
       "    <tr>\n",
       "      <th>brand</th>\n",
       "      <td>object</td>\n",
       "      <td>[bmw, volvo, volkswagen, seat, opel, mercedes_...</td>\n",
       "    </tr>\n",
       "    <tr>\n",
       "      <th>notRepairedDamage</th>\n",
       "      <td>object</td>\n",
       "      <td>[nan, no, yes]</td>\n",
       "    </tr>\n",
       "    <tr>\n",
       "      <th>dateCreated</th>\n",
       "      <td>object</td>\n",
       "      <td>[30/03/2016 0:00, 7/3/2016 0:00, 31/03/2016 0:...</td>\n",
       "    </tr>\n",
       "    <tr>\n",
       "      <th>postalCode</th>\n",
       "      <td>int64</td>\n",
       "      <td>[20257, 88045, 27449, 34537, 55270, 26826, 564...</td>\n",
       "    </tr>\n",
       "    <tr>\n",
       "      <th>lastSeen</th>\n",
       "      <td>object</td>\n",
       "      <td>[7/4/2016 4:44, 26/03/2016 13:17, 1/4/2016 8:4...</td>\n",
       "    </tr>\n",
       "  </tbody>\n",
       "</table>\n",
       "</div>"
      ],
      "text/plain": [
       "                    data_type  \\\n",
       "dateCrawled            object   \n",
       "name                   object   \n",
       "seller                 object   \n",
       "offerType              object   \n",
       "price                   int64   \n",
       "abtest                 object   \n",
       "vehicleType            object   \n",
       "yearOfRegistration      int64   \n",
       "gearbox                object   \n",
       "powerPS                 int64   \n",
       "model                  object   \n",
       "kilometer               int64   \n",
       "monthOfRegistration     int64   \n",
       "fuelType               object   \n",
       "brand                  object   \n",
       "notRepairedDamage      object   \n",
       "dateCreated            object   \n",
       "postalCode              int64   \n",
       "lastSeen               object   \n",
       "\n",
       "                                                                 scale  \n",
       "dateCrawled          [30/03/2016 13:51, 7/3/2016 9:54, 1/4/2016 0:5...  \n",
       "name                 [Zu_verkaufen, Volvo_XC90_2.4D_Summum, Volkswa...  \n",
       "seller                                           [private, commercial]  \n",
       "offerType                                             [offer, request]  \n",
       "price                [4450, 13299, 3200, 4500, 18750, 988, 400, 139...  \n",
       "abtest                                                 [test, control]  \n",
       "vehicleType          [limousine, suv, bus, small car, station wagon...  \n",
       "yearOfRegistration   [2003, 2005, 2006, 2008, 1995, 1996, 1997, 200...  \n",
       "gearbox                                       [manual, automatic, nan]  \n",
       "powerPS              [150, 163, 101, 86, 185, 90, 0, 136, 122, 140,...  \n",
       "model                [3er, xc_reihe, touran, ibiza, passat, astra, ...  \n",
       "kilometer            [150000, 60000, 125000, 5000, 50000, 80000, 90...  \n",
       "monthOfRegistration         [3, 6, 11, 12, 2, 5, 4, 1, 9, 0, 10, 8, 7]  \n",
       "fuelType             [diesel, petrol, nan, cng, lpg, hybrid, electr...  \n",
       "brand                [bmw, volvo, volkswagen, seat, opel, mercedes_...  \n",
       "notRepairedDamage                                       [nan, no, yes]  \n",
       "dateCreated          [30/03/2016 0:00, 7/3/2016 0:00, 31/03/2016 0:...  \n",
       "postalCode           [20257, 88045, 27449, 34537, 55270, 26826, 564...  \n",
       "lastSeen             [7/4/2016 4:44, 26/03/2016 13:17, 1/4/2016 8:4...  "
      ]
     },
     "execution_count": 4,
     "metadata": {},
     "output_type": "execute_result"
    }
   ],
   "source": [
    "print(\"Типы каждого поля и шкала (уникальные имена):\")\n",
    "pd.concat([\n",
    "    cars_df.dtypes.rename('data_type'),\n",
    "    cars_df.apply(lambda x: x.unique()).rename('scale')\n",
    "], axis = 1)"
   ]
  },
  {
   "cell_type": "code",
   "execution_count": 5,
   "id": "8de952fd",
   "metadata": {},
   "outputs": [
    {
     "name": "stdout",
     "output_type": "stream",
     "text": [
      "Количество уникальных значений в каждом столбце: \n",
      "dateCrawled            12039\n",
      "name                   38766\n",
      "seller                     2\n",
      "offerType                  2\n",
      "price                   2393\n",
      "abtest                     2\n",
      "vehicleType                8\n",
      "yearOfRegistration        97\n",
      "gearbox                    2\n",
      "powerPS                  460\n",
      "model                    248\n",
      "kilometer                 13\n",
      "monthOfRegistration       13\n",
      "fuelType                   7\n",
      "brand                     40\n",
      "notRepairedDamage          2\n",
      "dateCreated               75\n",
      "postalCode              7018\n",
      "lastSeen               10413\n",
      "dtype: int64\n"
     ]
    }
   ],
   "source": [
    "print(f'Количество уникальных значений в каждом столбце: \\n{cars_df.nunique()}')"
   ]
  },
  {
   "cell_type": "code",
   "execution_count": 6,
   "id": "1124d56e",
   "metadata": {},
   "outputs": [
    {
     "name": "stdout",
     "output_type": "stream",
     "text": [
      "Описательная статистика:\n"
     ]
    },
    {
     "data": {
      "text/html": [
       "<div>\n",
       "<style scoped>\n",
       "    .dataframe tbody tr th:only-of-type {\n",
       "        vertical-align: middle;\n",
       "    }\n",
       "\n",
       "    .dataframe tbody tr th {\n",
       "        vertical-align: top;\n",
       "    }\n",
       "\n",
       "    .dataframe thead th {\n",
       "        text-align: right;\n",
       "    }\n",
       "</style>\n",
       "<table border=\"1\" class=\"dataframe\">\n",
       "  <thead>\n",
       "    <tr style=\"text-align: right;\">\n",
       "      <th></th>\n",
       "      <th>price</th>\n",
       "      <th>yearOfRegistration</th>\n",
       "      <th>powerPS</th>\n",
       "      <th>kilometer</th>\n",
       "      <th>monthOfRegistration</th>\n",
       "      <th>postalCode</th>\n",
       "    </tr>\n",
       "  </thead>\n",
       "  <tbody>\n",
       "    <tr>\n",
       "      <th>count</th>\n",
       "      <td>5.000100e+04</td>\n",
       "      <td>50001.000000</td>\n",
       "      <td>50001.000000</td>\n",
       "      <td>50001.000000</td>\n",
       "      <td>50001.000000</td>\n",
       "      <td>50001.000000</td>\n",
       "    </tr>\n",
       "    <tr>\n",
       "      <th>mean</th>\n",
       "      <td>6.559865e+03</td>\n",
       "      <td>2005.544229</td>\n",
       "      <td>116.496130</td>\n",
       "      <td>125613.687726</td>\n",
       "      <td>5.743725</td>\n",
       "      <td>50775.216696</td>\n",
       "    </tr>\n",
       "    <tr>\n",
       "      <th>std</th>\n",
       "      <td>8.581847e+04</td>\n",
       "      <td>122.991832</td>\n",
       "      <td>230.567709</td>\n",
       "      <td>40205.234483</td>\n",
       "      <td>3.711345</td>\n",
       "      <td>25743.701933</td>\n",
       "    </tr>\n",
       "    <tr>\n",
       "      <th>min</th>\n",
       "      <td>0.000000e+00</td>\n",
       "      <td>1000.000000</td>\n",
       "      <td>0.000000</td>\n",
       "      <td>5000.000000</td>\n",
       "      <td>0.000000</td>\n",
       "      <td>1067.000000</td>\n",
       "    </tr>\n",
       "    <tr>\n",
       "      <th>25%</th>\n",
       "      <td>1.150000e+03</td>\n",
       "      <td>1999.000000</td>\n",
       "      <td>69.000000</td>\n",
       "      <td>125000.000000</td>\n",
       "      <td>3.000000</td>\n",
       "      <td>30559.000000</td>\n",
       "    </tr>\n",
       "    <tr>\n",
       "      <th>50%</th>\n",
       "      <td>2.950000e+03</td>\n",
       "      <td>2003.000000</td>\n",
       "      <td>105.000000</td>\n",
       "      <td>150000.000000</td>\n",
       "      <td>6.000000</td>\n",
       "      <td>49504.000000</td>\n",
       "    </tr>\n",
       "    <tr>\n",
       "      <th>75%</th>\n",
       "      <td>7.190000e+03</td>\n",
       "      <td>2008.000000</td>\n",
       "      <td>150.000000</td>\n",
       "      <td>150000.000000</td>\n",
       "      <td>9.000000</td>\n",
       "      <td>71404.000000</td>\n",
       "    </tr>\n",
       "    <tr>\n",
       "      <th>max</th>\n",
       "      <td>1.234568e+07</td>\n",
       "      <td>9999.000000</td>\n",
       "      <td>19312.000000</td>\n",
       "      <td>150000.000000</td>\n",
       "      <td>12.000000</td>\n",
       "      <td>99998.000000</td>\n",
       "    </tr>\n",
       "  </tbody>\n",
       "</table>\n",
       "</div>"
      ],
      "text/plain": [
       "              price  yearOfRegistration       powerPS      kilometer  \\\n",
       "count  5.000100e+04        50001.000000  50001.000000   50001.000000   \n",
       "mean   6.559865e+03         2005.544229    116.496130  125613.687726   \n",
       "std    8.581847e+04          122.991832    230.567709   40205.234483   \n",
       "min    0.000000e+00         1000.000000      0.000000    5000.000000   \n",
       "25%    1.150000e+03         1999.000000     69.000000  125000.000000   \n",
       "50%    2.950000e+03         2003.000000    105.000000  150000.000000   \n",
       "75%    7.190000e+03         2008.000000    150.000000  150000.000000   \n",
       "max    1.234568e+07         9999.000000  19312.000000  150000.000000   \n",
       "\n",
       "       monthOfRegistration    postalCode  \n",
       "count         50001.000000  50001.000000  \n",
       "mean              5.743725  50775.216696  \n",
       "std               3.711345  25743.701933  \n",
       "min               0.000000   1067.000000  \n",
       "25%               3.000000  30559.000000  \n",
       "50%               6.000000  49504.000000  \n",
       "75%               9.000000  71404.000000  \n",
       "max              12.000000  99998.000000  "
      ]
     },
     "execution_count": 6,
     "metadata": {},
     "output_type": "execute_result"
    }
   ],
   "source": [
    "print('Описательная статистика:')\n",
    "cars_df.describe()"
   ]
  },
  {
   "cell_type": "code",
   "execution_count": 7,
   "id": "071238fb",
   "metadata": {},
   "outputs": [
    {
     "name": "stdout",
     "output_type": "stream",
     "text": [
      "Пустые значения: \n",
      "dateCrawled               0\n",
      "name                      0\n",
      "seller                    0\n",
      "offerType                 0\n",
      "price                     0\n",
      "abtest                    0\n",
      "vehicleType            5188\n",
      "yearOfRegistration        0\n",
      "gearbox                2824\n",
      "powerPS                   0\n",
      "model                  2758\n",
      "kilometer                 0\n",
      "monthOfRegistration       0\n",
      "fuelType               4503\n",
      "brand                     0\n",
      "notRepairedDamage      9716\n",
      "dateCreated               0\n",
      "postalCode                0\n",
      "lastSeen                  0\n",
      "dtype: int64)\n"
     ]
    }
   ],
   "source": [
    "print(f'Пустые значения: \\n{cars_df.isna().sum()})')"
   ]
  },
  {
   "cell_type": "code",
   "execution_count": 8,
   "id": "05aef868",
   "metadata": {},
   "outputs": [
    {
     "name": "stdout",
     "output_type": "stream",
     "text": [
      "Матрица коррелиции признаков:\n"
     ]
    },
    {
     "data": {
      "image/png": "[encoded data removed]",
      "text/plain": [
       "<Figure size 792x792 with 2 Axes>"
      ]
     },
     "metadata": {
      "needs_background": "light"
     },
     "output_type": "display_data"
    }
   ],
   "source": [
    "print('Матрица коррелиции признаков:')\n",
    "ax = sns.heatmap(\n",
    "    cars_df.corr(),\n",
    "    annot=True,\n",
    "    annot_kws={'size': 12},\n",
    "    vmin=-1, vmax=1, center=0,\n",
    "    square=True\n",
    ")\n",
    "ax.figure.set_size_inches(11, 11)"
   ]
  },
  {
   "cell_type": "markdown",
   "id": "c3b8a243",
   "metadata": {},
   "source": [
    "Все признаки слабо коррелируют между собой. Наиболее сильная корреляция наблюдается между признаками:\n",
    "* yearOfRegistration и kilometer\n",
    "* price и kilometer\n",
    "* powerPS и monthOfRegistration"
   ]
  },
  {
   "cell_type": "markdown",
   "id": "23318a55",
   "metadata": {},
   "source": [
    "3. Поработайте с типами переменных. Все числовые значения переведите в формат int."
   ]
  },
  {
   "cell_type": "code",
   "execution_count": 9,
   "id": "b7d6d4c1",
   "metadata": {},
   "outputs": [],
   "source": [
    "cars_df[['price', 'yearOfRegistration', 'powerPS', 'kilometer', 'monthOfRegistration', 'postalCode']] = \\\n",
    "cars_df[['price', 'yearOfRegistration', 'powerPS', 'kilometer', 'monthOfRegistration', 'postalCode']].astype(int)"
   ]
  },
  {
   "cell_type": "code",
   "execution_count": 10,
   "id": "0f6d6999",
   "metadata": {},
   "outputs": [
    {
     "name": "stdout",
     "output_type": "stream",
     "text": [
      "Типы каждого поля:\n"
     ]
    },
    {
     "data": {
      "text/html": [
       "<div>\n",
       "<style scoped>\n",
       "    .dataframe tbody tr th:only-of-type {\n",
       "        vertical-align: middle;\n",
       "    }\n",
       "\n",
       "    .dataframe tbody tr th {\n",
       "        vertical-align: top;\n",
       "    }\n",
       "\n",
       "    .dataframe thead th {\n",
       "        text-align: right;\n",
       "    }\n",
       "</style>\n",
       "<table border=\"1\" class=\"dataframe\">\n",
       "  <thead>\n",
       "    <tr style=\"text-align: right;\">\n",
       "      <th></th>\n",
       "      <th>data_type</th>\n",
       "    </tr>\n",
       "  </thead>\n",
       "  <tbody>\n",
       "    <tr>\n",
       "      <th>dateCrawled</th>\n",
       "      <td>object</td>\n",
       "    </tr>\n",
       "    <tr>\n",
       "      <th>name</th>\n",
       "      <td>object</td>\n",
       "    </tr>\n",
       "    <tr>\n",
       "      <th>seller</th>\n",
       "      <td>object</td>\n",
       "    </tr>\n",
       "    <tr>\n",
       "      <th>offerType</th>\n",
       "      <td>object</td>\n",
       "    </tr>\n",
       "    <tr>\n",
       "      <th>price</th>\n",
       "      <td>int32</td>\n",
       "    </tr>\n",
       "    <tr>\n",
       "      <th>abtest</th>\n",
       "      <td>object</td>\n",
       "    </tr>\n",
       "    <tr>\n",
       "      <th>vehicleType</th>\n",
       "      <td>object</td>\n",
       "    </tr>\n",
       "    <tr>\n",
       "      <th>yearOfRegistration</th>\n",
       "      <td>int32</td>\n",
       "    </tr>\n",
       "    <tr>\n",
       "      <th>gearbox</th>\n",
       "      <td>object</td>\n",
       "    </tr>\n",
       "    <tr>\n",
       "      <th>powerPS</th>\n",
       "      <td>int32</td>\n",
       "    </tr>\n",
       "    <tr>\n",
       "      <th>model</th>\n",
       "      <td>object</td>\n",
       "    </tr>\n",
       "    <tr>\n",
       "      <th>kilometer</th>\n",
       "      <td>int32</td>\n",
       "    </tr>\n",
       "    <tr>\n",
       "      <th>monthOfRegistration</th>\n",
       "      <td>int32</td>\n",
       "    </tr>\n",
       "    <tr>\n",
       "      <th>fuelType</th>\n",
       "      <td>object</td>\n",
       "    </tr>\n",
       "    <tr>\n",
       "      <th>brand</th>\n",
       "      <td>object</td>\n",
       "    </tr>\n",
       "    <tr>\n",
       "      <th>notRepairedDamage</th>\n",
       "      <td>object</td>\n",
       "    </tr>\n",
       "    <tr>\n",
       "      <th>dateCreated</th>\n",
       "      <td>object</td>\n",
       "    </tr>\n",
       "    <tr>\n",
       "      <th>postalCode</th>\n",
       "      <td>int32</td>\n",
       "    </tr>\n",
       "    <tr>\n",
       "      <th>lastSeen</th>\n",
       "      <td>object</td>\n",
       "    </tr>\n",
       "  </tbody>\n",
       "</table>\n",
       "</div>"
      ],
      "text/plain": [
       "                    data_type\n",
       "dateCrawled            object\n",
       "name                   object\n",
       "seller                 object\n",
       "offerType              object\n",
       "price                   int32\n",
       "abtest                 object\n",
       "vehicleType            object\n",
       "yearOfRegistration      int32\n",
       "gearbox                object\n",
       "powerPS                 int32\n",
       "model                  object\n",
       "kilometer               int32\n",
       "monthOfRegistration     int32\n",
       "fuelType               object\n",
       "brand                  object\n",
       "notRepairedDamage      object\n",
       "dateCreated            object\n",
       "postalCode              int32\n",
       "lastSeen               object"
      ]
     },
     "execution_count": 10,
     "metadata": {},
     "output_type": "execute_result"
    }
   ],
   "source": [
    "print(\"Типы каждого поля:\")\n",
    "pd.concat([\n",
    "    cars_df.dtypes.rename('data_type'),\n",
    "], axis = 1)"
   ]
  },
  {
   "cell_type": "markdown",
   "id": "76773978",
   "metadata": {},
   "source": [
    "4. Поработайте со столбцом price. Постройте гистограмму, найдите выбросы (ящиковая диаграмма), удалите аномальные значения, постарайтесь привести к нормальному распределению."
   ]
  },
  {
   "cell_type": "code",
   "execution_count": 11,
   "id": "dd1a984a",
   "metadata": {},
   "outputs": [
    {
     "data": {
      "image/png": "[encoded data removed]",
      "text/plain": [
       "<Figure size 432x288 with 1 Axes>"
      ]
     },
     "metadata": {
      "needs_background": "light"
     },
     "output_type": "display_data"
    }
   ],
   "source": [
    "matplotlib.style.use('ggplot')\n",
    "%matplotlib inline\n",
    "_ = plt.hist(cars_df['price'], color = 'red')"
   ]
  },
  {
   "cell_type": "code",
   "execution_count": 12,
   "id": "2895a29c",
   "metadata": {},
   "outputs": [
    {
     "data": {
      "image/png": "[encoded data removed]",
      "text/plain": [
       "<Figure size 720x360 with 1 Axes>"
      ]
     },
     "metadata": {
      "needs_background": "light"
     },
     "output_type": "display_data"
    }
   ],
   "source": [
    "plt.rcParams['figure.figsize']=(10, 5)\n",
    "plt.boxplot(np.array(list(cars_df['price'])).astype(np.int))\n",
    "plt.show()"
   ]
  },
  {
   "cell_type": "code",
   "execution_count": 13,
   "id": "656b1fc1",
   "metadata": {},
   "outputs": [
    {
     "name": "stdout",
     "output_type": "stream",
     "text": [
      "16250.0\n",
      "-7910.0\n"
     ]
    }
   ],
   "source": [
    "# Найдем значения, которые выше максимального или ниже минимального значений и заменим их на nan\n",
    "for i in ['price']:\n",
    "    q75, q25 = np.percentile(cars_df.loc[:, i], [75,25])\n",
    "    intr_qr = q75-q25\n",
    "\n",
    "    max = q75+(1.5*intr_qr)\n",
    "    min = q25-(1.5*intr_qr)\n",
    "\n",
    "    cars_df.loc[cars_df[i] < min, i] = np.nan\n",
    "    cars_df.loc[cars_df[i] > max, i] = np.nan\n",
    "    \n",
    "    print(max)\n",
    "    print(min)"
   ]
  },
  {
   "cell_type": "code",
   "execution_count": 14,
   "id": "2762d952",
   "metadata": {},
   "outputs": [
    {
     "data": {
      "text/plain": [
       "dateCrawled               0\n",
       "name                      0\n",
       "seller                    0\n",
       "offerType                 0\n",
       "price                     0\n",
       "abtest                    0\n",
       "vehicleType            5113\n",
       "yearOfRegistration        0\n",
       "gearbox                2748\n",
       "powerPS                   0\n",
       "model                  2598\n",
       "kilometer                 0\n",
       "monthOfRegistration       0\n",
       "fuelType               4394\n",
       "brand                     0\n",
       "notRepairedDamage      9507\n",
       "dateCreated               0\n",
       "postalCode                0\n",
       "lastSeen                  0\n",
       "dtype: int64"
      ]
     },
     "execution_count": 14,
     "metadata": {},
     "output_type": "execute_result"
    }
   ],
   "source": [
    "# Удалим эти нулевые значения\n",
    "cars_df.dropna(subset=['price'], inplace=True)\n",
    "cars_df.isnull().sum()"
   ]
  },
  {
   "cell_type": "code",
   "execution_count": 15,
   "id": "eae92ff8",
   "metadata": {},
   "outputs": [
    {
     "data": {
      "text/html": [
       "<div>\n",
       "<style scoped>\n",
       "    .dataframe tbody tr th:only-of-type {\n",
       "        vertical-align: middle;\n",
       "    }\n",
       "\n",
       "    .dataframe tbody tr th {\n",
       "        vertical-align: top;\n",
       "    }\n",
       "\n",
       "    .dataframe thead th {\n",
       "        text-align: right;\n",
       "    }\n",
       "</style>\n",
       "<table border=\"1\" class=\"dataframe\">\n",
       "  <thead>\n",
       "    <tr style=\"text-align: right;\">\n",
       "      <th></th>\n",
       "      <th>dateCrawled</th>\n",
       "      <th>name</th>\n",
       "      <th>seller</th>\n",
       "      <th>offerType</th>\n",
       "      <th>price</th>\n",
       "      <th>abtest</th>\n",
       "      <th>vehicleType</th>\n",
       "      <th>yearOfRegistration</th>\n",
       "      <th>gearbox</th>\n",
       "      <th>powerPS</th>\n",
       "      <th>model</th>\n",
       "      <th>kilometer</th>\n",
       "      <th>monthOfRegistration</th>\n",
       "      <th>fuelType</th>\n",
       "      <th>brand</th>\n",
       "      <th>notRepairedDamage</th>\n",
       "      <th>dateCreated</th>\n",
       "      <th>postalCode</th>\n",
       "      <th>lastSeen</th>\n",
       "    </tr>\n",
       "  </thead>\n",
       "  <tbody>\n",
       "    <tr>\n",
       "      <th>11246</th>\n",
       "      <td>4/4/2016 12:47</td>\n",
       "      <td>Mercedes_Benz__E_220_CDI_Blue_Efficiency</td>\n",
       "      <td>private</td>\n",
       "      <td>offer</td>\n",
       "      <td>16250.0</td>\n",
       "      <td>control</td>\n",
       "      <td>station wagon</td>\n",
       "      <td>2011</td>\n",
       "      <td>manual</td>\n",
       "      <td>170</td>\n",
       "      <td>e_klasse</td>\n",
       "      <td>150000</td>\n",
       "      <td>2</td>\n",
       "      <td>diesel</td>\n",
       "      <td>mercedes_benz</td>\n",
       "      <td>no</td>\n",
       "      <td>4/4/2016 0:00</td>\n",
       "      <td>63628</td>\n",
       "      <td>6/4/2016 13:46</td>\n",
       "    </tr>\n",
       "    <tr>\n",
       "      <th>19780</th>\n",
       "      <td>12/3/2016 18:58</td>\n",
       "      <td>Audi_A4_Cabriolet_2.0_TFSI_multitronic</td>\n",
       "      <td>private</td>\n",
       "      <td>offer</td>\n",
       "      <td>16250.0</td>\n",
       "      <td>test</td>\n",
       "      <td>cabrio</td>\n",
       "      <td>2007</td>\n",
       "      <td>automatic</td>\n",
       "      <td>200</td>\n",
       "      <td>a4</td>\n",
       "      <td>80000</td>\n",
       "      <td>6</td>\n",
       "      <td>petrol</td>\n",
       "      <td>audi</td>\n",
       "      <td>no</td>\n",
       "      <td>12/3/2016 0:00</td>\n",
       "      <td>52393</td>\n",
       "      <td>3/4/2016 11:51</td>\n",
       "    </tr>\n",
       "    <tr>\n",
       "      <th>32070</th>\n",
       "      <td>30/03/2016 9:54</td>\n",
       "      <td>Golf_VI_GTI__2.0__BJ_2011</td>\n",
       "      <td>private</td>\n",
       "      <td>offer</td>\n",
       "      <td>16250.0</td>\n",
       "      <td>control</td>\n",
       "      <td>small car</td>\n",
       "      <td>2011</td>\n",
       "      <td>manual</td>\n",
       "      <td>211</td>\n",
       "      <td>golf</td>\n",
       "      <td>50000</td>\n",
       "      <td>11</td>\n",
       "      <td>petrol</td>\n",
       "      <td>volkswagen</td>\n",
       "      <td>no</td>\n",
       "      <td>30/03/2016 0:00</td>\n",
       "      <td>63801</td>\n",
       "      <td>7/4/2016 1:15</td>\n",
       "    </tr>\n",
       "    <tr>\n",
       "      <th>39582</th>\n",
       "      <td>21/03/2016 13:37</td>\n",
       "      <td>Mercedes_Benz_C_180_T_Kompressor_Automatik_Ava...</td>\n",
       "      <td>private</td>\n",
       "      <td>offer</td>\n",
       "      <td>16250.0</td>\n",
       "      <td>test</td>\n",
       "      <td>station wagon</td>\n",
       "      <td>2009</td>\n",
       "      <td>automatic</td>\n",
       "      <td>156</td>\n",
       "      <td>c_klasse</td>\n",
       "      <td>40000</td>\n",
       "      <td>1</td>\n",
       "      <td>petrol</td>\n",
       "      <td>mercedes_benz</td>\n",
       "      <td>no</td>\n",
       "      <td>21/03/2016 0:00</td>\n",
       "      <td>22941</td>\n",
       "      <td>6/4/2016 8:45</td>\n",
       "    </tr>\n",
       "  </tbody>\n",
       "</table>\n",
       "</div>"
      ],
      "text/plain": [
       "            dateCrawled                                               name  \\\n",
       "11246    4/4/2016 12:47           Mercedes_Benz__E_220_CDI_Blue_Efficiency   \n",
       "19780   12/3/2016 18:58             Audi_A4_Cabriolet_2.0_TFSI_multitronic   \n",
       "32070   30/03/2016 9:54                          Golf_VI_GTI__2.0__BJ_2011   \n",
       "39582  21/03/2016 13:37  Mercedes_Benz_C_180_T_Kompressor_Automatik_Ava...   \n",
       "\n",
       "        seller offerType    price   abtest    vehicleType  yearOfRegistration  \\\n",
       "11246  private     offer  16250.0  control  station wagon                2011   \n",
       "19780  private     offer  16250.0     test         cabrio                2007   \n",
       "32070  private     offer  16250.0  control      small car                2011   \n",
       "39582  private     offer  16250.0     test  station wagon                2009   \n",
       "\n",
       "         gearbox  powerPS     model  kilometer  monthOfRegistration fuelType  \\\n",
       "11246     manual      170  e_klasse     150000                    2   diesel   \n",
       "19780  automatic      200        a4      80000                    6   petrol   \n",
       "32070     manual      211      golf      50000                   11   petrol   \n",
       "39582  automatic      156  c_klasse      40000                    1   petrol   \n",
       "\n",
       "               brand notRepairedDamage      dateCreated  postalCode  \\\n",
       "11246  mercedes_benz                no    4/4/2016 0:00       63628   \n",
       "19780           audi                no   12/3/2016 0:00       52393   \n",
       "32070     volkswagen                no  30/03/2016 0:00       63801   \n",
       "39582  mercedes_benz                no  21/03/2016 0:00       22941   \n",
       "\n",
       "             lastSeen  \n",
       "11246  6/4/2016 13:46  \n",
       "19780  3/4/2016 11:51  \n",
       "32070   7/4/2016 1:15  \n",
       "39582   6/4/2016 8:45  "
      ]
     },
     "execution_count": 15,
     "metadata": {},
     "output_type": "execute_result"
    }
   ],
   "source": [
    "# Проверим, что нет значений, выше максимального\n",
    "cars_df[cars_df['price'] >= 16250.0]"
   ]
  },
  {
   "cell_type": "code",
   "execution_count": 16,
   "id": "3d367256",
   "metadata": {},
   "outputs": [
    {
     "data": {
      "text/html": [
       "<div>\n",
       "<style scoped>\n",
       "    .dataframe tbody tr th:only-of-type {\n",
       "        vertical-align: middle;\n",
       "    }\n",
       "\n",
       "    .dataframe tbody tr th {\n",
       "        vertical-align: top;\n",
       "    }\n",
       "\n",
       "    .dataframe thead th {\n",
       "        text-align: right;\n",
       "    }\n",
       "</style>\n",
       "<table border=\"1\" class=\"dataframe\">\n",
       "  <thead>\n",
       "    <tr style=\"text-align: right;\">\n",
       "      <th></th>\n",
       "      <th>dateCrawled</th>\n",
       "      <th>name</th>\n",
       "      <th>seller</th>\n",
       "      <th>offerType</th>\n",
       "      <th>price</th>\n",
       "      <th>abtest</th>\n",
       "      <th>vehicleType</th>\n",
       "      <th>yearOfRegistration</th>\n",
       "      <th>gearbox</th>\n",
       "      <th>powerPS</th>\n",
       "      <th>model</th>\n",
       "      <th>kilometer</th>\n",
       "      <th>monthOfRegistration</th>\n",
       "      <th>fuelType</th>\n",
       "      <th>brand</th>\n",
       "      <th>notRepairedDamage</th>\n",
       "      <th>dateCreated</th>\n",
       "      <th>postalCode</th>\n",
       "      <th>lastSeen</th>\n",
       "    </tr>\n",
       "  </thead>\n",
       "  <tbody>\n",
       "  </tbody>\n",
       "</table>\n",
       "</div>"
      ],
      "text/plain": [
       "Empty DataFrame\n",
       "Columns: [dateCrawled, name, seller, offerType, price, abtest, vehicleType, yearOfRegistration, gearbox, powerPS, model, kilometer, monthOfRegistration, fuelType, brand, notRepairedDamage, dateCreated, postalCode, lastSeen]\n",
       "Index: []"
      ]
     },
     "execution_count": 16,
     "metadata": {},
     "output_type": "execute_result"
    }
   ],
   "source": [
    "# Проверим, что нет значений, ниже минимального\n",
    "cars_df[cars_df['price'] <= -7910.0]"
   ]
  },
  {
   "cell_type": "code",
   "execution_count": 17,
   "id": "1df12bfe",
   "metadata": {},
   "outputs": [
    {
     "data": {
      "image/png": "[encoded data removed]",
      "text/plain": [
       "<Figure size 720x360 with 1 Axes>"
      ]
     },
     "metadata": {
      "needs_background": "light"
     },
     "output_type": "display_data"
    }
   ],
   "source": [
    "# Смотрим, что изменилось\n",
    "_ = plt.hist(cars_df['price'], color = 'red')"
   ]
  },
  {
   "cell_type": "code",
   "execution_count": 18,
   "id": "9bf84cf5",
   "metadata": {},
   "outputs": [
    {
     "data": {
      "image/png": "[encoded data removed]",
      "text/plain": [
       "<Figure size 720x360 with 1 Axes>"
      ]
     },
     "metadata": {
      "needs_background": "light"
     },
     "output_type": "display_data"
    }
   ],
   "source": [
    "# Проведем нормализацию с помощью log:\n",
    "cars_df['price'] = np.log(cars_df['price'] + 1)\n",
    "_ = plt.hist(cars_df['price'], color = 'red')"
   ]
  },
  {
   "cell_type": "markdown",
   "id": "a9518819",
   "metadata": {},
   "source": [
    "5. Аналогично поработайте и с другими «важными для целевой функции price» параметрами (powerPS, yearOfRegistration, kilometer и т.д). «Важность» докажите через коэффициент корреляции. Сделайте визуализацию."
   ]
  },
  {
   "cell_type": "code",
   "execution_count": 19,
   "id": "92d78295",
   "metadata": {},
   "outputs": [
    {
     "name": "stdout",
     "output_type": "stream",
     "text": [
      "Матрица коррелиции признаков:\n"
     ]
    },
    {
     "data": {
      "image/png": "[encoded data removed]",
      "text/plain": [
       "<Figure size 792x792 with 2 Axes>"
      ]
     },
     "metadata": {
      "needs_background": "light"
     },
     "output_type": "display_data"
    }
   ],
   "source": [
    "# Заново посмотрим корреляцию\n",
    "print('Матрица коррелиции признаков:')\n",
    "ax = sns.heatmap(\n",
    "    cars_df.corr(),\n",
    "    annot=True,\n",
    "    annot_kws={'size': 12},\n",
    "    vmin=-1, vmax=1, center=0,\n",
    "    square=True\n",
    ")\n",
    "ax.figure.set_size_inches(11, 11)"
   ]
  },
  {
   "cell_type": "markdown",
   "id": "91f3bd48",
   "metadata": {},
   "source": [
    "Как мы могли заметить по матрице корреляции, наиболее важные для целевой переменной параметры (по степени значимости):\n",
    "1) monthOfRegistration\n",
    "2) kilometer\n",
    "\n",
    "Параметры powerPS, yearOfRegistration и postalCode имеют слишком слабую зависимость с целевой переменной.\n",
    "Но вообще, по-хорошему, все факторы слишком слабо коррелируют между собой"
   ]
  },
  {
   "cell_type": "code",
   "execution_count": 20,
   "id": "b6d814f1",
   "metadata": {},
   "outputs": [
    {
     "data": {
      "image/png": "[encoded data removed]",
      "text/plain": [
       "<Figure size 720x360 with 1 Axes>"
      ]
     },
     "metadata": {
      "needs_background": "light"
     },
     "output_type": "display_data"
    }
   ],
   "source": [
    "# Выбросов нет\n",
    "plt.boxplot(np.array(list(cars_df['monthOfRegistration'])).astype(np.int))\n",
    "plt.show()"
   ]
  },
  {
   "cell_type": "code",
   "execution_count": 21,
   "id": "e0f52e1f",
   "metadata": {},
   "outputs": [
    {
     "data": {
      "image/png": "[encoded data removed]",
      "text/plain": [
       "<Figure size 720x360 with 1 Axes>"
      ]
     },
     "metadata": {
      "needs_background": "light"
     },
     "output_type": "display_data"
    }
   ],
   "source": [
    "_ = plt.hist(cars_df['monthOfRegistration'], color = 'red')"
   ]
  },
  {
   "cell_type": "code",
   "execution_count": 22,
   "id": "ce6da9f5",
   "metadata": {},
   "outputs": [
    {
     "data": {
      "image/png": "[encoded data removed]",
      "text/plain": [
       "<Figure size 720x360 with 1 Axes>"
      ]
     },
     "metadata": {
      "needs_background": "light"
     },
     "output_type": "display_data"
    }
   ],
   "source": [
    "# Проведем нормализацию с помощью log:\n",
    "cars_df['monthOfRegistration'] = np.log(cars_df['monthOfRegistration'] + 1)\n",
    "_ = plt.hist(cars_df['monthOfRegistration'], color = 'red')"
   ]
  },
  {
   "cell_type": "code",
   "execution_count": 23,
   "id": "024e59be",
   "metadata": {},
   "outputs": [
    {
     "data": {
      "image/png": "[encoded data removed]",
      "text/plain": [
       "<Figure size 720x360 with 1 Axes>"
      ]
     },
     "metadata": {
      "needs_background": "light"
     },
     "output_type": "display_data"
    }
   ],
   "source": [
    "plt.boxplot(np.array(list(cars_df['kilometer'])).astype(np.int))\n",
    "plt.show()"
   ]
  },
  {
   "cell_type": "code",
   "execution_count": 24,
   "id": "9068609e",
   "metadata": {},
   "outputs": [
    {
     "name": "stdout",
     "output_type": "stream",
     "text": [
      "187500.0\n",
      "87500.0\n"
     ]
    }
   ],
   "source": [
    "# Почистим выбросы\n",
    "# Найдем значения, которые выше максимального или ниже минимального значений и заменим их на nan\n",
    "for i in ['kilometer']:\n",
    "    q75, q25 = np.percentile(cars_df.loc[:, i], [75,25])\n",
    "    intr_qr = q75-q25\n",
    "\n",
    "    max = q75+(1.5*intr_qr)\n",
    "    min = q25-(1.5*intr_qr)\n",
    "\n",
    "    cars_df.loc[cars_df[i] < min, i] = np.nan\n",
    "    cars_df.loc[cars_df[i] > max, i] = np.nan\n",
    "    \n",
    "    print(max)\n",
    "    print(min)"
   ]
  },
  {
   "cell_type": "code",
   "execution_count": 25,
   "id": "e5493be3",
   "metadata": {},
   "outputs": [
    {
     "data": {
      "text/html": [
       "<div>\n",
       "<style scoped>\n",
       "    .dataframe tbody tr th:only-of-type {\n",
       "        vertical-align: middle;\n",
       "    }\n",
       "\n",
       "    .dataframe tbody tr th {\n",
       "        vertical-align: top;\n",
       "    }\n",
       "\n",
       "    .dataframe thead th {\n",
       "        text-align: right;\n",
       "    }\n",
       "</style>\n",
       "<table border=\"1\" class=\"dataframe\">\n",
       "  <thead>\n",
       "    <tr style=\"text-align: right;\">\n",
       "      <th></th>\n",
       "      <th>dateCrawled</th>\n",
       "      <th>name</th>\n",
       "      <th>seller</th>\n",
       "      <th>offerType</th>\n",
       "      <th>price</th>\n",
       "      <th>abtest</th>\n",
       "      <th>vehicleType</th>\n",
       "      <th>yearOfRegistration</th>\n",
       "      <th>gearbox</th>\n",
       "      <th>powerPS</th>\n",
       "      <th>model</th>\n",
       "      <th>kilometer</th>\n",
       "      <th>monthOfRegistration</th>\n",
       "      <th>fuelType</th>\n",
       "      <th>brand</th>\n",
       "      <th>notRepairedDamage</th>\n",
       "      <th>dateCreated</th>\n",
       "      <th>postalCode</th>\n",
       "      <th>lastSeen</th>\n",
       "    </tr>\n",
       "  </thead>\n",
       "  <tbody>\n",
       "  </tbody>\n",
       "</table>\n",
       "</div>"
      ],
      "text/plain": [
       "Empty DataFrame\n",
       "Columns: [dateCrawled, name, seller, offerType, price, abtest, vehicleType, yearOfRegistration, gearbox, powerPS, model, kilometer, monthOfRegistration, fuelType, brand, notRepairedDamage, dateCreated, postalCode, lastSeen]\n",
       "Index: []"
      ]
     },
     "execution_count": 25,
     "metadata": {},
     "output_type": "execute_result"
    }
   ],
   "source": [
    "# Проверим, что нет значений, выше максимального\n",
    "cars_df[cars_df['kilometer'] >= 187500.0]"
   ]
  },
  {
   "cell_type": "code",
   "execution_count": 26,
   "id": "9c014913",
   "metadata": {},
   "outputs": [
    {
     "data": {
      "text/html": [
       "<div>\n",
       "<style scoped>\n",
       "    .dataframe tbody tr th:only-of-type {\n",
       "        vertical-align: middle;\n",
       "    }\n",
       "\n",
       "    .dataframe tbody tr th {\n",
       "        vertical-align: top;\n",
       "    }\n",
       "\n",
       "    .dataframe thead th {\n",
       "        text-align: right;\n",
       "    }\n",
       "</style>\n",
       "<table border=\"1\" class=\"dataframe\">\n",
       "  <thead>\n",
       "    <tr style=\"text-align: right;\">\n",
       "      <th></th>\n",
       "      <th>dateCrawled</th>\n",
       "      <th>name</th>\n",
       "      <th>seller</th>\n",
       "      <th>offerType</th>\n",
       "      <th>price</th>\n",
       "      <th>abtest</th>\n",
       "      <th>vehicleType</th>\n",
       "      <th>yearOfRegistration</th>\n",
       "      <th>gearbox</th>\n",
       "      <th>powerPS</th>\n",
       "      <th>model</th>\n",
       "      <th>kilometer</th>\n",
       "      <th>monthOfRegistration</th>\n",
       "      <th>fuelType</th>\n",
       "      <th>brand</th>\n",
       "      <th>notRepairedDamage</th>\n",
       "      <th>dateCreated</th>\n",
       "      <th>postalCode</th>\n",
       "      <th>lastSeen</th>\n",
       "    </tr>\n",
       "  </thead>\n",
       "  <tbody>\n",
       "  </tbody>\n",
       "</table>\n",
       "</div>"
      ],
      "text/plain": [
       "Empty DataFrame\n",
       "Columns: [dateCrawled, name, seller, offerType, price, abtest, vehicleType, yearOfRegistration, gearbox, powerPS, model, kilometer, monthOfRegistration, fuelType, brand, notRepairedDamage, dateCreated, postalCode, lastSeen]\n",
       "Index: []"
      ]
     },
     "execution_count": 26,
     "metadata": {},
     "output_type": "execute_result"
    }
   ],
   "source": [
    "# Проверим, что нет значений, ниже минимального\n",
    "cars_df[cars_df['kilometer'] <= 87500.0]"
   ]
  },
  {
   "cell_type": "code",
   "execution_count": 27,
   "id": "2d1dfd8e",
   "metadata": {},
   "outputs": [
    {
     "data": {
      "image/png": "[encoded data removed]",
      "text/plain": [
       "<Figure size 720x360 with 1 Axes>"
      ]
     },
     "metadata": {
      "needs_background": "light"
     },
     "output_type": "display_data"
    }
   ],
   "source": [
    "_ = plt.hist(cars_df['kilometer'], color = 'red')"
   ]
  },
  {
   "cell_type": "code",
   "execution_count": 28,
   "id": "03c94694",
   "metadata": {},
   "outputs": [
    {
     "data": {
      "image/png": "[encoded data removed]",
      "text/plain": [
       "<Figure size 720x360 with 1 Axes>"
      ]
     },
     "metadata": {
      "needs_background": "light"
     },
     "output_type": "display_data"
    }
   ],
   "source": [
    "# Проведем нормализацию с помощью log:\n",
    "cars_df['kilometer'] = np.log(cars_df['kilometer'] + 1)\n",
    "_ = plt.hist(cars_df['kilometer'], color = 'red')"
   ]
  },
  {
   "cell_type": "markdown",
   "id": "2cfbc531",
   "metadata": {},
   "source": [
    "6. Постройте ящиковые диаграммы зависимости gearbox, fuelType, vehicleType, notRepairedDamage от price."
   ]
  },
  {
   "cell_type": "code",
   "execution_count": 29,
   "id": "98aadf91",
   "metadata": {},
   "outputs": [
    {
     "data": {
      "image/png": "[encoded data removed]",
      "text/plain": [
       "<Figure size 720x360 with 1 Axes>"
      ]
     },
     "metadata": {
      "needs_background": "light"
     },
     "output_type": "display_data"
    }
   ],
   "source": [
    "_ = sns.boxplot(cars_df['price'], cars_df['gearbox'])"
   ]
  },
  {
   "cell_type": "code",
   "execution_count": 30,
   "id": "878291ea",
   "metadata": {},
   "outputs": [
    {
     "data": {
      "image/png": "[encoded data removed]",
      "text/plain": [
       "<Figure size 720x360 with 1 Axes>"
      ]
     },
     "metadata": {
      "needs_background": "light"
     },
     "output_type": "display_data"
    }
   ],
   "source": [
    "_ = sns.boxplot(cars_df['price'], cars_df['fuelType'])"
   ]
  },
  {
   "cell_type": "code",
   "execution_count": 31,
   "id": "cc9975d6",
   "metadata": {},
   "outputs": [
    {
     "data": {
      "image/png": "[encoded data removed]",
      "text/plain": [
       "<Figure size 720x360 with 1 Axes>"
      ]
     },
     "metadata": {
      "needs_background": "light"
     },
     "output_type": "display_data"
    }
   ],
   "source": [
    "_ = sns.boxplot(cars_df['price'], cars_df['vehicleType'])"
   ]
  },
  {
   "cell_type": "code",
   "execution_count": 32,
   "id": "34562ed5",
   "metadata": {},
   "outputs": [
    {
     "data": {
      "image/png": "[encoded data removed]",
      "text/plain": [
       "<Figure size 720x360 with 1 Axes>"
      ]
     },
     "metadata": {
      "needs_background": "light"
     },
     "output_type": "display_data"
    }
   ],
   "source": [
    "_ = sns.boxplot(cars_df['price'], cars_df['notRepairedDamage'])"
   ]
  },
  {
   "cell_type": "markdown",
   "id": "7ae1e8a6",
   "metadata": {},
   "source": [
    "Видно, что медианные значения многих признаков сильно сдвинуты. Выбросы присутствуют в каждом из зависимостей. На мой взгляд, избавление датасета от значений с малой частотой повлияет на дальнейшее исследование: данные с малой частотой чаще всего являются выбросами, от которых принято избавляться для того, чтобы привести данные к нормальному распределению."
   ]
  },
  {
   "cell_type": "markdown",
   "id": "1b2dd7e7",
   "metadata": {},
   "source": [
    "7. Найдите пропуски. Удалите столбцы, которые содержат большое количество пропусков. В остальных случаях постарайтесь восстановить пропущенные значения."
   ]
  },
  {
   "cell_type": "code",
   "execution_count": 33,
   "id": "e5c1a30a",
   "metadata": {},
   "outputs": [
    {
     "data": {
      "text/plain": [
       "dateCrawled               0\n",
       "name                      0\n",
       "seller                    0\n",
       "offerType                 0\n",
       "price                     0\n",
       "abtest                    0\n",
       "vehicleType            5113\n",
       "yearOfRegistration        0\n",
       "gearbox                2748\n",
       "powerPS                   0\n",
       "model                  2598\n",
       "kilometer              6471\n",
       "monthOfRegistration       0\n",
       "fuelType               4394\n",
       "brand                     0\n",
       "notRepairedDamage      9507\n",
       "dateCreated               0\n",
       "postalCode                0\n",
       "lastSeen                  0\n",
       "dtype: int64"
      ]
     },
     "execution_count": 33,
     "metadata": {},
     "output_type": "execute_result"
    }
   ],
   "source": [
    "cars_df.isnull().sum()"
   ]
  },
  {
   "cell_type": "code",
   "execution_count": 34,
   "id": "cdcc1257",
   "metadata": {},
   "outputs": [],
   "source": [
    "# Больше всего пропущенных значений в столбце notRepairedDamage. Удалим его\n",
    "cars_df.drop(columns=['notRepairedDamage'], axis=1, inplace = True)"
   ]
  },
  {
   "cell_type": "markdown",
   "id": "79ab9665",
   "metadata": {},
   "source": [
    "Стоит заметить, что все остальные столбцы с пропущенными значениями являются категориальными, кроме параметра kilometer, значит их можно либо удалить, либо поставить наиболее популярное значение. Для этого рассмотрим количество уникальных значений в каждом из столбцов:"
   ]
  },
  {
   "cell_type": "code",
   "execution_count": 35,
   "id": "e8b2ac9f",
   "metadata": {},
   "outputs": [
    {
     "data": {
      "text/plain": [
       "dateCrawled            11841\n",
       "name                   35778\n",
       "seller                     2\n",
       "offerType                  2\n",
       "price                   1546\n",
       "abtest                     2\n",
       "vehicleType                8\n",
       "yearOfRegistration        93\n",
       "gearbox                    2\n",
       "powerPS                  394\n",
       "model                    244\n",
       "kilometer                  4\n",
       "monthOfRegistration       13\n",
       "fuelType                   7\n",
       "brand                     40\n",
       "dateCreated               71\n",
       "postalCode              6915\n",
       "lastSeen               10236\n",
       "dtype: int64"
      ]
     },
     "execution_count": 35,
     "metadata": {},
     "output_type": "execute_result"
    }
   ],
   "source": [
    "cars_df.nunique()"
   ]
  },
  {
   "cell_type": "markdown",
   "id": "c7518018",
   "metadata": {},
   "source": [
    "Видим, что наибольший разброс в значениях имеет столбец model - его удаляем, для всех остальных поставим наиболее популярное значение."
   ]
  },
  {
   "cell_type": "code",
   "execution_count": 36,
   "id": "8a2b4659",
   "metadata": {},
   "outputs": [],
   "source": [
    "cars_df.drop(columns=['model'], axis=1, inplace = True)"
   ]
  },
  {
   "cell_type": "code",
   "execution_count": 37,
   "id": "466c4aa0",
   "metadata": {},
   "outputs": [],
   "source": [
    "cars_df.gearbox.fillna(cars_df.gearbox.value_counts()[:1].index.to_list()[0], inplace = True)"
   ]
  },
  {
   "cell_type": "code",
   "execution_count": 38,
   "id": "13273459",
   "metadata": {},
   "outputs": [],
   "source": [
    "cars_df.vehicleType.fillna(cars_df.vehicleType.value_counts()[:1].index.to_list()[0], inplace = True)"
   ]
  },
  {
   "cell_type": "code",
   "execution_count": 39,
   "id": "adfa8a49",
   "metadata": {},
   "outputs": [],
   "source": [
    "cars_df.fuelType.fillna(cars_df.fuelType.value_counts()[:1].index.to_list()[0], inplace = True)"
   ]
  },
  {
   "cell_type": "markdown",
   "id": "a4629aef",
   "metadata": {},
   "source": [
    "В параметре kilometer заменим пропуски на максимальное значение:"
   ]
  },
  {
   "cell_type": "code",
   "execution_count": 40,
   "id": "7a4f7f58",
   "metadata": {},
   "outputs": [],
   "source": [
    "cars_df.kilometer.fillna(cars_df.kilometer.max(), inplace = True)"
   ]
  },
  {
   "cell_type": "markdown",
   "id": "35d3190b",
   "metadata": {},
   "source": [
    "Проверим, что все пропуски пропали:"
   ]
  },
  {
   "cell_type": "code",
   "execution_count": 41,
   "id": "7cb650c4",
   "metadata": {},
   "outputs": [
    {
     "data": {
      "text/plain": [
       "dateCrawled            0\n",
       "name                   0\n",
       "seller                 0\n",
       "offerType              0\n",
       "price                  0\n",
       "abtest                 0\n",
       "vehicleType            0\n",
       "yearOfRegistration     0\n",
       "gearbox                0\n",
       "powerPS                0\n",
       "kilometer              0\n",
       "monthOfRegistration    0\n",
       "fuelType               0\n",
       "brand                  0\n",
       "dateCreated            0\n",
       "postalCode             0\n",
       "lastSeen               0\n",
       "dtype: int64"
      ]
     },
     "execution_count": 41,
     "metadata": {},
     "output_type": "execute_result"
    }
   ],
   "source": [
    "cars_df.isnull().sum()"
   ]
  },
  {
   "cell_type": "markdown",
   "id": "218d171b",
   "metadata": {},
   "source": [
    "Супер!"
   ]
  },
  {
   "cell_type": "code",
   "execution_count": 42,
   "id": "5cfaa346",
   "metadata": {},
   "outputs": [],
   "source": [
    "# Для красоты еще поработаем с датами\n",
    "cars_df.dateCrawled = cars_df.dateCrawled.astype('datetime64[ns]') \n",
    "cars_df.dateCreated = cars_df.dateCreated.astype('datetime64[ns]') \n",
    "cars_df.lastSeen = cars_df.lastSeen.astype('datetime64[ns]') \n",
    "\n",
    "cars_df.dateCrawled = cars_df.dateCrawled.dt.date\n",
    "cars_df.dateCreated = cars_df.dateCreated.dt.date\n",
    "cars_df.lastSeen = cars_df.lastSeen.dt.date"
   ]
  },
  {
   "cell_type": "code",
   "execution_count": 43,
   "id": "7033900a",
   "metadata": {},
   "outputs": [],
   "source": [
    "# Надо еще индекс сбросить\n",
    "cars_df.reset_index(drop=True, inplace=True)"
   ]
  },
  {
   "cell_type": "markdown",
   "id": "969e0a1e",
   "metadata": {},
   "source": [
    "8. Сохраните полученный датасет и выведете его."
   ]
  },
  {
   "cell_type": "code",
   "execution_count": 44,
   "id": "82067017",
   "metadata": {},
   "outputs": [
    {
     "data": {
      "text/html": [
       "<div>\n",
       "<style scoped>\n",
       "    .dataframe tbody tr th:only-of-type {\n",
       "        vertical-align: middle;\n",
       "    }\n",
       "\n",
       "    .dataframe tbody tr th {\n",
       "        vertical-align: top;\n",
       "    }\n",
       "\n",
       "    .dataframe thead th {\n",
       "        text-align: right;\n",
       "    }\n",
       "</style>\n",
       "<table border=\"1\" class=\"dataframe\">\n",
       "  <thead>\n",
       "    <tr style=\"text-align: right;\">\n",
       "      <th></th>\n",
       "      <th>dateCrawled</th>\n",
       "      <th>name</th>\n",
       "      <th>seller</th>\n",
       "      <th>offerType</th>\n",
       "      <th>price</th>\n",
       "      <th>abtest</th>\n",
       "      <th>vehicleType</th>\n",
       "      <th>yearOfRegistration</th>\n",
       "      <th>gearbox</th>\n",
       "      <th>powerPS</th>\n",
       "      <th>kilometer</th>\n",
       "      <th>monthOfRegistration</th>\n",
       "      <th>fuelType</th>\n",
       "      <th>brand</th>\n",
       "      <th>dateCreated</th>\n",
       "      <th>postalCode</th>\n",
       "      <th>lastSeen</th>\n",
       "    </tr>\n",
       "  </thead>\n",
       "  <tbody>\n",
       "    <tr>\n",
       "      <th>0</th>\n",
       "      <td>2016-03-30</td>\n",
       "      <td>Zu_verkaufen</td>\n",
       "      <td>private</td>\n",
       "      <td>offer</td>\n",
       "      <td>8.400884</td>\n",
       "      <td>test</td>\n",
       "      <td>limousine</td>\n",
       "      <td>2003</td>\n",
       "      <td>manual</td>\n",
       "      <td>150</td>\n",
       "      <td>11.918397</td>\n",
       "      <td>1.386294</td>\n",
       "      <td>diesel</td>\n",
       "      <td>bmw</td>\n",
       "      <td>2016-03-30</td>\n",
       "      <td>20257</td>\n",
       "      <td>2016-07-04</td>\n",
       "    </tr>\n",
       "    <tr>\n",
       "      <th>1</th>\n",
       "      <td>2016-07-03</td>\n",
       "      <td>Volvo_XC90_2.4D_Summum</td>\n",
       "      <td>private</td>\n",
       "      <td>offer</td>\n",
       "      <td>9.495519</td>\n",
       "      <td>control</td>\n",
       "      <td>suv</td>\n",
       "      <td>2005</td>\n",
       "      <td>manual</td>\n",
       "      <td>163</td>\n",
       "      <td>11.918397</td>\n",
       "      <td>1.945910</td>\n",
       "      <td>diesel</td>\n",
       "      <td>volvo</td>\n",
       "      <td>2016-07-03</td>\n",
       "      <td>88045</td>\n",
       "      <td>2016-03-26</td>\n",
       "    </tr>\n",
       "    <tr>\n",
       "      <th>2</th>\n",
       "      <td>2016-01-04</td>\n",
       "      <td>Volkswagen_Touran</td>\n",
       "      <td>private</td>\n",
       "      <td>offer</td>\n",
       "      <td>8.071219</td>\n",
       "      <td>test</td>\n",
       "      <td>bus</td>\n",
       "      <td>2003</td>\n",
       "      <td>manual</td>\n",
       "      <td>101</td>\n",
       "      <td>11.918397</td>\n",
       "      <td>2.484907</td>\n",
       "      <td>diesel</td>\n",
       "      <td>volkswagen</td>\n",
       "      <td>2016-03-31</td>\n",
       "      <td>27449</td>\n",
       "      <td>2016-01-04</td>\n",
       "    </tr>\n",
       "    <tr>\n",
       "      <th>3</th>\n",
       "      <td>2016-03-19</td>\n",
       "      <td>Seat_Ibiza_1.4_16V_Reference</td>\n",
       "      <td>private</td>\n",
       "      <td>offer</td>\n",
       "      <td>8.412055</td>\n",
       "      <td>control</td>\n",
       "      <td>small car</td>\n",
       "      <td>2006</td>\n",
       "      <td>manual</td>\n",
       "      <td>86</td>\n",
       "      <td>11.918397</td>\n",
       "      <td>2.564949</td>\n",
       "      <td>petrol</td>\n",
       "      <td>seat</td>\n",
       "      <td>2016-03-19</td>\n",
       "      <td>34537</td>\n",
       "      <td>2016-07-04</td>\n",
       "    </tr>\n",
       "    <tr>\n",
       "      <th>4</th>\n",
       "      <td>2016-02-04</td>\n",
       "      <td>VW_Passat_35i_Facelift_Limousine_TÜV_Neu</td>\n",
       "      <td>private</td>\n",
       "      <td>offer</td>\n",
       "      <td>6.896694</td>\n",
       "      <td>test</td>\n",
       "      <td>limousine</td>\n",
       "      <td>1995</td>\n",
       "      <td>manual</td>\n",
       "      <td>90</td>\n",
       "      <td>11.918397</td>\n",
       "      <td>1.098612</td>\n",
       "      <td>petrol</td>\n",
       "      <td>volkswagen</td>\n",
       "      <td>2016-02-04</td>\n",
       "      <td>26826</td>\n",
       "      <td>2016-02-04</td>\n",
       "    </tr>\n",
       "    <tr>\n",
       "      <th>...</th>\n",
       "      <td>...</td>\n",
       "      <td>...</td>\n",
       "      <td>...</td>\n",
       "      <td>...</td>\n",
       "      <td>...</td>\n",
       "      <td>...</td>\n",
       "      <td>...</td>\n",
       "      <td>...</td>\n",
       "      <td>...</td>\n",
       "      <td>...</td>\n",
       "      <td>...</td>\n",
       "      <td>...</td>\n",
       "      <td>...</td>\n",
       "      <td>...</td>\n",
       "      <td>...</td>\n",
       "      <td>...</td>\n",
       "      <td>...</td>\n",
       "    </tr>\n",
       "    <tr>\n",
       "      <th>46239</th>\n",
       "      <td>2016-03-23</td>\n",
       "      <td>Opel_Astra_G_Caravan__Tuev_2/2018__Scheckheft_...</td>\n",
       "      <td>private</td>\n",
       "      <td>offer</td>\n",
       "      <td>7.736744</td>\n",
       "      <td>test</td>\n",
       "      <td>station wagon</td>\n",
       "      <td>2001</td>\n",
       "      <td>manual</td>\n",
       "      <td>101</td>\n",
       "      <td>11.918397</td>\n",
       "      <td>1.386294</td>\n",
       "      <td>petrol</td>\n",
       "      <td>opel</td>\n",
       "      <td>2016-03-23</td>\n",
       "      <td>27305</td>\n",
       "      <td>2016-04-04</td>\n",
       "    </tr>\n",
       "    <tr>\n",
       "      <th>46240</th>\n",
       "      <td>2016-03-04</td>\n",
       "      <td>Suche_VW_T5_Multivan</td>\n",
       "      <td>private</td>\n",
       "      <td>request</td>\n",
       "      <td>0.000000</td>\n",
       "      <td>test</td>\n",
       "      <td>bus</td>\n",
       "      <td>2005</td>\n",
       "      <td>manual</td>\n",
       "      <td>0</td>\n",
       "      <td>11.918397</td>\n",
       "      <td>0.000000</td>\n",
       "      <td>petrol</td>\n",
       "      <td>volkswagen</td>\n",
       "      <td>2016-03-04</td>\n",
       "      <td>29690</td>\n",
       "      <td>2016-05-04</td>\n",
       "    </tr>\n",
       "    <tr>\n",
       "      <th>46241</th>\n",
       "      <td>2016-03-14</td>\n",
       "      <td>[SUCHE]_BMW_e46_Coupe_330ci_M_Paket_Facelift__...</td>\n",
       "      <td>private</td>\n",
       "      <td>request</td>\n",
       "      <td>0.000000</td>\n",
       "      <td>test</td>\n",
       "      <td>coupe</td>\n",
       "      <td>2004</td>\n",
       "      <td>manual</td>\n",
       "      <td>0</td>\n",
       "      <td>11.918397</td>\n",
       "      <td>0.693147</td>\n",
       "      <td>petrol</td>\n",
       "      <td>bmw</td>\n",
       "      <td>2016-03-14</td>\n",
       "      <td>86956</td>\n",
       "      <td>2016-03-25</td>\n",
       "    </tr>\n",
       "    <tr>\n",
       "      <th>46242</th>\n",
       "      <td>2016-03-15</td>\n",
       "      <td>Verkaufe_mehrere_Fahrzeuge_zum_Verschrotten</td>\n",
       "      <td>commercial</td>\n",
       "      <td>offer</td>\n",
       "      <td>4.615121</td>\n",
       "      <td>control</td>\n",
       "      <td>station wagon</td>\n",
       "      <td>2000</td>\n",
       "      <td>manual</td>\n",
       "      <td>0</td>\n",
       "      <td>11.918397</td>\n",
       "      <td>2.197225</td>\n",
       "      <td>petrol</td>\n",
       "      <td>renault</td>\n",
       "      <td>2016-03-15</td>\n",
       "      <td>65232</td>\n",
       "      <td>2016-06-04</td>\n",
       "    </tr>\n",
       "    <tr>\n",
       "      <th>46243</th>\n",
       "      <td>2016-03-22</td>\n",
       "      <td>Chevrolet_Matiz_1.Hd_TÜV11/2017</td>\n",
       "      <td>commercial</td>\n",
       "      <td>offer</td>\n",
       "      <td>7.003974</td>\n",
       "      <td>test</td>\n",
       "      <td>small car</td>\n",
       "      <td>2006</td>\n",
       "      <td>manual</td>\n",
       "      <td>38</td>\n",
       "      <td>11.918397</td>\n",
       "      <td>2.397895</td>\n",
       "      <td>petrol</td>\n",
       "      <td>chevrolet</td>\n",
       "      <td>2016-03-22</td>\n",
       "      <td>7973</td>\n",
       "      <td>2016-05-04</td>\n",
       "    </tr>\n",
       "  </tbody>\n",
       "</table>\n",
       "<p>46244 rows × 17 columns</p>\n",
       "</div>"
      ],
      "text/plain": [
       "      dateCrawled                                               name  \\\n",
       "0      2016-03-30                                       Zu_verkaufen   \n",
       "1      2016-07-03                             Volvo_XC90_2.4D_Summum   \n",
       "2      2016-01-04                                  Volkswagen_Touran   \n",
       "3      2016-03-19                       Seat_Ibiza_1.4_16V_Reference   \n",
       "4      2016-02-04           VW_Passat_35i_Facelift_Limousine_TÜV_Neu   \n",
       "...           ...                                                ...   \n",
       "46239  2016-03-23  Opel_Astra_G_Caravan__Tuev_2/2018__Scheckheft_...   \n",
       "46240  2016-03-04                               Suche_VW_T5_Multivan   \n",
       "46241  2016-03-14  [SUCHE]_BMW_e46_Coupe_330ci_M_Paket_Facelift__...   \n",
       "46242  2016-03-15        Verkaufe_mehrere_Fahrzeuge_zum_Verschrotten   \n",
       "46243  2016-03-22                    Chevrolet_Matiz_1.Hd_TÜV11/2017   \n",
       "\n",
       "           seller offerType     price   abtest    vehicleType  \\\n",
       "0         private     offer  8.400884     test      limousine   \n",
       "1         private     offer  9.495519  control            suv   \n",
       "2         private     offer  8.071219     test            bus   \n",
       "3         private     offer  8.412055  control      small car   \n",
       "4         private     offer  6.896694     test      limousine   \n",
       "...           ...       ...       ...      ...            ...   \n",
       "46239     private     offer  7.736744     test  station wagon   \n",
       "46240     private   request  0.000000     test            bus   \n",
       "46241     private   request  0.000000     test          coupe   \n",
       "46242  commercial     offer  4.615121  control  station wagon   \n",
       "46243  commercial     offer  7.003974     test      small car   \n",
       "\n",
       "       yearOfRegistration gearbox  powerPS  kilometer  monthOfRegistration  \\\n",
       "0                    2003  manual      150  11.918397             1.386294   \n",
       "1                    2005  manual      163  11.918397             1.945910   \n",
       "2                    2003  manual      101  11.918397             2.484907   \n",
       "3                    2006  manual       86  11.918397             2.564949   \n",
       "4                    1995  manual       90  11.918397             1.098612   \n",
       "...                   ...     ...      ...        ...                  ...   \n",
       "46239                2001  manual      101  11.918397             1.386294   \n",
       "46240                2005  manual        0  11.918397             0.000000   \n",
       "46241                2004  manual        0  11.918397             0.693147   \n",
       "46242                2000  manual        0  11.918397             2.197225   \n",
       "46243                2006  manual       38  11.918397             2.397895   \n",
       "\n",
       "      fuelType       brand dateCreated  postalCode    lastSeen  \n",
       "0       diesel         bmw  2016-03-30       20257  2016-07-04  \n",
       "1       diesel       volvo  2016-07-03       88045  2016-03-26  \n",
       "2       diesel  volkswagen  2016-03-31       27449  2016-01-04  \n",
       "3       petrol        seat  2016-03-19       34537  2016-07-04  \n",
       "4       petrol  volkswagen  2016-02-04       26826  2016-02-04  \n",
       "...        ...         ...         ...         ...         ...  \n",
       "46239   petrol        opel  2016-03-23       27305  2016-04-04  \n",
       "46240   petrol  volkswagen  2016-03-04       29690  2016-05-04  \n",
       "46241   petrol         bmw  2016-03-14       86956  2016-03-25  \n",
       "46242   petrol     renault  2016-03-15       65232  2016-06-04  \n",
       "46243   petrol   chevrolet  2016-03-22        7973  2016-05-04  \n",
       "\n",
       "[46244 rows x 17 columns]"
      ]
     },
     "execution_count": 44,
     "metadata": {},
     "output_type": "execute_result"
    }
   ],
   "source": [
    "cars_df.to_csv('final_cars_df.csv')\n",
    "cars_df"
   ]
  },
  {
   "cell_type": "markdown",
   "id": "ee106862",
   "metadata": {},
   "source": [
    "Спонсор работы на майских праздниках - ангина. Ангина и температура 39.9"
   ]
  }
 ],
 "metadata": {
  "kernelspec": {
   "display_name": "Python 3 (ipykernel)",
   "language": "python",
   "name": "python3"
  },
  "language_info": {
   "codemirror_mode": {
    "name": "ipython",
    "version": 3
   },
   "file_extension": ".py",
   "mimetype": "text/x-python",
   "name": "python",
   "nbconvert_exporter": "python",
   "pygments_lexer": "ipython3",
   "version": "3.9.7"
  }
 },
 "nbformat": 4,
 "nbformat_minor": 5
}
